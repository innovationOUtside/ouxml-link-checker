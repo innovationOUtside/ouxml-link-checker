{
 "cells": [
  {
   "cell_type": "markdown",
   "id": "exciting-appraisal",
   "metadata": {},
   "source": [
    "# Link Checker for Links in OU-XML Documents\n",
    "\n",
    "The OU-XML document format is used to act as a gold master document for teaching materials published on the OU VLE and elsewhere.\n",
    "\n",
    "This script can be used to extract and check links referenced within OU-XML documents.\n",
    "\n",
    "Reports are generated as CSV files (`.csv` file suffix) that may be viewed in a text editor, or loaded into a spreadsheet application."
   ]
  },
  {
   "cell_type": "markdown",
   "id": "perfect-short",
   "metadata": {},
   "source": [
    "## Utility Functions\n",
    "\n",
    "Some utility functions for working with the OU-XML document and processing XML tags."
   ]
  },
  {
   "cell_type": "code",
   "execution_count": 23,
   "id": "peripheral-oasis",
   "metadata": {},
   "outputs": [],
   "source": [
    "# Extract all the text inside a tag, include text inside child tags\n",
    "\n",
    "import unicodedata\n",
    "\n",
    "def flatten(el):\n",
    "    ''' Utility function for flattening XML tags. '''\n",
    "    if el is None: return\n",
    "    result = [ (el.text or \"\") ]\n",
    "    for sel in el:\n",
    "        result.append(flatten(sel))\n",
    "        result.append(sel.tail or \"\")\n",
    "    return unicodedata.normalize(\"NFKD\", \"\".join(result)) or ' '"
   ]
  },
  {
   "cell_type": "markdown",
   "id": "organized-payday",
   "metadata": {},
   "source": [
    "Iterating through a list of links and making a web request for each one can happen quickly, especially if we are just requesting page headers and not the complete contents of a page.\n",
    "\n",
    "A trick many screenscrapers use is to add a small delay between requests, often randomising the delay times to make it less obvious that a scrape is in play. THhe following function gives a minimal function that helps us play nice when creating lots of web requests."
   ]
  },
  {
   "cell_type": "code",
   "execution_count": null,
   "id": "straight-invalid",
   "metadata": {},
   "outputs": [],
   "source": [
    "# Wait for a short random interval\n",
    "# This is so we don't clobber a particular website or the network too badly!\n",
    "\n",
    "import time\n",
    "from random import random\n",
    "\n",
    "def play_nice(delay=0.1, min_delay=0.01):\n",
    "    \"\"\"Add a random delay between consecutive web requests.\"\"\"\n",
    "    # It would probably make more sense to do this to throttle multiple requests to the same domain\n",
    "    time.sleep(min_delay + delay*random())"
   ]
  },
  {
   "cell_type": "markdown",
   "id": "demanding-rescue",
   "metadata": {},
   "source": [
    "We're going to want to get lists of XML files somehow; the following function will grab the names of files with a particular file suffix (by default, `.xml`) from a directory with a specified path:"
   ]
  },
  {
   "cell_type": "code",
   "execution_count": 15,
   "id": "charged-expert",
   "metadata": {},
   "outputs": [],
   "source": [
    "# Get a list of xml files in a folder/directory\n",
    "\n",
    "import os\n",
    "from pathlib import Path\n",
    "\n",
    "def get_xml_files(path_str='.', suffix='.xml'):\n",
    "    path = Path(path_str)\n",
    "    docs = [path/x for x in os.listdir(path) if x.endswith(suffix)]\n",
    "    return docs"
   ]
  },
  {
   "cell_type": "code",
   "execution_count": 16,
   "id": "eastern-kruger",
   "metadata": {
    "tags": [
     "active-ipynb"
    ]
   },
   "outputs": [
    {
     "data": {
      "text/plain": [
       "[PosixPath('xml_test/tm351-week3.xml'), PosixPath('xml_test/tm351-week5.xml')]"
      ]
     },
     "execution_count": 16,
     "metadata": {},
     "output_type": "execute_result"
    }
   ],
   "source": [
    "# Example usage\n",
    "get_xml_files('./xml_test')"
   ]
  },
  {
   "cell_type": "markdown",
   "id": "current-monaco",
   "metadata": {},
   "source": [
    "A nod to user feedback on long running jobs where we are perhaps waiting for lots of links to be tested, the `tqdm` package provides a simple way to create progress bars."
   ]
  },
  {
   "cell_type": "code",
   "execution_count": 100,
   "id": "ready-immigration",
   "metadata": {},
   "outputs": [],
   "source": [
    "# Import a package that displays progress bars nicely\n",
    "from tqdm import tqdm"
   ]
  },
  {
   "cell_type": "markdown",
   "id": "controversial-california",
   "metadata": {},
   "source": [
    "## Extract Information From OU-XML\n",
    "\n",
    "Tool(s) to extract links and other information from OU-XML documents."
   ]
  },
  {
   "cell_type": "markdown",
   "id": "royal-manchester",
   "metadata": {},
   "source": [
    "To make use of the XML content in a document, we need to open the document, read its contents and then parse it into a strcuture we can work with. Sometimes, we need to clean the document text up a bit before we can parse it..."
   ]
  },
  {
   "cell_type": "code",
   "execution_count": 17,
   "id": "disabled-inclusion",
   "metadata": {},
   "outputs": [],
   "source": [
    "# Open an XML file/document, read its contents and parse them as an XML etree object\n",
    "\n",
    "from lxml import etree\n",
    "\n",
    "def get_xml_from_doc(doc, clean=True):\n",
    "    \"\"\"Read file and parse as XML object.\"\"\"\n",
    "    xml = doc.read_text()\n",
    "    \n",
    "    if clean:\n",
    "        for cleaner in ['<?sc-transform-do-oumusic-to-unicode?>',\n",
    "                        '<?sc-transform-do-oxy-pi?>',\n",
    "                        '<?xml version=\"1.0\" encoding=\"utf-8\"?>',\n",
    "                        '<?xml version=\"1.0\" encoding=\"UTF-8\"?>',\n",
    "                        '<?xml version=\"1.0\" encoding=\"UTF-8\" standalone=\"no\"?>']:\n",
    "            xml = xml.replace(cleaner, '')\n",
    "            \n",
    "    xml_root = etree.fromstring(xml)\n",
    "    return xml_root"
   ]
  },
  {
   "cell_type": "markdown",
   "id": "sharing-house",
   "metadata": {},
   "source": [
    "Having got the XML into a structure we can work with, we can start to treat it like a simple database from which we can extract different sorts of infomration.\n",
    "\n",
    "OU-XML documents are structured in a particular way, so we can use prior knowledge of that structure to do things like pull out a course/module code and name, as well as the names of different sections in the document. We can use this information to help us report on where in a document we might find a particular broken link if we do discover that it is broken and in need of repair...\n",
    "\n",
    "We also want to extract the links referenced in the document; that is the point of this recipe, after all..."
   ]
  },
  {
   "cell_type": "code",
   "execution_count": 93,
   "id": "decent-factory",
   "metadata": {},
   "outputs": [],
   "source": [
    "# Extract metadata and links from a parsed OU-XML document\n",
    "\n",
    "def parse_ouxml_metadata(courseRoot):\n",
    "    \"\"\"Extract some metadata from the OU-XML file.\"\"\"\n",
    "    _coursecode = courseRoot.find('.//CourseCode')\n",
    "    coursecode = flatten(_coursecode)\n",
    "    _coursetitle = courseRoot.find('.//CourseTitle')\n",
    "    coursetitle = flatten(_coursetitle)\n",
    "\n",
    "    _itemtitle = courseRoot.find('.//ItemTitle')\n",
    "    itemtitle = flatten(_itemtitle)\n",
    "\n",
    "    metadata = {'coursecode': coursecode,\n",
    "                'coursetitle': coursetitle,\n",
    "                'itemtitle': itemtitle,\n",
    "               }\n",
    "    return metadata\n",
    "\n",
    "\n",
    "def extract_links_from_doc(courseRoot, unique_links=None):\n",
    "    \"\"\"Extract links from OU-XML document.\"\"\"\n",
    "    unique_links = [] if unique_links is None else unique_links\n",
    "    links = {}\n",
    "\n",
    "    # Grab some metadata\n",
    "    metadata = parse_ouxml_metadata(courseRoot)\n",
    "    sessions = courseRoot.findall('.//Session')\n",
    "    \n",
    "    for session in sessions:\n",
    "        _links = []\n",
    "        session_title = flatten(session.find('.//Title'))\n",
    "        \n",
    "        for l in session.findall('.//a'):\n",
    "            _lhref = l.get('href').replace('.libezproxy.open.ac.uk','')\n",
    "            if l not in unique_links:\n",
    "                unique_links.append(_lhref)\n",
    "                _links.append((flatten(l), _lhref))\n",
    "\n",
    "        links[session_title] = _links\n",
    "\n",
    "    # <BackMatter>\n",
    "    backmatter = courseRoot.find('.//BackMatter')\n",
    "    _links = []\n",
    "    for l in backmatter.findall('.//a'):\n",
    "        _lhref = l.get('href').replace('.libezproxy.open.ac.uk','')\n",
    "        if l not in unique_links:\n",
    "            unique_links.append(_lhref)\n",
    "            _links.append((flatten(l), _lhref))\n",
    "    links['BackMatter'] = _links\n",
    "    \n",
    "    doc_links = {'metadata': metadata, 'sessions': links}\n",
    "    \n",
    "    return doc_links, unique_links"
   ]
  },
  {
   "cell_type": "markdown",
   "id": "conceptual-republic",
   "metadata": {},
   "source": [
    "We can extract the links from a set of documents by extracting the links from each separate document in turn.\n",
    "\n",
    "For convenience, we return two objects:\n",
    "\n",
    "- a growing list of unique URLs we need to test;\n",
    "- a list of URLs associated with each OU-XML document, broken down by session.\n",
    "\n",
    "Note: there is also the notion of a `Unit` block element in the OU-XML definition but that is not currently parsed as a particular unit of organisation."
   ]
  },
  {
   "cell_type": "code",
   "execution_count": 131,
   "id": "generous-netherlands",
   "metadata": {},
   "outputs": [],
   "source": [
    "# Extract all the links from a set of documents\n",
    "\n",
    "def extract_links_from_docs(docs):\n",
    "    \"\"\"Process a set of OU-XML documents and extract unique links from them all.\"\"\"\n",
    "    docs = docs if isinstance(docs, list) else [docs]\n",
    "    unique_links = []\n",
    "    doc_links = []\n",
    "    for doc in docs:\n",
    "        xml = get_xml_from_doc(doc)\n",
    "        _doc_links, unique_links = extract_links_from_doc(xml, unique_links)\n",
    "        _doc_links['metadata']['file'] = str(doc)\n",
    "        doc_links.append(_doc_links)\n",
    "        \n",
    "    return doc_links, unique_links"
   ]
  },
  {
   "cell_type": "code",
   "execution_count": 132,
   "id": "better-billion",
   "metadata": {
    "tags": [
     "active-ipynb"
    ]
   },
   "outputs": [
    {
     "data": {
      "text/plain": [
       "(['http://library.open.ac.uk',\n",
       "  'https://www.open.ac.uk/libraryservices/resource/website:104152&f=28335',\n",
       "  'https://www.open.ac.uk/libraryservices/resource/website:104153&f=28335',\n",
       "  'https://www.open.ac.uk/libraryservices/resource/website:104154&f=28335',\n",
       "  'https://www.open.ac.uk/libraryservices/resource/website:104223&f=28335',\n",
       "  'https://www.open.ac.uk/libraryservices/resource/website:104155&f=28335',\n",
       "  'http://www.digitalhealth.net/news/25742/',\n",
       "  'http://edition.cnn.com/TECH/space/9909/30/mars.metric/',\n",
       "  'https://www.gov.uk/government/uploads/system/uploads/attachment_data/file/213809/dh_120579.pdf',\n",
       "  'https://www.youtube.com/watch?v=k4gj_RdtKCw',\n",
       "  'https://github.com/drichard/mindmaps',\n",
       "  'http://blog.ouseful.info/2012/02/03/several-takes-on-the-definition-of-data-laundering/',\n",
       "  'http://blog.ouseful.info/2013/05/03/a-wrangling-example-with-openrefine-making-ready-data/',\n",
       "  'http://dc-pubs.dbs.uni-leipzig.de/files/Rahm2000DataCleaningProblemsand.pdf',\n",
       "  'http://www.nytimes.com/2006/02/15/national/15house.html?_r=0',\n",
       "  'http://www.nwitimes.com/news/local/a-million-home/article_899b39b3-fbdf-522f-a6fc-e8ae73eb8c96.html',\n",
       "  'http://www.thedoghousediaries.com/1406',\n",
       "  'http://www.pbs.org/mediashift/2014/07/take-an-interviewing-approach-to-find-stories-in-data/',\n",
       "  'http://nbviewer.IPython.org/gist/psychemedia/c1ac132946fa120cad91',\n",
       "  'http://www.tableau.com/',\n",
       "  'http://www.theguardian.com/world/datablog/interactive/2010/jul/25/afghanistan-war-logs-events',\n",
       "  'http://www.theguardian.com/news/datablog/interactive/2011/aug/10/poverty-riots-mapped',\n",
       "  'http://www.nytimes.com/interactive/2013/02/19/movies/awardsseason/oscar-trailers.html?_r=1&',\n",
       "  'http://www.slate.com/blogs/future_tense/2014/03/17/quakebot_los_angeles_times_robot_journalist_writes_article_on_la_earthquake.html',\n",
       "  'http://www.open.edu/openlearnworks/mod/oucontent/view.php?id=13363&section=5.3',\n",
       "  'http://www.open.edu/openlearnworks/mod/oucontent/view.php?id=13363&section=5.4',\n",
       "  'http://www.open.edu/openlearn/science-maths-technology/mathematics-and-statistics/statistics/diary-data-sleuth-when-the-data-you-dont-collect-affects-the-data-you-do ',\n",
       "  'http://www.datavizcatalogue.com/',\n",
       "  'http://www.visual-literacy.org/periodic_table/periodic_table.html',\n",
       "  'https://www.mapbox.com/labs/twitter-gnip/locals/#12/52.0415/-0.7400',\n",
       "  'http://www.ons.gov.uk/ons/rel/rdit1/gross-domestic-expenditure-on-research-and-development/2013/sty-gerd-2013.html',\n",
       "  'http://stanford.edu/~mwaskom/software/seaborn/',\n",
       "  'http://tomhopper.me/2014/03/28/a-simple-introduction-to-the-graphing-philosophy-of-ggplot2/',\n",
       "  'https://www.nature.com/articles/d41586-018-07196-1',\n",
       "  'http://ieeexplore.ieee.org/xpl/articleDetails.jsp?arnumber=6412677',\n",
       "  'http://mastersofmedia.hum.uva.nl/2011/05/03/narrative-structures-in-data-visualizations-to-improve-storytelling/',\n",
       "  'http://ieeexplore.ieee.org/xpl/articleDetails.jsp?arnumber=5613452',\n",
       "  'http://steiny.typepad.com/premise/2012/01/the-two-types-of-data-visualisation-and-why-it-matters-to-understand-the-difference.html',\n",
       "  'http://www.jstor.org/stable/2245820?seq=1#page_scan_tab_contents',\n",
       "  'http://jakevdp.github.io/blog/2013/12/05/static-interactive-widgets/',\n",
       "  'http://www.tandfonline.com/doi/abs/10.1198/jcgs.2009.07098',\n",
       "  'http://dx.doi.org/10.1007/0-387-28695-0',\n",
       "  'http://www.scholarpedia.org/article/Gestalt_principles',\n",
       "  'http://www.researchgate.net/publication/235351120_Towards_a_Unifying_Visualization_Ontology',\n",
       "  'http://ieeexplore.ieee.org/xpl/articleDetails.jsp?arnumber=885092',\n",
       "  'http://ieeexplore.ieee.org/xpl/articleDetails.jsp?arnumber=636792',\n",
       "  'http://ieeexplore.ieee.org/xpl/articleDetails.jsp?arnumber=5290695',\n",
       "  'http://www.sonification.de/publications/media/HermannRitter1999-LTY.pdf',\n",
       "  'http://www.sonification.de/projects/ISIMADE/index.html',\n",
       "  'http://earthzine.org/2013/07/23/sonification-data-like-youve-never-heard-before/',\n",
       "  'http://ieeexplore.ieee.org/xpl/articleDetails.jsp?arnumber=4376143',\n",
       "  'http://dl.acm.org/citation.cfm?doid=1753326.1753716',\n",
       "  'http://ieeexplore.ieee.org/xpl/articleDetails.jsp?arnumber=6327281',\n",
       "  'http://www.thefunctionalart.com/2014/08/to-make-visualizations-that-are.html',\n",
       "  'http://www.socialinnovationexchange.org/categories/read/participatory-mapping-as-a-social-digital-tool',\n",
       "  'http://www.blog.theteamw.com/2010/12/02/100-things-you-should-know-about-people-48-what-you-see-is-not-what-your-brain-gets/',\n",
       "  'https://commons.wikimedia.org/wiki/File:Gestalt.svg',\n",
       "  'http://creativecommons.org/licenses/by/3.0/',\n",
       "  'http://jthsinstructionaltechnology.blogspot.co.uk/2012/10/infographics-explained-and-why-you.html',\n",
       "  'http://iew.technion.ac.il/newsletter/en/home/17-march14/18-prof-avi-parush,-big-data-to-big-picture-consider-some-fundamentals-of-human-visual-perception.html',\n",
       "  'http://extremepresentation.typepad.com/blog/2006/09/choosing_a_good.html'],\n",
       " [{'metadata': {'coursecode': 'TM351',\n",
       "    'coursetitle': 'Data management and analysis',\n",
       "    'itemtitle': 'Part 3 Data preparation',\n",
       "    'file': 'xml_test/tm351-week3.xml'},\n",
       "   'sessions': {'1 Introduction': [],\n",
       "    '2 Data cleansing': [('Open University Library',\n",
       "      'http://library.open.ac.uk'),\n",
       "     ('Inquiry into transplant database errors',\n",
       "      'https://www.open.ac.uk/libraryservices/resource/website:104152&f=28335'),\n",
       "     ('Review of the Organ Donor Register',\n",
       "      'https://www.open.ac.uk/libraryservices/resource/website:104153&f=28335'),\n",
       "     ('Several takes on the notion of “data laundering”',\n",
       "      'https://www.open.ac.uk/libraryservices/resource/website:104154&f=28335')],\n",
       "    '3 Data integration and transformation': [('Recap – Python',\n",
       "      'https://www.open.ac.uk/libraryservices/resource/website:104223&f=28335')],\n",
       "    '4 Coping with missing or invalid data elements': [],\n",
       "    '5 Bringing it all together': [('A wrangling example with OpenRefine: making “oven ready data”',\n",
       "      'https://www.open.ac.uk/libraryservices/resource/website:104155&f=28335')],\n",
       "    '6 Summary': [],\n",
       "    'BackMatter': [('http://www.digitalhealth.net/news/25742/',\n",
       "      'http://www.digitalhealth.net/news/25742/'),\n",
       "     ('http://edition.cnn.com/TECH/space/9909/30/mars.metric/',\n",
       "      'http://edition.cnn.com/TECH/space/9909/30/mars.metric/'),\n",
       "     ('https://www.gov.uk/government/uploads/system/uploads/attachment_data/file/213809/dh_120579.pdf',\n",
       "      'https://www.gov.uk/government/uploads/system/uploads/attachment_data/file/213809/dh_120579.pdf'),\n",
       "     ('https://www.youtube.com/watch?v=k4gj_RdtKCw',\n",
       "      'https://www.youtube.com/watch?v=k4gj_RdtKCw'),\n",
       "     ('https://github.com/drichard/mindmaps',\n",
       "      'https://github.com/drichard/mindmaps'),\n",
       "     ('http://blog.ouseful.info/2012/02/03/several-takes-on-the-definition-of-data-laundering/',\n",
       "      'http://blog.ouseful.info/2012/02/03/several-takes-on-the-definition-of-data-laundering/'),\n",
       "     ('http://blog.ouseful.info/2013/05/03/a-wrangling-example-with-openrefine-making-ready-data/',\n",
       "      'http://blog.ouseful.info/2013/05/03/a-wrangling-example-with-openrefine-making-ready-data/'),\n",
       "     ('http://dc-pubs.dbs.uni-leipzig.de/files/Rahm2000DataCleaningProblemsand.pdf',\n",
       "      'http://dc-pubs.dbs.uni-leipzig.de/files/Rahm2000DataCleaningProblemsand.pdf'),\n",
       "     ('http://www.nytimes.com/2006/02/15/national/15house.html?_r=0',\n",
       "      'http://www.nytimes.com/2006/02/15/national/15house.html?_r=0'),\n",
       "     ('http://www.nwitimes.com/news/local/a-million-home/article_899b39b3-fbdf-522f-a6fc-e8ae73eb8c96.html',\n",
       "      'http://www.nwitimes.com/news/local/a-million-home/article_899b39b3-fbdf-522f-a6fc-e8ae73eb8c96.html'),\n",
       "     ('http://www.thedoghousediaries.com/1406',\n",
       "      'http://www.thedoghousediaries.com/1406')]}},\n",
       "  {'metadata': {'coursecode': 'TM351',\n",
       "    'coursetitle': 'Data management and analysis',\n",
       "    'itemtitle': 'Part 5 Presentation: telling the story',\n",
       "    'file': 'xml_test/tm351-week5.xml'},\n",
       "   'sessions': {'1 Introduction': [],\n",
       "    '2 Data investigation: telling the story (or stories)': [],\n",
       "    '3 Finding the story': [('Take an Interviewing Approach to Find Stories in Data',\n",
       "      'http://www.pbs.org/mediashift/2014/07/take-an-interviewing-approach-to-find-stories-in-data/'),\n",
       "     ('Quick investigation – road traffic accidents in Milton Keynes',\n",
       "      'http://nbviewer.IPython.org/gist/psychemedia/c1ac132946fa120cad91'),\n",
       "     ('Tableau', 'http://www.tableau.com/'),\n",
       "     ('Afghanistan war logs: our selection of significant incidents',\n",
       "      'http://www.theguardian.com/world/datablog/interactive/2010/jul/25/afghanistan-war-logs-events'),\n",
       "     ('Mapping the riots with poverty',\n",
       "      'http://www.theguardian.com/news/datablog/interactive/2011/aug/10/poverty-riots-mapped'),\n",
       "     ('Dissecting a Trailer: The Parts of the Film That Make the Cut',\n",
       "      'http://www.nytimes.com/interactive/2013/02/19/movies/awardsseason/oscar-trailers.html?_r=1&'),\n",
       "     ('The First News Report on the L.A. Earthquake [17 March 2014] Was Written by a Robot',\n",
       "      'http://www.slate.com/blogs/future_tense/2014/03/17/quakebot_los_angeles_times_robot_journalist_writes_article_on_la_earthquake.html'),\n",
       "     ('In defence of statistics',\n",
       "      'http://www.open.edu/openlearnworks/mod/oucontent/view.php?id=13363&section=5.3'),\n",
       "     ('Tactics of persuasion',\n",
       "      'http://www.open.edu/openlearnworks/mod/oucontent/view.php?id=13363&section=5.4'),\n",
       "     ('When the data you don’t collect affects the data you do',\n",
       "      'http://www.open.edu/openlearn/science-maths-technology/mathematics-and-statistics/statistics/diary-data-sleuth-when-the-data-you-dont-collect-affects-the-data-you-do ')],\n",
       "    '4 Visualising the story': [('The Data Visualisation Catalogue',\n",
       "      'http://www.datavizcatalogue.com/'),\n",
       "     ('A Periodic Table of Visualization Methods',\n",
       "      'http://www.visual-literacy.org/periodic_table/periodic_table.html'),\n",
       "     ('https://www.mapbox.com/labs/twitter-gnip/locals/#12/52.0415/-0.7400',\n",
       "      'https://www.mapbox.com/labs/twitter-gnip/locals/#12/52.0415/-0.7400'),\n",
       "     ('http://www.ons.gov.uk/ons/rel/rdit1/gross-domestic-expenditure-on-research-and-development/2013/sty-gerd-2013.html',\n",
       "      'http://www.ons.gov.uk/ons/rel/rdit1/gross-domestic-expenditure-on-research-and-development/2013/sty-gerd-2013.html'),\n",
       "     ('seaborn', 'http://stanford.edu/~mwaskom/software/seaborn/'),\n",
       "     ('A Simple Introduction to the Graphing Philosophy of ggplot2',\n",
       "      'http://tomhopper.me/2014/03/28/a-simple-introduction-to-the-graphing-philosophy-of-ggplot2/')],\n",
       "    '5 Reporting the story': [('Why Jupyter is data scientists’ computational notebook of choice',\n",
       "      'https://www.nature.com/articles/d41586-018-07196-1')],\n",
       "    '6 Summary': [],\n",
       "    'BackMatter': [('http://ieeexplore.ieee.org.libezproxy.open.ac.uk/xpl/articleDetails.jsp?arnumber=6412677',\n",
       "      'http://ieeexplore.ieee.org/xpl/articleDetails.jsp?arnumber=6412677'),\n",
       "     ('http://mastersofmedia.hum.uva.nl/2011/05/03/narrative-structures-in-data-visualizations-to-improve-storytelling/',\n",
       "      'http://mastersofmedia.hum.uva.nl/2011/05/03/narrative-structures-in-data-visualizations-to-improve-storytelling/'),\n",
       "     ('http://ieeexplore.ieee.org.libezproxy.open.ac.uk/xpl/articleDetails.jsp?arnumber=5613452',\n",
       "      'http://ieeexplore.ieee.org/xpl/articleDetails.jsp?arnumber=5613452'),\n",
       "     ('http://steiny.typepad.com/premise/2012/01/the-two-types-of-data-visualisation-and-why-it-matters-to-understand-the-difference.html',\n",
       "      'http://steiny.typepad.com/premise/2012/01/the-two-types-of-data-visualisation-and-why-it-matters-to-understand-the-difference.html'),\n",
       "     ('http://www.jstor.org.libezproxy.open.ac.uk/stable/2245820?seq=1#page_scan_tab_contents',\n",
       "      'http://www.jstor.org/stable/2245820?seq=1#page_scan_tab_contents'),\n",
       "     ('http://jakevdp.github.io/blog/2013/12/05/static-interactive-widgets/',\n",
       "      'http://jakevdp.github.io/blog/2013/12/05/static-interactive-widgets/'),\n",
       "     ('http://www.tandfonline.com.libezproxy.open.ac.uk/doi/abs/10.1198/jcgs.2009.07098',\n",
       "      'http://www.tandfonline.com/doi/abs/10.1198/jcgs.2009.07098'),\n",
       "     ('10.1007/0-387-28695-0', 'http://dx.doi.org/10.1007/0-387-28695-0'),\n",
       "     ('http://www.scholarpedia.org/article/Gestalt_principles',\n",
       "      'http://www.scholarpedia.org/article/Gestalt_principles'),\n",
       "     ('http://www.researchgate.net/publication/235351120_Towards_a_Unifying_Visualization_Ontology',\n",
       "      'http://www.researchgate.net/publication/235351120_Towards_a_Unifying_Visualization_Ontology'),\n",
       "     ('http://ieeexplore.ieee.org.libezproxy.open.ac.uk/xpl/articleDetails.jsp?arnumber=885092',\n",
       "      'http://ieeexplore.ieee.org/xpl/articleDetails.jsp?arnumber=885092'),\n",
       "     ('http://ieeexplore.ieee.org.libezproxy.open.ac.uk/xpl/articleDetails.jsp?arnumber=636792',\n",
       "      'http://ieeexplore.ieee.org/xpl/articleDetails.jsp?arnumber=636792'),\n",
       "     ('http://ieeexplore.ieee.org.libezproxy.open.ac.uk/xpl/articleDetails.jsp?arnumber=5290695',\n",
       "      'http://ieeexplore.ieee.org/xpl/articleDetails.jsp?arnumber=5290695'),\n",
       "     ('http://www.sonification.de/publications/media/HermannRitter1999-LTY.pdf',\n",
       "      'http://www.sonification.de/publications/media/HermannRitter1999-LTY.pdf'),\n",
       "     ('http://www.sonification.de/projects/ISIMADE/index.html',\n",
       "      'http://www.sonification.de/projects/ISIMADE/index.html'),\n",
       "     ('http://earthzine.org/2013/07/23/sonification-data-like-youve-never-heard-before/',\n",
       "      'http://earthzine.org/2013/07/23/sonification-data-like-youve-never-heard-before/'),\n",
       "     ('http://ieeexplore.ieee.org.libezproxy.open.ac.uk/xpl/articleDetails.jsp?arnumber=4376143',\n",
       "      'http://ieeexplore.ieee.org/xpl/articleDetails.jsp?arnumber=4376143'),\n",
       "     ('http://dl.acm.org.libezproxy.open.ac.uk/citation.cfm?doid=1753326.1753716',\n",
       "      'http://dl.acm.org/citation.cfm?doid=1753326.1753716'),\n",
       "     ('http://ieeexplore.ieee.org.libezproxy.open.ac.uk/xpl/articleDetails.jsp?arnumber=6327281',\n",
       "      'http://ieeexplore.ieee.org/xpl/articleDetails.jsp?arnumber=6327281'),\n",
       "     ('http://www.thefunctionalart.com/2014/08/to-make-visualizations-that-are.html',\n",
       "      'http://www.thefunctionalart.com/2014/08/to-make-visualizations-that-are.html'),\n",
       "     ('http://www.socialinnovationexchange.org/categories/read/participatory-mapping-as-a-social-digital-tool',\n",
       "      'http://www.socialinnovationexchange.org/categories/read/participatory-mapping-as-a-social-digital-tool'),\n",
       "     ('http://www.blog.theteamw.com/2010/12/02/100-things-you-should-know-about-people-48-what-you-see-is-not-what-your-brain-gets/',\n",
       "      'http://www.blog.theteamw.com/2010/12/02/100-things-you-should-know-about-people-48-what-you-see-is-not-what-your-brain-gets/'),\n",
       "     ('https://commons.wikimedia.org/wiki/File:Gestalt.svg',\n",
       "      'https://commons.wikimedia.org/wiki/File:Gestalt.svg'),\n",
       "     ('http://creativecommons.org/licenses/by/3.0/',\n",
       "      'http://creativecommons.org/licenses/by/3.0/'),\n",
       "     ('http://jthsinstructionaltechnology.blogspot.co.uk/2012/10/infographics-explained-and-why-you.html',\n",
       "      'http://jthsinstructionaltechnology.blogspot.co.uk/2012/10/infographics-explained-and-why-you.html'),\n",
       "     ('http://iew.technion.ac.il/newsletter/en/home/17-march14/18-prof-avi-parush,-big-data-to-big-picture-consider-some-fundamentals-of-human-visual-perception.html',\n",
       "      'http://iew.technion.ac.il/newsletter/en/home/17-march14/18-prof-avi-parush,-big-data-to-big-picture-consider-some-fundamentals-of-human-visual-perception.html'),\n",
       "     ('http://extremepresentation.typepad.com/blog/2006/09/choosing_a_good.html',\n",
       "      'http://extremepresentation.typepad.com/blog/2006/09/choosing_a_good.html')]}}])"
      ]
     },
     "execution_count": 132,
     "metadata": {},
     "output_type": "execute_result"
    }
   ],
   "source": [
    "docs = get_xml_files('./xml_test')\n",
    "doc_links, unique_links = extract_links_from_docs(docs)\n",
    "\n",
    "unique_links, doc_links"
   ]
  },
  {
   "cell_type": "markdown",
   "id": "compound-clark",
   "metadata": {},
   "source": [
    "## Link Checker\n",
    "\n",
    "A simple routine to check links. The link check will report on:\n",
    "\n",
    "- broken links (404);\n",
    "- temporary and permanent redirects;\n",
    "- links using OU authentication (libezproxy; link domains are suffixed by `.libezproxy.open.ac.uk`) will have the libezproxy component stripped;\n",
    "- links using liblinks (of the form `https://www.open.ac.uk/libraryservices/resource/website:ID&amp;f=FID`; the `f=FID` seems redundant - what does it do?)\n",
    "\n",
    "*TO DO: where appropriate/informative, consider reports for the full range of [`2xx` success](https://en.wikipedia.org/wiki/List_of_HTTP_status_codes#2xx_success) reponse codes, [`3xx` redirection](https://en.wikipedia.org/wiki/List_of_HTTP_status_codes#3xx_redirection) codes, [`4xx` client error](https://en.wikipedia.org/wiki/List_of_HTTP_status_codes#4xx_client_errors) codes and [`5xx` server error](https://en.wikipedia.org/wiki/List_of_HTTP_status_codes#5xx_server_errors) codes.*"
   ]
  },
  {
   "cell_type": "code",
   "execution_count": 10,
   "id": "applied-fence",
   "metadata": {},
   "outputs": [],
   "source": [
    "# Run a link check on a single link\n",
    "\n",
    "import requests\n",
    "\n",
    "def link_reporter(url, display=False, redirect_log=True):\n",
    "    \"\"\"Attempt to resolve a URL and report on how it was resolved.\"\"\"\n",
    "    if display:\n",
    "        print(f\"Checking {url}...\")\n",
    "    \n",
    "    # Make request and follow redirects\n",
    "    try:\n",
    "        r = requests.head(url, allow_redirects=True)\n",
    "    except:\n",
    "        r = None\n",
    "    \n",
    "    if r is None:\n",
    "        return [(False, url, None, \"Error resolving URL\")]\n",
    "\n",
    "    # Optionally create a report including each step of redirection/resolution\n",
    "    steps = r.history + [r] if redirect_log else [r]\n",
    "    \n",
    "    step_reports = []\n",
    "    for step in steps:\n",
    "        step_report = (step.ok, step.url, step.status_code, step.reason)\n",
    "        step_reports.append( step_report )\n",
    "        if display:\n",
    "            txt_report = f'\\tok={step.ok} :: {step.url} :: {step.status_code} :: {step.reason}\\n'\n",
    "            print(txt_report)\n",
    "\n",
    "    return step_reports"
   ]
  },
  {
   "cell_type": "markdown",
   "id": "informed-mason",
   "metadata": {},
   "source": [
    "We can run some simple tests to see examples of particular sorts of errors. Other errors may be discovered when running the link checker over a wider range of resources.\n",
    "\n",
    "We could capture and report on different sorts of status code in specific ways, if that is useful."
   ]
  },
  {
   "cell_type": "code",
   "execution_count": 11,
   "id": "altered-grenada",
   "metadata": {
    "tags": [
     "active-ipynb"
    ]
   },
   "outputs": [
    {
     "data": {
      "text/plain": [
       "[(True,\n",
       "  'http://ieeexplore.ieee.org/xpl/articleDetails.jsp?arnumber=4376143',\n",
       "  301,\n",
       "  'Moved Permanently'),\n",
       " (True,\n",
       "  'https://ieeexplore.ieee.org/xpl/articleDetails.jsp?arnumber=4376143',\n",
       "  302,\n",
       "  'Moved Temporarily'),\n",
       " (True,\n",
       "  'https://ieeexplore.ieee.org/document/4376143/?arnumber=4376143',\n",
       "  200,\n",
       "  'OK')]"
      ]
     },
     "execution_count": 11,
     "metadata": {},
     "output_type": "execute_result"
    }
   ],
   "source": [
    "## Test link check reports\n",
    "url_direct='https://rallydatajunkie.com/visualising-rally-stages/'\n",
    "url_redirect='http://rallydatajunkie.github.io/visualising-rally-stages/'\n",
    "url_liblink='https://www.open.ac.uk/libraryservices/resource/website:106223&amp;f=28585'\n",
    "url_404='http://www.digitalhealth.net/news/25742/'\n",
    "url_ezproxy='http://ieeexplore.ieee.org.libezproxy.open.ac.uk/xpl/articleDetails.jsp?arnumber=4376143'\n",
    "url_ezproxy_clean=url_ezproxy.replace('.libezproxy.open.ac.uk', '')\n",
    "\n",
    "link_reporter(url_direct)\n",
    "link_reporter(url_redirect)\n",
    "link_reporter(url_liblink)\n",
    "link_reporter(url_404)\n",
    "link_reporter(url_ezproxy)\n",
    "link_reporter(url_ezproxy_clean)"
   ]
  },
  {
   "cell_type": "markdown",
   "id": "spatial-usage",
   "metadata": {},
   "source": [
    "## Checking Links from One or More Documents\n",
    "\n",
    "A routine to check links from OU-XML documents found in a directory:"
   ]
  },
  {
   "cell_type": "code",
   "execution_count": 65,
   "id": "cubic-poverty",
   "metadata": {},
   "outputs": [],
   "source": [
    "# Run link checks over a set of links\n",
    "\n",
    "def check_multiple_links(urls, display=False, redirect_log=True):\n",
    "    \"\"\"Check multiple links.\"\"\"\n",
    "    \n",
    "    # Use unique links\n",
    "    urls = list(set(urls)) if isinstance(urls, list) else [urls]\n",
    "    \n",
    "    link_reports = {}\n",
    "    for url in tqdm(urls):\n",
    "        play_nice()\n",
    "        link_report = link_reporter(url, display, redirect_log)\n",
    "        link_reports[url] = link_report\n",
    "        \n",
    "    return link_reports"
   ]
  },
  {
   "cell_type": "code",
   "execution_count": 66,
   "id": "artistic-screw",
   "metadata": {
    "tags": [
     "active-ipynb"
    ]
   },
   "outputs": [
    {
     "name": "stdout",
     "output_type": "stream",
     "text": [
      "Checking http://rallydatajunkie.github.io/visualising-rally-stages/...\n",
      "\tok=True :: http://rallydatajunkie.github.io/visualising-rally-stages/ :: 301 :: Moved Permanently\n",
      "\n",
      "\tok=True :: https://rallydatajunkie.com/visualising-rally-stages/ :: 200 :: OK\n",
      "\n",
      "Checking https://rallydatajunkie.com/visualising-rally-stages/...\n",
      "\tok=True :: https://rallydatajunkie.com/visualising-rally-stages/ :: 200 :: OK\n",
      "\n",
      "Checking http://www.digitalhealth.net/news/25742/...\n",
      "\tok=True :: http://www.digitalhealth.net/news/25742/ :: 301 :: Moved Permanently\n",
      "\n",
      "\tok=True :: https://www.digitalhealth.net/news/25742/ :: 301 :: Moved Permanently\n",
      "\n",
      "\tok=False :: https://www.digitalhealth.net/404-error-page/ :: 404 :: Not Found\n",
      "\n"
     ]
    },
    {
     "data": {
      "text/plain": [
       "{'http://rallydatajunkie.github.io/visualising-rally-stages/': [(True,\n",
       "   'http://rallydatajunkie.github.io/visualising-rally-stages/',\n",
       "   301,\n",
       "   'Moved Permanently'),\n",
       "  (True, 'https://rallydatajunkie.com/visualising-rally-stages/', 200, 'OK')],\n",
       " 'https://rallydatajunkie.com/visualising-rally-stages/': [(True,\n",
       "   'https://rallydatajunkie.com/visualising-rally-stages/',\n",
       "   200,\n",
       "   'OK')],\n",
       " 'http://www.digitalhealth.net/news/25742/': [(True,\n",
       "   'http://www.digitalhealth.net/news/25742/',\n",
       "   301,\n",
       "   'Moved Permanently'),\n",
       "  (True,\n",
       "   'https://www.digitalhealth.net/news/25742/',\n",
       "   301,\n",
       "   'Moved Permanently'),\n",
       "  (False, 'https://www.digitalhealth.net/404-error-page/', 404, 'Not Found')]}"
      ]
     },
     "execution_count": 66,
     "metadata": {},
     "output_type": "execute_result"
    }
   ],
   "source": [
    "# Test a set of links\n",
    "test_links = [url_direct, url_redirect, url_404]\n",
    "\n",
    "link_reports = check_multiple_links(test_links, display=True)\n",
    "link_reports"
   ]
  },
  {
   "cell_type": "markdown",
   "id": "latter-terror",
   "metadata": {},
   "source": [
    "From the set of links, we can create a report showing any dead links:"
   ]
  },
  {
   "cell_type": "code",
   "execution_count": 53,
   "id": "occasional-footage",
   "metadata": {},
   "outputs": [],
   "source": [
    "# Find dead links\n",
    "\n",
    "def dead_link_report(link_reports):\n",
    "    \"\"\"Create a list of dead links.\"\"\"\n",
    "    dead_links = {}\n",
    "    \n",
    "    for link in link_reports:\n",
    "        link_report = link_reports[link]\n",
    "        if not link_report[-1][0]:\n",
    "            dead_links[link] = link_report\n",
    "\n",
    "    return dead_links\n"
   ]
  },
  {
   "cell_type": "code",
   "execution_count": 54,
   "id": "asian-fraud",
   "metadata": {
    "tags": [
     "active-ipynb"
    ]
   },
   "outputs": [
    {
     "data": {
      "text/plain": [
       "{'http://www.digitalhealth.net/news/25742/': [(True,\n",
       "   'http://www.digitalhealth.net/news/25742/',\n",
       "   301,\n",
       "   'Moved Permanently'),\n",
       "  (True,\n",
       "   'https://www.digitalhealth.net/news/25742/',\n",
       "   301,\n",
       "   'Moved Permanently'),\n",
       "  (False, 'https://www.digitalhealth.net/404-error-page/', 404, 'Not Found')]}"
      ]
     },
     "execution_count": 54,
     "metadata": {},
     "output_type": "execute_result"
    }
   ],
   "source": [
    "dead_link_report(link_reports)"
   ]
  },
  {
   "cell_type": "markdown",
   "id": "functioning-monitoring",
   "metadata": {},
   "source": [
    "We can also create a report per document. This is perhaps more useful because we can see which sections contain which dead links, if any."
   ]
  },
  {
   "cell_type": "code",
   "execution_count": 83,
   "id": "turned-neutral",
   "metadata": {},
   "outputs": [],
   "source": [
    "def link_reporter_by_docs(doc_links):\n",
    "    \"\"\"Link reports by document.\"\"\"\n",
    "    doc_links_reports = []\n",
    "    doc_links_nok_reports = []\n",
    "    \n",
    "    for doc in doc_links:\n",
    "        doc_links_report = {'metadata': doc['metadata'], 'sessions': {}}\n",
    "        doc_links_nok_report = {'metadata': doc['metadata'], 'sessions': {}}\n",
    "        \n",
    "        for session in tqdm(doc['sessions']):\n",
    "            link_reports = []\n",
    "            nok_link_reports = []\n",
    "            for (title, url) in doc['sessions'][session]:\n",
    "                play_nice()\n",
    "                link_report = link_reporter(url)\n",
    "                ok = link_report[-1][0]\n",
    "                link_reports.append( (title, url, link_report, ok))\n",
    "                \n",
    "                if not ok:\n",
    "                    nok_link_reports.append( (title, url, link_report, ok))\n",
    "\n",
    "            doc_links_report['sessions'][session] = link_reports\n",
    "            if nok_link_reports:\n",
    "                doc_links_nok_report['sessions'][session] = nok_link_reports\n",
    "\n",
    "        doc_links_reports.append(doc_links_report)\n",
    "        doc_links_nok_reports.append(doc_links_nok_report)\n",
    "        \n",
    "    return doc_links_reports, doc_links_nok_reports"
   ]
  },
  {
   "cell_type": "code",
   "execution_count": 111,
   "id": "quick-bacteria",
   "metadata": {
    "tags": [
     "active-ipynb"
    ]
   },
   "outputs": [],
   "source": [
    "link_reports, bad_link_reports = link_reporter_by_docs(doc_links)"
   ]
  },
  {
   "cell_type": "code",
   "execution_count": 112,
   "id": "compact-marker",
   "metadata": {
    "tags": [
     "active-ipynb"
    ]
   },
   "outputs": [
    {
     "data": {
      "text/plain": [
       "[{'metadata': {'coursecode': 'TM351',\n",
       "   'coursetitle': 'Data management and analysis',\n",
       "   'itemtitle': 'Part 3 Data preparation'},\n",
       "  'sessions': {'BackMatter': [('http://www.digitalhealth.net/news/25742/',\n",
       "     'http://www.digitalhealth.net/news/25742/',\n",
       "     [(True,\n",
       "       'http://www.digitalhealth.net/news/25742/',\n",
       "       301,\n",
       "       'Moved Permanently'),\n",
       "      (True,\n",
       "       'https://www.digitalhealth.net/news/25742/',\n",
       "       301,\n",
       "       'Moved Permanently'),\n",
       "      (False,\n",
       "       'https://www.digitalhealth.net/404-error-page/',\n",
       "       404,\n",
       "       'Not Found')],\n",
       "     False),\n",
       "    ('http://www.nwitimes.com/news/local/a-million-home/article_899b39b3-fbdf-522f-a6fc-e8ae73eb8c96.html',\n",
       "     'http://www.nwitimes.com/news/local/a-million-home/article_899b39b3-fbdf-522f-a6fc-e8ae73eb8c96.html',\n",
       "     [(True,\n",
       "       'http://www.nwitimes.com/news/local/a-million-home/article_899b39b3-fbdf-522f-a6fc-e8ae73eb8c96.html',\n",
       "       301,\n",
       "       'Moved Permanently'),\n",
       "      (False,\n",
       "       'https://www.nwitimes.com/news/local/a-million-home/article_899b39b3-fbdf-522f-a6fc-e8ae73eb8c96.html',\n",
       "       451,\n",
       "       'Unavailable For Legal Reasons')],\n",
       "     False)]}},\n",
       " {'metadata': {'coursecode': 'TM351',\n",
       "   'coursetitle': 'Data management and analysis',\n",
       "   'itemtitle': 'Part 5 Presentation: telling the story'},\n",
       "  'sessions': {'BackMatter': [('http://www.jstor.org.libezproxy.open.ac.uk/stable/2245820?seq=1#page_scan_tab_contents',\n",
       "     'http://www.jstor.org/stable/2245820?seq=1#page_scan_tab_contents',\n",
       "     [(False,\n",
       "       'http://www.jstor.org/stable/2245820?seq=1#page_scan_tab_contents',\n",
       "       420,\n",
       "       'Enhance Your Calm')],\n",
       "     False),\n",
       "    ('http://www.sonification.de/publications/media/HermannRitter1999-LTY.pdf',\n",
       "     'http://www.sonification.de/publications/media/HermannRitter1999-LTY.pdf',\n",
       "     [(True,\n",
       "       'http://www.sonification.de/publications/media/HermannRitter1999-LTY.pdf',\n",
       "       301,\n",
       "       'Moved Permanently'),\n",
       "      (False,\n",
       "       'https://sonification.de/publications/media/HermannRitter1999-LTY.pdf',\n",
       "       404,\n",
       "       'Not Found')],\n",
       "     False),\n",
       "    ('http://earthzine.org/2013/07/23/sonification-data-like-youve-never-heard-before/',\n",
       "     'http://earthzine.org/2013/07/23/sonification-data-like-youve-never-heard-before/',\n",
       "     [(False,\n",
       "       'http://earthzine.org/2013/07/23/sonification-data-like-youve-never-heard-before/',\n",
       "       403,\n",
       "       'Forbidden')],\n",
       "     False),\n",
       "    ('http://www.socialinnovationexchange.org/categories/read/participatory-mapping-as-a-social-digital-tool',\n",
       "     'http://www.socialinnovationexchange.org/categories/read/participatory-mapping-as-a-social-digital-tool',\n",
       "     [(True,\n",
       "       'http://www.socialinnovationexchange.org/categories/read/participatory-mapping-as-a-social-digital-tool',\n",
       "       301,\n",
       "       'Moved Permanently'),\n",
       "      (True,\n",
       "       'https://www.socialinnovationexchange.org/categories/read/participatory-mapping-as-a-social-digital-tool',\n",
       "       301,\n",
       "       'Moved Permanently'),\n",
       "      (False,\n",
       "       'https://socialinnovationexchange.org/categories/read/participatory-mapping-as-a-social-digital-tool',\n",
       "       404,\n",
       "       'Not Found')],\n",
       "     False),\n",
       "    ('http://iew.technion.ac.il/newsletter/en/home/17-march14/18-prof-avi-parush,-big-data-to-big-picture-consider-some-fundamentals-of-human-visual-perception.html',\n",
       "     'http://iew.technion.ac.il/newsletter/en/home/17-march14/18-prof-avi-parush,-big-data-to-big-picture-consider-some-fundamentals-of-human-visual-perception.html',\n",
       "     [(False,\n",
       "       'http://iew.technion.ac.il/newsletter/en/home/17-march14/18-prof-avi-parush,-big-data-to-big-picture-consider-some-fundamentals-of-human-visual-perception.html',\n",
       "       403,\n",
       "       'Forbidden')],\n",
       "     False)]}}]"
      ]
     },
     "execution_count": 112,
     "metadata": {},
     "output_type": "execute_result"
    }
   ],
   "source": [
    "bad_link_reports"
   ]
  },
  {
   "cell_type": "markdown",
   "id": "vanilla-brunswick",
   "metadata": {},
   "source": [
    "Whilst the JSON file is convenient for storing data, and easy to work with if you know how, a tabular CSV report is probably more useful in many cases.\n",
    "\n",
    "The following is a first quick attempt at a report that contains enough information to be useful when it comes to finding which section of which file each broken link appears in."
   ]
  },
  {
   "cell_type": "code",
   "execution_count": 119,
   "id": "accessible-block",
   "metadata": {},
   "outputs": [],
   "source": [
    "# Crude output report broken link\n",
    "\n",
    "import csv\n",
    "\n",
    "def simple_csv_report(links_report, outf='link_report.csv'):\n",
    "    \"\"\"Generate a simple CSV link check report.\"\"\"\n",
    "\n",
    "    with open(outf, 'w') as f:\n",
    "        write = csv.writer(f)\n",
    "        cols = ['file', 'code', 'title', 'item', 'session', 'linktext', 'link', 'error']\n",
    "        write.writerow(cols)\n",
    "\n",
    "        for link_report in links_report:\n",
    "            row_base = [link_report['metadata']['file'],\n",
    "                        link_report['metadata']['coursecode'],\n",
    "                        link_report['metadata']['coursetitle'],\n",
    "                        link_report['metadata']['itemtitle']]\n",
    "\n",
    "            rows = []\n",
    "            for session in link_report['sessions']:\n",
    "                for link in link_report['sessions'][session]:\n",
    "                    row = row_base + [session, link[0], link[1], link[2][-1][-2]]\n",
    "                    rows.append(row)\n",
    " \n",
    "            write.writerows(rows) "
   ]
  },
  {
   "cell_type": "code",
   "execution_count": 121,
   "id": "constant-tampa",
   "metadata": {
    "tags": [
     "active-ipynb"
    ]
   },
   "outputs": [
    {
     "name": "stdout",
     "output_type": "stream",
     "text": [
      "code,title,item,session,linktext,link,error\r",
      "\r\n",
      "TM351,Data management and analysis,Part 3 Data preparation,BackMatter,http://www.digitalhealth.net/news/25742/,http://www.digitalhealth.net/news/25742/,404\r",
      "\r\n",
      "TM351,Data management and analysis,Part 3 Data preparation,BackMatter,http://www.nwitimes.com/news/local/a-million-home/article_899b39b3-fbdf-522f-a6fc-e8ae73eb8c96.html,http://www.nwitimes.com/news/local/a-million-home/article_899b39b3-fbdf-522f-a6fc-e8ae73eb8c96.html,451\r",
      "\r\n",
      "TM351,Data management and analysis,Part 5 Presentation: telling the story,BackMatter,http://www.jstor.org.libezproxy.open.ac.uk/stable/2245820?seq=1#page_scan_tab_contents,http://www.jstor.org/stable/2245820?seq=1#page_scan_tab_contents,420\r",
      "\r\n",
      "TM351,Data management and analysis,Part 5 Presentation: telling the story,BackMatter,http://www.sonification.de/publications/media/HermannRitter1999-LTY.pdf,http://www.sonification.de/publications/media/HermannRitter1999-LTY.pdf,404\r",
      "\r\n",
      "TM351,Data management and analysis,Part 5 Presentation: telling the story,BackMatter,http://earthzine.org/2013/07/23/sonification-data-like-youve-never-heard-before/,http://earthzine.org/2013/07/23/sonification-data-like-youve-never-heard-before/,403\r",
      "\r\n",
      "TM351,Data management and analysis,Part 5 Presentation: telling the story,BackMatter,http://www.socialinnovationexchange.org/categories/read/participatory-mapping-as-a-social-digital-tool,http://www.socialinnovationexchange.org/categories/read/participatory-mapping-as-a-social-digital-tool,404\r",
      "\r\n",
      "TM351,Data management and analysis,Part 5 Presentation: telling the story,BackMatter,\"http://iew.technion.ac.il/newsletter/en/home/17-march14/18-prof-avi-parush,-big-data-to-big-picture-consider-some-fundamentals-of-human-visual-perception.html\",\"http://iew.technion.ac.il/newsletter/en/home/17-march14/18-prof-avi-parush,-big-data-to-big-picture-consider-some-fundamentals-of-human-visual-perception.html\",403\r",
      "\r\n"
     ]
    }
   ],
   "source": [
    "simple_csv_report(bad_link_reports)\n",
    "!cat link_report.csv"
   ]
  },
  {
   "cell_type": "markdown",
   "id": "prepared-shame",
   "metadata": {},
   "source": [
    "To try to make things easier to use, we also define (in the `cli.py` file) a simple command line interface that can call the following function, with a directory path, to run the link checker over links extracted form the `.xml` files in the specified directory.\n",
    "\n",
    "Usage on the command line is then of the form:\n",
    "\n",
    "`ouxml_tools link-check PATH/TO/DIR/CONTAINING/OU-XML_FILES`\n",
    "\n",
    "with three output reports generated:\n",
    "\n",
    "- a csv file report containing minimal broken link information (`broken_links_report.csv`);\n",
    "- complete reports of all link resolution traces and just the broken link resoution traces in `all_links_report.json` and `broken_links_report.json` respectively."
   ]
  },
  {
   "cell_type": "markdown",
   "id": "b87810dc",
   "metadata": {},
   "source": [
    "## Submitting Links to the Internet Archive\n",
    "\n",
    "To ensure that web page content is available even a website disappears, we can try to archive the content on the Internet Archive.\n",
    "\n",
    "The following function will attempt to submit a URL for archiving on the Internet Archive:"
   ]
  },
  {
   "cell_type": "code",
   "execution_count": null,
   "id": "cdaa83e7",
   "metadata": {},
   "outputs": [],
   "source": [
    "import json\n",
    "import urllib.parse\n",
    "\n",
    "def archive_link(url):\n",
    "    \"\"\"Submit link archive request to Interet Archive.\"\"\"\n",
    "\n",
    "    quoted_url = urllib.parse.quote(url)\n",
    "    url_ = f\"https://web.archive.org/save/{quoted_url}\"\n",
    "    # Should probably capture response and generate archive request report\n",
    "    r = requests.get(url_, allow_redirects=True)\n",
    "    return url, r"
   ]
  },
  {
   "cell_type": "markdown",
   "id": "61d0154d",
   "metadata": {},
   "source": [
    "It is more likely that we will want to submit multiple URLs to the archiver.\n",
    "\n",
    "Links with various HTTP status codes as described in the link check status report can be included or excluded from he report."
   ]
  },
  {
   "cell_type": "code",
   "execution_count": null,
   "id": "38031746",
   "metadata": {},
   "outputs": [],
   "source": [
    "def archive_links(link_reports, include=None, exclude=None):\n",
    "    \"\"\"Submit each unique link in a link status report dictionary to the Internet Archive.\"\"\"\n",
    "    include = [] if include is None else include\n",
    "    exclude = [] if exclude is None else exclude\n",
    "    archived = []\n",
    "    not_archived = []\n",
    "    not_valid_url = []\n",
    "    excluded_url = []\n",
    "    link_reports_ = []\n",
    "\n",
    "    # Generate a list of links we want to archive\n",
    "    for link_ in link_reports:\n",
    "        # Get status report of last step in forwarded request\n",
    "        status = link_reports[link_][-1][2]\n",
    "        if status is None:\n",
    "            not_valid_url.append(link_)\n",
    "            continue\n",
    "        # We don't want excluded report status links\n",
    "        if status not in exclude:\n",
    "            # We want all links or just included links\n",
    "            if not include or status in include:\n",
    "                link_reports_.append(link_)\n",
    "        else:\n",
    "            excluded_url.append(link_)\n",
    "\n",
    "    for link_ in tqdm(link_reports_):\n",
    "        url, response = archive_link(link_)\n",
    "        if response.ok:\n",
    "            archived.append(url)\n",
    "        else:\n",
    "            not_archived.append(url)\n",
    "        play_nice()\n",
    "\n",
    "    for url in archived:\n",
    "        print(f\"Archived: {url}\")\n",
    "    for url in not_archived:\n",
    "        print(f\"Not archived: {url}\")\n",
    "    for url in excluded_url:\n",
    "        print(f\"Excluded: {url}\")\n",
    "    for url in not_valid_url:\n",
    "        print(f\"Not valid URLs: {url}\")"
   ]
  },
  {
   "cell_type": "markdown",
   "id": "20513859",
   "metadata": {},
   "source": [
    "We can generate the link status report for links extracted from one or more files, optionally calling the archiver, using the following function:"
   ]
  },
  {
   "cell_type": "code",
   "execution_count": 109,
   "id": "practical-wrist",
   "metadata": {},
   "outputs": [],
   "source": [
    "def link_check_reporter(path, archive=False, strong_archive=False, display=False, redirect_log=True):\n",
    "    \"\"\"Run link checks.\"\"\"\n",
    "    docs = get_xml_files(path)\n",
    "    doc_links, unique_links = extract_links_from_docs(docs)\n",
    "\n",
    "    link_reports, bad_link_reports = link_reporter_by_docs(doc_links)\n",
    "\n",
    "    with open('all_links_report.json', 'w') as f:\n",
    "        json.dump(link_reports, f)\n",
    "\n",
    "    with open('broken_links_report.json', 'w') as f:\n",
    "        json.dump(bad_link_reports, f)\n",
    "\n",
    "    simple_csv_report(bad_link_reports, outf='broken_links_report.csv')\n",
    "\n",
    "    if archive or strong_archive:\n",
    "        print(\"Archiving links...\")\n",
    "        if strong_archive:\n",
    "            archive_links(link_reports, exclude=[404])\n",
    "        elif archive:\n",
    "            archive_links(link_reports, include=[200])"
   ]
  }
 ],
 "metadata": {
  "celltoolbar": "Tags",
  "jupytext": {
   "formats": "ipynb,ouxml_link_checker//py:light"
  },
  "kernelspec": {
   "display_name": "Python 3",
   "language": "python",
   "name": "python3"
  },
  "language_info": {
   "codemirror_mode": {
    "name": "ipython",
    "version": 3
   },
   "file_extension": ".py",
   "mimetype": "text/x-python",
   "name": "python",
   "nbconvert_exporter": "python",
   "pygments_lexer": "ipython3",
   "version": "3.9.8"
  }
 },
 "nbformat": 4,
 "nbformat_minor": 5
}
