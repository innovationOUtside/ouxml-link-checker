{
 "cells": [
  {
   "cell_type": "markdown",
   "id": "exciting-appraisal",
   "metadata": {},
   "source": [
    "# Link Checker for Links in OU-XML Documents\n",
    "\n",
    "The OU-XML document format is used to act as a gold master document for teaching materials published on the OU VLE and elsewhere.\n",
    "\n",
    "This script can be used to extract and check links referenced within OU-XML documents.\n",
    "\n",
    "Reports are generated as CSV files (`.csv` file suffix) that may be viewed in a text editor, or loaded into a spreadsheet application."
   ]
  },
  {
   "cell_type": "markdown",
   "id": "perfect-short",
   "metadata": {},
   "source": [
    "## Utility Functions\n",
    "\n",
    "Some utility functions for working with the OU-XML document and processing XML tags."
   ]
  },
  {
   "cell_type": "code",
   "execution_count": 1,
   "id": "peripheral-oasis",
   "metadata": {},
   "outputs": [],
   "source": [
    "# Extract all the text inside a tag, include text inside child tags\n",
    "\n",
    "import unicodedata\n",
    "\n",
    "def flatten(el):\n",
    "    ''' Utility function for flattening XML tags. '''\n",
    "    if el is None: return\n",
    "    result = [ (el.text or \"\") ]\n",
    "    for sel in el:\n",
    "        result.append(flatten(sel))\n",
    "        result.append(sel.tail or \"\")\n",
    "    return unicodedata.normalize(\"NFKD\", \"\".join(result)) or ' '"
   ]
  },
  {
   "cell_type": "markdown",
   "id": "organized-payday",
   "metadata": {},
   "source": [
    "Iterating through a list of links and making a web request for each one can happen quickly, especially if we are just requesting page headers and not the complete contents of a page.\n",
    "\n",
    "A trick many screenscrapers use is to add a small delay between requests, often randomising the delay times to make it less obvious that a scrape is in play. THhe following function gives a minimal function that helps us play nice when creating lots of web requests."
   ]
  },
  {
   "cell_type": "code",
   "execution_count": 2,
   "id": "straight-invalid",
   "metadata": {},
   "outputs": [],
   "source": [
    "# Wait for a short random interval\n",
    "# This is so we don't clobber a particular website or the network too badly!\n",
    "\n",
    "import time\n",
    "from random import random\n",
    "\n",
    "def play_nice(delay=0.1, min_delay=0.01):\n",
    "    \"\"\"Add a random delay between consecutive web requests.\"\"\"\n",
    "    # It would probably make more sense to do this to throttle multiple requests to the same domain\n",
    "    time.sleep(min_delay + delay*random())"
   ]
  },
  {
   "cell_type": "markdown",
   "id": "demanding-rescue",
   "metadata": {},
   "source": [
    "We're going to want to get lists of XML files somehow; the following function will grab the names of files with a particular file suffix (by default, `.xml`) from a directory with a specified path:"
   ]
  },
  {
   "cell_type": "code",
   "execution_count": 3,
   "id": "charged-expert",
   "metadata": {},
   "outputs": [],
   "source": [
    "# Get a list of xml files in a folder/directory\n",
    "\n",
    "import os\n",
    "from pathlib import Path\n",
    "\n",
    "def get_xml_files(path_str='.', suffix='.xml'):\n",
    "    path = Path(path_str)\n",
    "    docs = [path/x for x in os.listdir(path) if x.endswith(suffix)]\n",
    "    return docs"
   ]
  },
  {
   "cell_type": "code",
   "execution_count": 4,
   "id": "eastern-kruger",
   "metadata": {
    "tags": [
     "active-ipynb"
    ]
   },
   "outputs": [
    {
     "data": {
      "text/plain": [
       "[PosixPath('xml_test/tm351-week3.xml'), PosixPath('xml_test/tm351-week5.xml')]"
      ]
     },
     "execution_count": 4,
     "metadata": {},
     "output_type": "execute_result"
    }
   ],
   "source": [
    "# Example usage\n",
    "get_xml_files('./xml_test')"
   ]
  },
  {
   "cell_type": "markdown",
   "id": "current-monaco",
   "metadata": {},
   "source": [
    "A nod to user feedback on long running jobs where we are perhaps waiting for lots of links to be tested, the `tqdm` package provides a simple way to create progress bars."
   ]
  },
  {
   "cell_type": "code",
   "execution_count": 5,
   "id": "ready-immigration",
   "metadata": {},
   "outputs": [],
   "source": [
    "# Import a package that displays progress bars nicely\n",
    "from tqdm import tqdm"
   ]
  },
  {
   "cell_type": "markdown",
   "id": "controversial-california",
   "metadata": {},
   "source": [
    "## Extract Information From OU-XML\n",
    "\n",
    "Tool(s) to extract links and other information from OU-XML documents."
   ]
  },
  {
   "cell_type": "markdown",
   "id": "royal-manchester",
   "metadata": {},
   "source": [
    "To make use of the XML content in a document, we need to open the document, read its contents and then parse it into a strcuture we can work with. Sometimes, we need to clean the document text up a bit before we can parse it..."
   ]
  },
  {
   "cell_type": "code",
   "execution_count": 6,
   "id": "disabled-inclusion",
   "metadata": {},
   "outputs": [],
   "source": [
    "# Open an XML file/document, read its contents and parse them as an XML etree object\n",
    "\n",
    "from lxml import etree\n",
    "\n",
    "def get_xml_from_doc(doc, clean=True):\n",
    "    \"\"\"Read file and parse as XML object.\"\"\"\n",
    "    xml = doc.read_text()\n",
    "    \n",
    "    if clean:\n",
    "        for cleaner in ['<?sc-transform-do-oumusic-to-unicode?>',\n",
    "                        '<?sc-transform-do-oxy-pi?>',\n",
    "                        '<?xml version=\"1.0\" encoding=\"utf-8\"?>',\n",
    "                        '<?xml version=\"1.0\" encoding=\"UTF-8\"?>',\n",
    "                        '<?xml version=\"1.0\" encoding=\"UTF-8\" standalone=\"no\"?>']:\n",
    "            xml = xml.replace(cleaner, '')\n",
    "            \n",
    "    xml_root = etree.fromstring(xml)\n",
    "    return xml_root"
   ]
  },
  {
   "cell_type": "markdown",
   "id": "sharing-house",
   "metadata": {},
   "source": [
    "Having got the XML into a structure we can work with, we can start to treat it like a simple database from which we can extract different sorts of infomration.\n",
    "\n",
    "OU-XML documents are structured in a particular way, so we can use prior knowledge of that structure to do things like pull out a course/module code and name, as well as the names of different sections in the document. We can use this information to help us report on where in a document we might find a particular broken link if we do discover that it is broken and in need of repair...\n",
    "\n",
    "We also want to extract the links referenced in the document; that is the point of this recipe, after all..."
   ]
  },
  {
   "cell_type": "code",
   "execution_count": 7,
   "id": "decent-factory",
   "metadata": {},
   "outputs": [],
   "source": [
    "# Extract metadata and links from a parsed OU-XML document\n",
    "\n",
    "def parse_ouxml_metadata(courseRoot):\n",
    "    \"\"\"Extract some metadata from the OU-XML file.\"\"\"\n",
    "    _coursecode = courseRoot.find('.//CourseCode')\n",
    "    coursecode = flatten(_coursecode)\n",
    "    _coursetitle = courseRoot.find('.//CourseTitle')\n",
    "    coursetitle = flatten(_coursetitle)\n",
    "\n",
    "    _itemtitle = courseRoot.find('.//ItemTitle')\n",
    "    itemtitle = flatten(_itemtitle)\n",
    "\n",
    "    metadata = {'coursecode': coursecode,\n",
    "                'coursetitle': coursetitle,\n",
    "                'itemtitle': itemtitle,\n",
    "               }\n",
    "    return metadata\n",
    "\n",
    "\n",
    "def extract_links_from_doc(courseRoot, unique_links=None):\n",
    "    \"\"\"Extract links from OU-XML document.\"\"\"\n",
    "    unique_links = [] if unique_links is None else unique_links\n",
    "    links = {}\n",
    "\n",
    "    # Grab some metadata\n",
    "    metadata = parse_ouxml_metadata(courseRoot)\n",
    "    sessions = courseRoot.findall('.//Session')\n",
    "    \n",
    "    for session in sessions:\n",
    "        _links = []\n",
    "        session_title = flatten(session.find('.//Title'))\n",
    "        \n",
    "        for l in session.findall('.//a'):\n",
    "            _lhref = l.get('href').replace('.libezproxy.open.ac.uk','')\n",
    "            if l not in unique_links:\n",
    "                unique_links.append(_lhref)\n",
    "                _links.append((flatten(l), _lhref))\n",
    "\n",
    "        links[session_title] = _links\n",
    "\n",
    "    # <BackMatter>\n",
    "    backmatter = courseRoot.find('.//BackMatter')\n",
    "    _links = []\n",
    "    for l in backmatter.findall('.//a'):\n",
    "        _lhref = l.get('href').replace('.libezproxy.open.ac.uk','')\n",
    "        if l not in unique_links:\n",
    "            unique_links.append(_lhref)\n",
    "            _links.append((flatten(l), _lhref))\n",
    "    links['BackMatter'] = _links\n",
    "    \n",
    "    doc_links = {'metadata': metadata, 'sessions': links}\n",
    "    \n",
    "    return doc_links, unique_links"
   ]
  },
  {
   "cell_type": "markdown",
   "id": "conceptual-republic",
   "metadata": {},
   "source": [
    "We can extract the links from a set of documents by extracting the links from each separate document in turn.\n",
    "\n",
    "For convenience, we return two objects:\n",
    "\n",
    "- a growing list of unique URLs we need to test;\n",
    "- a list of URLs associated with each OU-XML document, broken down by session.\n",
    "\n",
    "Note: there is also the notion of a `Unit` block element in the OU-XML definition but that is not currently parsed as a particular unit of organisation."
   ]
  },
  {
   "cell_type": "code",
   "execution_count": 8,
   "id": "generous-netherlands",
   "metadata": {},
   "outputs": [],
   "source": [
    "# Extract all the links from a set of documents\n",
    "\n",
    "def extract_links_from_docs(docs):\n",
    "    \"\"\"Process a set of OU-XML documents and extract unique links from them all.\"\"\"\n",
    "    docs = docs if isinstance(docs, list) else [docs]\n",
    "    unique_links = []\n",
    "    doc_links = []\n",
    "    for doc in docs:\n",
    "        xml = get_xml_from_doc(doc)\n",
    "        _doc_links, unique_links = extract_links_from_doc(xml, unique_links)\n",
    "        _doc_links['metadata']['file'] = str(doc)\n",
    "        doc_links.append(_doc_links)\n",
    "        \n",
    "    return doc_links, unique_links"
   ]
  },
  {
   "cell_type": "code",
   "execution_count": 9,
   "id": "better-billion",
   "metadata": {
    "tags": [
     "active-ipynb"
    ]
   },
   "outputs": [
    {
     "data": {
      "text/plain": [
       "(['http://library.open.ac.uk',\n",
       "  'https://www.open.ac.uk/libraryservices/resource/website:104152&f=28335',\n",
       "  'https://www.open.ac.uk/libraryservices/resource/website:104153&f=28335',\n",
       "  'https://www.open.ac.uk/libraryservices/resource/website:104154&f=28335',\n",
       "  'https://www.open.ac.uk/libraryservices/resource/website:104223&f=28335',\n",
       "  'https://www.open.ac.uk/libraryservices/resource/website:104155&f=28335',\n",
       "  'http://www.digitalhealth.net/news/25742/',\n",
       "  'http://edition.cnn.com/TECH/space/9909/30/mars.metric/',\n",
       "  'https://www.gov.uk/government/uploads/system/uploads/attachment_data/file/213809/dh_120579.pdf',\n",
       "  'https://www.youtube.com/watch?v=k4gj_RdtKCw',\n",
       "  'https://github.com/drichard/mindmaps',\n",
       "  'http://blog.ouseful.info/2012/02/03/several-takes-on-the-definition-of-data-laundering/',\n",
       "  'http://blog.ouseful.info/2013/05/03/a-wrangling-example-with-openrefine-making-ready-data/',\n",
       "  'http://dc-pubs.dbs.uni-leipzig.de/files/Rahm2000DataCleaningProblemsand.pdf',\n",
       "  'http://www.nytimes.com/2006/02/15/national/15house.html?_r=0',\n",
       "  'http://www.nwitimes.com/news/local/a-million-home/article_899b39b3-fbdf-522f-a6fc-e8ae73eb8c96.html',\n",
       "  'http://www.thedoghousediaries.com/1406',\n",
       "  'http://www.pbs.org/mediashift/2014/07/take-an-interviewing-approach-to-find-stories-in-data/',\n",
       "  'http://nbviewer.IPython.org/gist/psychemedia/c1ac132946fa120cad91',\n",
       "  'http://www.tableau.com/',\n",
       "  'http://www.theguardian.com/world/datablog/interactive/2010/jul/25/afghanistan-war-logs-events',\n",
       "  'http://www.theguardian.com/news/datablog/interactive/2011/aug/10/poverty-riots-mapped',\n",
       "  'http://www.nytimes.com/interactive/2013/02/19/movies/awardsseason/oscar-trailers.html?_r=1&',\n",
       "  'http://www.slate.com/blogs/future_tense/2014/03/17/quakebot_los_angeles_times_robot_journalist_writes_article_on_la_earthquake.html',\n",
       "  'http://www.open.edu/openlearnworks/mod/oucontent/view.php?id=13363&section=5.3',\n",
       "  'http://www.open.edu/openlearnworks/mod/oucontent/view.php?id=13363&section=5.4',\n",
       "  'http://www.open.edu/openlearn/science-maths-technology/mathematics-and-statistics/statistics/diary-data-sleuth-when-the-data-you-dont-collect-affects-the-data-you-do ',\n",
       "  'http://www.datavizcatalogue.com/',\n",
       "  'http://www.visual-literacy.org/periodic_table/periodic_table.html',\n",
       "  'https://www.mapbox.com/labs/twitter-gnip/locals/#12/52.0415/-0.7400',\n",
       "  'http://www.ons.gov.uk/ons/rel/rdit1/gross-domestic-expenditure-on-research-and-development/2013/sty-gerd-2013.html',\n",
       "  'http://stanford.edu/~mwaskom/software/seaborn/',\n",
       "  'http://tomhopper.me/2014/03/28/a-simple-introduction-to-the-graphing-philosophy-of-ggplot2/',\n",
       "  'https://www.nature.com/articles/d41586-018-07196-1',\n",
       "  'http://ieeexplore.ieee.org/xpl/articleDetails.jsp?arnumber=6412677',\n",
       "  'http://mastersofmedia.hum.uva.nl/2011/05/03/narrative-structures-in-data-visualizations-to-improve-storytelling/',\n",
       "  'http://ieeexplore.ieee.org/xpl/articleDetails.jsp?arnumber=5613452',\n",
       "  'http://steiny.typepad.com/premise/2012/01/the-two-types-of-data-visualisation-and-why-it-matters-to-understand-the-difference.html',\n",
       "  'http://www.jstor.org/stable/2245820?seq=1#page_scan_tab_contents',\n",
       "  'http://jakevdp.github.io/blog/2013/12/05/static-interactive-widgets/',\n",
       "  'http://www.tandfonline.com/doi/abs/10.1198/jcgs.2009.07098',\n",
       "  'http://dx.doi.org/10.1007/0-387-28695-0',\n",
       "  'http://www.scholarpedia.org/article/Gestalt_principles',\n",
       "  'http://www.researchgate.net/publication/235351120_Towards_a_Unifying_Visualization_Ontology',\n",
       "  'http://ieeexplore.ieee.org/xpl/articleDetails.jsp?arnumber=885092',\n",
       "  'http://ieeexplore.ieee.org/xpl/articleDetails.jsp?arnumber=636792',\n",
       "  'http://ieeexplore.ieee.org/xpl/articleDetails.jsp?arnumber=5290695',\n",
       "  'http://www.sonification.de/publications/media/HermannRitter1999-LTY.pdf',\n",
       "  'http://www.sonification.de/projects/ISIMADE/index.html',\n",
       "  'http://earthzine.org/2013/07/23/sonification-data-like-youve-never-heard-before/',\n",
       "  'http://ieeexplore.ieee.org/xpl/articleDetails.jsp?arnumber=4376143',\n",
       "  'http://dl.acm.org/citation.cfm?doid=1753326.1753716',\n",
       "  'http://ieeexplore.ieee.org/xpl/articleDetails.jsp?arnumber=6327281',\n",
       "  'http://www.thefunctionalart.com/2014/08/to-make-visualizations-that-are.html',\n",
       "  'http://www.socialinnovationexchange.org/categories/read/participatory-mapping-as-a-social-digital-tool',\n",
       "  'http://www.blog.theteamw.com/2010/12/02/100-things-you-should-know-about-people-48-what-you-see-is-not-what-your-brain-gets/',\n",
       "  'https://commons.wikimedia.org/wiki/File:Gestalt.svg',\n",
       "  'http://creativecommons.org/licenses/by/3.0/',\n",
       "  'http://jthsinstructionaltechnology.blogspot.co.uk/2012/10/infographics-explained-and-why-you.html',\n",
       "  'http://iew.technion.ac.il/newsletter/en/home/17-march14/18-prof-avi-parush,-big-data-to-big-picture-consider-some-fundamentals-of-human-visual-perception.html',\n",
       "  'http://extremepresentation.typepad.com/blog/2006/09/choosing_a_good.html'],\n",
       " [{'metadata': {'coursecode': 'TM351',\n",
       "    'coursetitle': 'Data management and analysis',\n",
       "    'itemtitle': 'Part 3 Data preparation',\n",
       "    'file': 'xml_test/tm351-week3.xml'},\n",
       "   'sessions': {'1 Introduction': [],\n",
       "    '2 Data cleansing': [('Open University Library',\n",
       "      'http://library.open.ac.uk'),\n",
       "     ('Inquiry into transplant database errors',\n",
       "      'https://www.open.ac.uk/libraryservices/resource/website:104152&f=28335'),\n",
       "     ('Review of the Organ Donor Register',\n",
       "      'https://www.open.ac.uk/libraryservices/resource/website:104153&f=28335'),\n",
       "     ('Several takes on the notion of “data laundering”',\n",
       "      'https://www.open.ac.uk/libraryservices/resource/website:104154&f=28335')],\n",
       "    '3 Data integration and transformation': [('Recap – Python',\n",
       "      'https://www.open.ac.uk/libraryservices/resource/website:104223&f=28335')],\n",
       "    '4 Coping with missing or invalid data elements': [],\n",
       "    '5 Bringing it all together': [('A wrangling example with OpenRefine: making “oven ready data”',\n",
       "      'https://www.open.ac.uk/libraryservices/resource/website:104155&f=28335')],\n",
       "    '6 Summary': [],\n",
       "    'BackMatter': [('http://www.digitalhealth.net/news/25742/',\n",
       "      'http://www.digitalhealth.net/news/25742/'),\n",
       "     ('http://edition.cnn.com/TECH/space/9909/30/mars.metric/',\n",
       "      'http://edition.cnn.com/TECH/space/9909/30/mars.metric/'),\n",
       "     ('https://www.gov.uk/government/uploads/system/uploads/attachment_data/file/213809/dh_120579.pdf',\n",
       "      'https://www.gov.uk/government/uploads/system/uploads/attachment_data/file/213809/dh_120579.pdf'),\n",
       "     ('https://www.youtube.com/watch?v=k4gj_RdtKCw',\n",
       "      'https://www.youtube.com/watch?v=k4gj_RdtKCw'),\n",
       "     ('https://github.com/drichard/mindmaps',\n",
       "      'https://github.com/drichard/mindmaps'),\n",
       "     ('http://blog.ouseful.info/2012/02/03/several-takes-on-the-definition-of-data-laundering/',\n",
       "      'http://blog.ouseful.info/2012/02/03/several-takes-on-the-definition-of-data-laundering/'),\n",
       "     ('http://blog.ouseful.info/2013/05/03/a-wrangling-example-with-openrefine-making-ready-data/',\n",
       "      'http://blog.ouseful.info/2013/05/03/a-wrangling-example-with-openrefine-making-ready-data/'),\n",
       "     ('http://dc-pubs.dbs.uni-leipzig.de/files/Rahm2000DataCleaningProblemsand.pdf',\n",
       "      'http://dc-pubs.dbs.uni-leipzig.de/files/Rahm2000DataCleaningProblemsand.pdf'),\n",
       "     ('http://www.nytimes.com/2006/02/15/national/15house.html?_r=0',\n",
       "      'http://www.nytimes.com/2006/02/15/national/15house.html?_r=0'),\n",
       "     ('http://www.nwitimes.com/news/local/a-million-home/article_899b39b3-fbdf-522f-a6fc-e8ae73eb8c96.html',\n",
       "      'http://www.nwitimes.com/news/local/a-million-home/article_899b39b3-fbdf-522f-a6fc-e8ae73eb8c96.html'),\n",
       "     ('http://www.thedoghousediaries.com/1406',\n",
       "      'http://www.thedoghousediaries.com/1406')]}},\n",
       "  {'metadata': {'coursecode': 'TM351',\n",
       "    'coursetitle': 'Data management and analysis',\n",
       "    'itemtitle': 'Part 5 Presentation: telling the story',\n",
       "    'file': 'xml_test/tm351-week5.xml'},\n",
       "   'sessions': {'1 Introduction': [],\n",
       "    '2 Data investigation: telling the story (or stories)': [],\n",
       "    '3 Finding the story': [('Take an Interviewing Approach to Find Stories in Data',\n",
       "      'http://www.pbs.org/mediashift/2014/07/take-an-interviewing-approach-to-find-stories-in-data/'),\n",
       "     ('Quick investigation – road traffic accidents in Milton Keynes',\n",
       "      'http://nbviewer.IPython.org/gist/psychemedia/c1ac132946fa120cad91'),\n",
       "     ('Tableau', 'http://www.tableau.com/'),\n",
       "     ('Afghanistan war logs: our selection of significant incidents',\n",
       "      'http://www.theguardian.com/world/datablog/interactive/2010/jul/25/afghanistan-war-logs-events'),\n",
       "     ('Mapping the riots with poverty',\n",
       "      'http://www.theguardian.com/news/datablog/interactive/2011/aug/10/poverty-riots-mapped'),\n",
       "     ('Dissecting a Trailer: The Parts of the Film That Make the Cut',\n",
       "      'http://www.nytimes.com/interactive/2013/02/19/movies/awardsseason/oscar-trailers.html?_r=1&'),\n",
       "     ('The First News Report on the L.A. Earthquake [17 March 2014] Was Written by a Robot',\n",
       "      'http://www.slate.com/blogs/future_tense/2014/03/17/quakebot_los_angeles_times_robot_journalist_writes_article_on_la_earthquake.html'),\n",
       "     ('In defence of statistics',\n",
       "      'http://www.open.edu/openlearnworks/mod/oucontent/view.php?id=13363&section=5.3'),\n",
       "     ('Tactics of persuasion',\n",
       "      'http://www.open.edu/openlearnworks/mod/oucontent/view.php?id=13363&section=5.4'),\n",
       "     ('When the data you don’t collect affects the data you do',\n",
       "      'http://www.open.edu/openlearn/science-maths-technology/mathematics-and-statistics/statistics/diary-data-sleuth-when-the-data-you-dont-collect-affects-the-data-you-do ')],\n",
       "    '4 Visualising the story': [('The Data Visualisation Catalogue',\n",
       "      'http://www.datavizcatalogue.com/'),\n",
       "     ('A Periodic Table of Visualization Methods',\n",
       "      'http://www.visual-literacy.org/periodic_table/periodic_table.html'),\n",
       "     ('https://www.mapbox.com/labs/twitter-gnip/locals/#12/52.0415/-0.7400',\n",
       "      'https://www.mapbox.com/labs/twitter-gnip/locals/#12/52.0415/-0.7400'),\n",
       "     ('http://www.ons.gov.uk/ons/rel/rdit1/gross-domestic-expenditure-on-research-and-development/2013/sty-gerd-2013.html',\n",
       "      'http://www.ons.gov.uk/ons/rel/rdit1/gross-domestic-expenditure-on-research-and-development/2013/sty-gerd-2013.html'),\n",
       "     ('seaborn', 'http://stanford.edu/~mwaskom/software/seaborn/'),\n",
       "     ('A Simple Introduction to the Graphing Philosophy of ggplot2',\n",
       "      'http://tomhopper.me/2014/03/28/a-simple-introduction-to-the-graphing-philosophy-of-ggplot2/')],\n",
       "    '5 Reporting the story': [('Why Jupyter is data scientists’ computational notebook of choice',\n",
       "      'https://www.nature.com/articles/d41586-018-07196-1')],\n",
       "    '6 Summary': [],\n",
       "    'BackMatter': [('http://ieeexplore.ieee.org.libezproxy.open.ac.uk/xpl/articleDetails.jsp?arnumber=6412677',\n",
       "      'http://ieeexplore.ieee.org/xpl/articleDetails.jsp?arnumber=6412677'),\n",
       "     ('http://mastersofmedia.hum.uva.nl/2011/05/03/narrative-structures-in-data-visualizations-to-improve-storytelling/',\n",
       "      'http://mastersofmedia.hum.uva.nl/2011/05/03/narrative-structures-in-data-visualizations-to-improve-storytelling/'),\n",
       "     ('http://ieeexplore.ieee.org.libezproxy.open.ac.uk/xpl/articleDetails.jsp?arnumber=5613452',\n",
       "      'http://ieeexplore.ieee.org/xpl/articleDetails.jsp?arnumber=5613452'),\n",
       "     ('http://steiny.typepad.com/premise/2012/01/the-two-types-of-data-visualisation-and-why-it-matters-to-understand-the-difference.html',\n",
       "      'http://steiny.typepad.com/premise/2012/01/the-two-types-of-data-visualisation-and-why-it-matters-to-understand-the-difference.html'),\n",
       "     ('http://www.jstor.org.libezproxy.open.ac.uk/stable/2245820?seq=1#page_scan_tab_contents',\n",
       "      'http://www.jstor.org/stable/2245820?seq=1#page_scan_tab_contents'),\n",
       "     ('http://jakevdp.github.io/blog/2013/12/05/static-interactive-widgets/',\n",
       "      'http://jakevdp.github.io/blog/2013/12/05/static-interactive-widgets/'),\n",
       "     ('http://www.tandfonline.com.libezproxy.open.ac.uk/doi/abs/10.1198/jcgs.2009.07098',\n",
       "      'http://www.tandfonline.com/doi/abs/10.1198/jcgs.2009.07098'),\n",
       "     ('10.1007/0-387-28695-0', 'http://dx.doi.org/10.1007/0-387-28695-0'),\n",
       "     ('http://www.scholarpedia.org/article/Gestalt_principles',\n",
       "      'http://www.scholarpedia.org/article/Gestalt_principles'),\n",
       "     ('http://www.researchgate.net/publication/235351120_Towards_a_Unifying_Visualization_Ontology',\n",
       "      'http://www.researchgate.net/publication/235351120_Towards_a_Unifying_Visualization_Ontology'),\n",
       "     ('http://ieeexplore.ieee.org.libezproxy.open.ac.uk/xpl/articleDetails.jsp?arnumber=885092',\n",
       "      'http://ieeexplore.ieee.org/xpl/articleDetails.jsp?arnumber=885092'),\n",
       "     ('http://ieeexplore.ieee.org.libezproxy.open.ac.uk/xpl/articleDetails.jsp?arnumber=636792',\n",
       "      'http://ieeexplore.ieee.org/xpl/articleDetails.jsp?arnumber=636792'),\n",
       "     ('http://ieeexplore.ieee.org.libezproxy.open.ac.uk/xpl/articleDetails.jsp?arnumber=5290695',\n",
       "      'http://ieeexplore.ieee.org/xpl/articleDetails.jsp?arnumber=5290695'),\n",
       "     ('http://www.sonification.de/publications/media/HermannRitter1999-LTY.pdf',\n",
       "      'http://www.sonification.de/publications/media/HermannRitter1999-LTY.pdf'),\n",
       "     ('http://www.sonification.de/projects/ISIMADE/index.html',\n",
       "      'http://www.sonification.de/projects/ISIMADE/index.html'),\n",
       "     ('http://earthzine.org/2013/07/23/sonification-data-like-youve-never-heard-before/',\n",
       "      'http://earthzine.org/2013/07/23/sonification-data-like-youve-never-heard-before/'),\n",
       "     ('http://ieeexplore.ieee.org.libezproxy.open.ac.uk/xpl/articleDetails.jsp?arnumber=4376143',\n",
       "      'http://ieeexplore.ieee.org/xpl/articleDetails.jsp?arnumber=4376143'),\n",
       "     ('http://dl.acm.org.libezproxy.open.ac.uk/citation.cfm?doid=1753326.1753716',\n",
       "      'http://dl.acm.org/citation.cfm?doid=1753326.1753716'),\n",
       "     ('http://ieeexplore.ieee.org.libezproxy.open.ac.uk/xpl/articleDetails.jsp?arnumber=6327281',\n",
       "      'http://ieeexplore.ieee.org/xpl/articleDetails.jsp?arnumber=6327281'),\n",
       "     ('http://www.thefunctionalart.com/2014/08/to-make-visualizations-that-are.html',\n",
       "      'http://www.thefunctionalart.com/2014/08/to-make-visualizations-that-are.html'),\n",
       "     ('http://www.socialinnovationexchange.org/categories/read/participatory-mapping-as-a-social-digital-tool',\n",
       "      'http://www.socialinnovationexchange.org/categories/read/participatory-mapping-as-a-social-digital-tool'),\n",
       "     ('http://www.blog.theteamw.com/2010/12/02/100-things-you-should-know-about-people-48-what-you-see-is-not-what-your-brain-gets/',\n",
       "      'http://www.blog.theteamw.com/2010/12/02/100-things-you-should-know-about-people-48-what-you-see-is-not-what-your-brain-gets/'),\n",
       "     ('https://commons.wikimedia.org/wiki/File:Gestalt.svg',\n",
       "      'https://commons.wikimedia.org/wiki/File:Gestalt.svg'),\n",
       "     ('http://creativecommons.org/licenses/by/3.0/',\n",
       "      'http://creativecommons.org/licenses/by/3.0/'),\n",
       "     ('http://jthsinstructionaltechnology.blogspot.co.uk/2012/10/infographics-explained-and-why-you.html',\n",
       "      'http://jthsinstructionaltechnology.blogspot.co.uk/2012/10/infographics-explained-and-why-you.html'),\n",
       "     ('http://iew.technion.ac.il/newsletter/en/home/17-march14/18-prof-avi-parush,-big-data-to-big-picture-consider-some-fundamentals-of-human-visual-perception.html',\n",
       "      'http://iew.technion.ac.il/newsletter/en/home/17-march14/18-prof-avi-parush,-big-data-to-big-picture-consider-some-fundamentals-of-human-visual-perception.html'),\n",
       "     ('http://extremepresentation.typepad.com/blog/2006/09/choosing_a_good.html',\n",
       "      'http://extremepresentation.typepad.com/blog/2006/09/choosing_a_good.html')]}}])"
      ]
     },
     "execution_count": 9,
     "metadata": {},
     "output_type": "execute_result"
    }
   ],
   "source": [
    "docs = get_xml_files('./xml_test')\n",
    "doc_links, unique_links = extract_links_from_docs(docs)\n",
    "\n",
    "unique_links, doc_links"
   ]
  },
  {
   "cell_type": "markdown",
   "id": "compound-clark",
   "metadata": {},
   "source": [
    "## Link Checker\n",
    "\n",
    "A simple routine to check links. The link check will report on:\n",
    "\n",
    "- broken links (404);\n",
    "- temporary and permanent redirects;\n",
    "- links using OU authentication (libezproxy; link domains are suffixed by `.libezproxy.open.ac.uk`) will have the libezproxy component stripped;\n",
    "- links using liblinks (of the form `https://www.open.ac.uk/libraryservices/resource/website:ID&amp;f=FID`; the `f=FID` seems redundant - what does it do?)\n",
    "\n",
    "*TO DO: where appropriate/informative, consider reports for the full range of [`2xx` success](https://en.wikipedia.org/wiki/List_of_HTTP_status_codes#2xx_success) reponse codes, [`3xx` redirection](https://en.wikipedia.org/wiki/List_of_HTTP_status_codes#3xx_redirection) codes, [`4xx` client error](https://en.wikipedia.org/wiki/List_of_HTTP_status_codes#4xx_client_errors) codes and [`5xx` server error](https://en.wikipedia.org/wiki/List_of_HTTP_status_codes#5xx_server_errors) codes.*\n",
    "\n",
    "At the moment, all links are checked, even if they are duplicates."
   ]
  },
  {
   "cell_type": "code",
   "execution_count": 10,
   "id": "applied-fence",
   "metadata": {},
   "outputs": [],
   "source": [
    "# Run a link check on a single link\n",
    "\n",
    "import requests\n",
    "\n",
    "def link_reporter(url, display=False, redirect_log=True):\n",
    "    \"\"\"Attempt to resolve a URL and report on how it was resolved.\"\"\"\n",
    "    if display:\n",
    "        print(f\"Checking {url}...\")\n",
    "    \n",
    "    # Make request and follow redirects\n",
    "    try:\n",
    "        r = requests.head(url, allow_redirects=True)\n",
    "    except:\n",
    "        r = None\n",
    "    \n",
    "    if r is None:\n",
    "        return [(False, url, None, \"Error resolving URL\")]\n",
    "\n",
    "    # Optionally create a report including each step of redirection/resolution\n",
    "    steps = r.history + [r] if redirect_log else [r]\n",
    "    \n",
    "    step_reports = []\n",
    "    for step in steps:\n",
    "        step_report = (step.ok, step.url, step.status_code, step.reason)\n",
    "        step_reports.append( step_report )\n",
    "        if display:\n",
    "            txt_report = f'\\tok={step.ok} :: {step.url} :: {step.status_code} :: {step.reason}\\n'\n",
    "            print(txt_report)\n",
    "\n",
    "    return step_reports"
   ]
  },
  {
   "cell_type": "markdown",
   "id": "informed-mason",
   "metadata": {},
   "source": [
    "We can run some simple tests to see examples of particular sorts of errors. Other errors may be discovered when running the link checker over a wider range of resources.\n",
    "\n",
    "We could capture and report on different sorts of status code in specific ways, if that is useful."
   ]
  },
  {
   "cell_type": "code",
   "execution_count": 11,
   "id": "altered-grenada",
   "metadata": {
    "tags": [
     "active-ipynb"
    ]
   },
   "outputs": [
    {
     "data": {
      "text/plain": [
       "[(True,\n",
       "  'http://ieeexplore.ieee.org/xpl/articleDetails.jsp?arnumber=4376143',\n",
       "  301,\n",
       "  'Moved Permanently'),\n",
       " (True,\n",
       "  'https://ieeexplore.ieee.org/xpl/articleDetails.jsp?arnumber=4376143',\n",
       "  302,\n",
       "  'Moved Temporarily'),\n",
       " (True,\n",
       "  'https://ieeexplore.ieee.org/document/4376143/?arnumber=4376143',\n",
       "  200,\n",
       "  'OK')]"
      ]
     },
     "execution_count": 11,
     "metadata": {},
     "output_type": "execute_result"
    }
   ],
   "source": [
    "## Test link check reports\n",
    "url_direct='https://rallydatajunkie.com/visualising-rally-stages/'\n",
    "url_redirect='http://rallydatajunkie.github.io/visualising-rally-stages/'\n",
    "url_liblink='https://www.open.ac.uk/libraryservices/resource/website:106223&amp;f=28585'\n",
    "url_404='http://www.digitalhealth.net/news/25742/'\n",
    "url_ezproxy='http://ieeexplore.ieee.org.libezproxy.open.ac.uk/xpl/articleDetails.jsp?arnumber=4376143'\n",
    "url_ezproxy_clean=url_ezproxy.replace('.libezproxy.open.ac.uk', '')\n",
    "\n",
    "link_reporter(url_direct)\n",
    "link_reporter(url_redirect)\n",
    "link_reporter(url_liblink)\n",
    "link_reporter(url_404)\n",
    "link_reporter(url_ezproxy)\n",
    "link_reporter(url_ezproxy_clean)"
   ]
  },
  {
   "cell_type": "markdown",
   "id": "spatial-usage",
   "metadata": {},
   "source": [
    "## Checking Links from One or More Documents\n",
    "\n",
    "A routine to check links from OU-XML documents found in a directory:"
   ]
  },
  {
   "cell_type": "code",
   "execution_count": 12,
   "id": "cubic-poverty",
   "metadata": {},
   "outputs": [],
   "source": [
    "# Run link checks over a set of links\n",
    "\n",
    "def check_multiple_links(urls, display=False, redirect_log=True):\n",
    "    \"\"\"Check multiple links.\"\"\"\n",
    "    \n",
    "    # Use unique links\n",
    "    urls = list(set(urls)) if isinstance(urls, list) else [urls]\n",
    "    \n",
    "    link_reports = {}\n",
    "    for url in tqdm(urls):\n",
    "        play_nice()\n",
    "        link_report = link_reporter(url, display, redirect_log)\n",
    "        link_reports[url] = link_report\n",
    "        \n",
    "    return link_reports"
   ]
  },
  {
   "cell_type": "code",
   "execution_count": 13,
   "id": "artistic-screw",
   "metadata": {
    "tags": [
     "active-ipynb"
    ]
   },
   "outputs": [
    {
     "name": "stderr",
     "output_type": "stream",
     "text": [
      " 33%|███████████████                              | 1/3 [00:00<00:00,  7.52it/s]"
     ]
    },
    {
     "name": "stdout",
     "output_type": "stream",
     "text": [
      "Checking https://rallydatajunkie.com/visualising-rally-stages/...\n",
      "\tok=True :: https://rallydatajunkie.com/visualising-rally-stages/ :: 200 :: OK\n",
      "\n",
      "Checking http://rallydatajunkie.github.io/visualising-rally-stages/...\n"
     ]
    },
    {
     "name": "stderr",
     "output_type": "stream",
     "text": [
      "\r",
      " 67%|██████████████████████████████               | 2/3 [00:00<00:00,  7.03it/s]"
     ]
    },
    {
     "name": "stdout",
     "output_type": "stream",
     "text": [
      "\tok=True :: http://rallydatajunkie.github.io/visualising-rally-stages/ :: 301 :: Moved Permanently\n",
      "\n",
      "\tok=True :: https://rallydatajunkie.com/visualising-rally-stages/ :: 200 :: OK\n",
      "\n",
      "Checking http://www.digitalhealth.net/news/25742/...\n"
     ]
    },
    {
     "name": "stderr",
     "output_type": "stream",
     "text": [
      "100%|█████████████████████████████████████████████| 3/3 [00:03<00:00,  1.17s/it]"
     ]
    },
    {
     "name": "stdout",
     "output_type": "stream",
     "text": [
      "\tok=True :: http://www.digitalhealth.net/news/25742/ :: 301 :: Moved Permanently\n",
      "\n",
      "\tok=True :: https://www.digitalhealth.net/news/25742/ :: 301 :: Moved Permanently\n",
      "\n",
      "\tok=False :: https://www.digitalhealth.net/404-error-page/ :: 404 :: Not Found\n",
      "\n"
     ]
    },
    {
     "name": "stderr",
     "output_type": "stream",
     "text": [
      "\n"
     ]
    },
    {
     "data": {
      "text/plain": [
       "{'https://rallydatajunkie.com/visualising-rally-stages/': [(True,\n",
       "   'https://rallydatajunkie.com/visualising-rally-stages/',\n",
       "   200,\n",
       "   'OK')],\n",
       " 'http://rallydatajunkie.github.io/visualising-rally-stages/': [(True,\n",
       "   'http://rallydatajunkie.github.io/visualising-rally-stages/',\n",
       "   301,\n",
       "   'Moved Permanently'),\n",
       "  (True, 'https://rallydatajunkie.com/visualising-rally-stages/', 200, 'OK')],\n",
       " 'http://www.digitalhealth.net/news/25742/': [(True,\n",
       "   'http://www.digitalhealth.net/news/25742/',\n",
       "   301,\n",
       "   'Moved Permanently'),\n",
       "  (True,\n",
       "   'https://www.digitalhealth.net/news/25742/',\n",
       "   301,\n",
       "   'Moved Permanently'),\n",
       "  (False, 'https://www.digitalhealth.net/404-error-page/', 404, 'Not Found')]}"
      ]
     },
     "execution_count": 13,
     "metadata": {},
     "output_type": "execute_result"
    }
   ],
   "source": [
    "# Test a set of links\n",
    "test_links = [url_direct, url_redirect, url_404]\n",
    "\n",
    "link_reports = check_multiple_links(test_links, display=True)\n",
    "link_reports"
   ]
  },
  {
   "cell_type": "markdown",
   "id": "latter-terror",
   "metadata": {},
   "source": [
    "From the set of links, we can create a report showing any dead links:"
   ]
  },
  {
   "cell_type": "code",
   "execution_count": 14,
   "id": "occasional-footage",
   "metadata": {},
   "outputs": [],
   "source": [
    "# Find dead links\n",
    "\n",
    "def dead_link_report(link_reports):\n",
    "    \"\"\"Create a list of dead links.\"\"\"\n",
    "    dead_links = {}\n",
    "    \n",
    "    for link in link_reports:\n",
    "        link_report = link_reports[link]\n",
    "        if not link_report[-1][0]:\n",
    "            dead_links[link] = link_report\n",
    "\n",
    "    return dead_links\n"
   ]
  },
  {
   "cell_type": "code",
   "execution_count": 15,
   "id": "asian-fraud",
   "metadata": {
    "tags": [
     "active-ipynb"
    ]
   },
   "outputs": [
    {
     "data": {
      "text/plain": [
       "{'http://www.digitalhealth.net/news/25742/': [(True,\n",
       "   'http://www.digitalhealth.net/news/25742/',\n",
       "   301,\n",
       "   'Moved Permanently'),\n",
       "  (True,\n",
       "   'https://www.digitalhealth.net/news/25742/',\n",
       "   301,\n",
       "   'Moved Permanently'),\n",
       "  (False, 'https://www.digitalhealth.net/404-error-page/', 404, 'Not Found')]}"
      ]
     },
     "execution_count": 15,
     "metadata": {},
     "output_type": "execute_result"
    }
   ],
   "source": [
    "dead_link_report(link_reports)"
   ]
  },
  {
   "cell_type": "markdown",
   "id": "functioning-monitoring",
   "metadata": {},
   "source": [
    "We can also create a report per document. This is perhaps more useful because we can see which sections contain which dead links, if any."
   ]
  },
  {
   "cell_type": "code",
   "execution_count": 18,
   "id": "turned-neutral",
   "metadata": {},
   "outputs": [],
   "source": [
    "def link_reporter_by_docs(doc_links):\n",
    "    \"\"\"Link reports by document.\"\"\"\n",
    "    doc_links_reports = []\n",
    "    doc_links_nok_reports = []\n",
    "    \n",
    "    unique_link_reports = {}\n",
    "    \n",
    "    for doc in doc_links:\n",
    "\n",
    "        doc_links_report = {'metadata': doc['metadata'], 'sessions': {}}\n",
    "        doc_links_nok_report = {'metadata': doc['metadata'], 'sessions': {}}\n",
    "        \n",
    "        for session in tqdm(doc['sessions']):\n",
    "            link_reports = []\n",
    "            nok_link_reports = []\n",
    "            for (title, url) in doc['sessions'][session]:\n",
    "                # Only request each unique URL once\n",
    "                if url in unique_link_reports:\n",
    "                    link_report = unique_link_reports[url]\n",
    "                else:\n",
    "                    play_nice()\n",
    "                    link_report = link_reporter(url)\n",
    "                    unique_link_reports[url] = link_report\n",
    "                ok = link_report[-1][0]\n",
    "                link_reports.append( (title, url, link_report, ok))\n",
    "                \n",
    "                if not ok:\n",
    "                    nok_link_reports.append( (title, url, link_report, ok))\n",
    "\n",
    "            doc_links_report['sessions'][session] = link_reports\n",
    "            if nok_link_reports:\n",
    "                doc_links_nok_report['sessions'][session] = nok_link_reports\n",
    "\n",
    "        doc_links_reports.append(doc_links_report)\n",
    "        doc_links_nok_reports.append(doc_links_nok_report)\n",
    "        \n",
    "    return doc_links_reports, doc_links_nok_reports, unique_link_reports"
   ]
  },
  {
   "cell_type": "code",
   "execution_count": 19,
   "id": "quick-bacteria",
   "metadata": {
    "tags": [
     "active-ipynb"
    ]
   },
   "outputs": [
    {
     "name": "stderr",
     "output_type": "stream",
     "text": [
      "100%|█████████████████████████████████████████████| 7/7 [00:11<00:00,  1.61s/it]\n",
      "100%|█████████████████████████████████████████████| 7/7 [00:29<00:00,  4.24s/it]\n"
     ]
    }
   ],
   "source": [
    "link_reports, bad_link_reports, unique_link_reports = link_reporter_by_docs(doc_links)"
   ]
  },
  {
   "cell_type": "code",
   "execution_count": 20,
   "id": "compact-marker",
   "metadata": {
    "tags": [
     "active-ipynb"
    ]
   },
   "outputs": [
    {
     "data": {
      "text/plain": [
       "[{'metadata': {'coursecode': 'TM351',\n",
       "   'coursetitle': 'Data management and analysis',\n",
       "   'itemtitle': 'Part 3 Data preparation',\n",
       "   'file': 'xml_test/tm351-week3.xml'},\n",
       "  'sessions': {'BackMatter': [('http://www.digitalhealth.net/news/25742/',\n",
       "     'http://www.digitalhealth.net/news/25742/',\n",
       "     [(True,\n",
       "       'http://www.digitalhealth.net/news/25742/',\n",
       "       301,\n",
       "       'Moved Permanently'),\n",
       "      (True,\n",
       "       'https://www.digitalhealth.net/news/25742/',\n",
       "       301,\n",
       "       'Moved Permanently'),\n",
       "      (False,\n",
       "       'https://www.digitalhealth.net/404-error-page/',\n",
       "       404,\n",
       "       'Not Found')],\n",
       "     False),\n",
       "    ('http://www.nytimes.com/2006/02/15/national/15house.html?_r=0',\n",
       "     'http://www.nytimes.com/2006/02/15/national/15house.html?_r=0',\n",
       "     [(True,\n",
       "       'http://www.nytimes.com/2006/02/15/national/15house.html?_r=0',\n",
       "       301,\n",
       "       'Moved Permanently'),\n",
       "      (False,\n",
       "       'https://www.nytimes.com/2006/02/15/national/15house.html?_r=0',\n",
       "       403,\n",
       "       'Forbidden')],\n",
       "     False)]}},\n",
       " {'metadata': {'coursecode': 'TM351',\n",
       "   'coursetitle': 'Data management and analysis',\n",
       "   'itemtitle': 'Part 5 Presentation: telling the story',\n",
       "   'file': 'xml_test/tm351-week5.xml'},\n",
       "  'sessions': {'3 Finding the story': [('When the data you don’t collect affects the data you do',\n",
       "     'http://www.open.edu/openlearn/science-maths-technology/mathematics-and-statistics/statistics/diary-data-sleuth-when-the-data-you-dont-collect-affects-the-data-you-do ',\n",
       "     [(True,\n",
       "       'http://www.open.edu/openlearn/science-maths-technology/mathematics-and-statistics/statistics/diary-data-sleuth-when-the-data-you-dont-collect-affects-the-data-you-do%20',\n",
       "       301,\n",
       "       'Moved Permanently'),\n",
       "      (False,\n",
       "       'https://www.open.edu/openlearn/science-maths-technology/mathematics-and-statistics/statistics/diary-data-sleuth-when-the-data-you-dont-collect-affects-the-data-you-do%20',\n",
       "       404,\n",
       "       'Not Found')],\n",
       "     False)],\n",
       "   'BackMatter': [('http://www.jstor.org.libezproxy.open.ac.uk/stable/2245820?seq=1#page_scan_tab_contents',\n",
       "     'http://www.jstor.org/stable/2245820?seq=1#page_scan_tab_contents',\n",
       "     [(False,\n",
       "       'http://www.jstor.org/stable/2245820?seq=1#page_scan_tab_contents',\n",
       "       420,\n",
       "       'Enhance Your Calm')],\n",
       "     False),\n",
       "    ('http://www.researchgate.net/publication/235351120_Towards_a_Unifying_Visualization_Ontology',\n",
       "     'http://www.researchgate.net/publication/235351120_Towards_a_Unifying_Visualization_Ontology',\n",
       "     [(True,\n",
       "       'http://www.researchgate.net/publication/235351120_Towards_a_Unifying_Visualization_Ontology',\n",
       "       301,\n",
       "       'Moved Permanently'),\n",
       "      (False,\n",
       "       'https://www.researchgate.net/publication/235351120_Towards_a_Unifying_Visualization_Ontology',\n",
       "       403,\n",
       "       'Forbidden')],\n",
       "     False),\n",
       "    ('http://www.sonification.de/publications/media/HermannRitter1999-LTY.pdf',\n",
       "     'http://www.sonification.de/publications/media/HermannRitter1999-LTY.pdf',\n",
       "     [(True,\n",
       "       'http://www.sonification.de/publications/media/HermannRitter1999-LTY.pdf',\n",
       "       301,\n",
       "       'Moved Permanently'),\n",
       "      (False,\n",
       "       'https://sonification.de/publications/media/HermannRitter1999-LTY.pdf',\n",
       "       403,\n",
       "       'Forbidden')],\n",
       "     False),\n",
       "    ('http://www.sonification.de/projects/ISIMADE/index.html',\n",
       "     'http://www.sonification.de/projects/ISIMADE/index.html',\n",
       "     [(True,\n",
       "       'http://www.sonification.de/projects/ISIMADE/index.html',\n",
       "       301,\n",
       "       'Moved Permanently'),\n",
       "      (False,\n",
       "       'https://sonification.de/projects/ISIMADE/index.html',\n",
       "       403,\n",
       "       'Forbidden')],\n",
       "     False),\n",
       "    ('http://earthzine.org/2013/07/23/sonification-data-like-youve-never-heard-before/',\n",
       "     'http://earthzine.org/2013/07/23/sonification-data-like-youve-never-heard-before/',\n",
       "     [(False,\n",
       "       'http://earthzine.org/2013/07/23/sonification-data-like-youve-never-heard-before/',\n",
       "       403,\n",
       "       'Forbidden')],\n",
       "     False),\n",
       "    ('http://www.socialinnovationexchange.org/categories/read/participatory-mapping-as-a-social-digital-tool',\n",
       "     'http://www.socialinnovationexchange.org/categories/read/participatory-mapping-as-a-social-digital-tool',\n",
       "     [(True,\n",
       "       'http://www.socialinnovationexchange.org/categories/read/participatory-mapping-as-a-social-digital-tool',\n",
       "       301,\n",
       "       'Moved Permanently'),\n",
       "      (False,\n",
       "       'http://socialinnovationexchange.org/categories/read/participatory-mapping-as-a-social-digital-tool',\n",
       "       404,\n",
       "       'Not Found')],\n",
       "     False)]}}]"
      ]
     },
     "execution_count": 20,
     "metadata": {},
     "output_type": "execute_result"
    }
   ],
   "source": [
    "bad_link_reports"
   ]
  },
  {
   "cell_type": "code",
   "execution_count": 23,
   "id": "7c3713ab",
   "metadata": {
    "tags": [
     "active-ipynb"
    ]
   },
   "outputs": [
    {
     "data": {
      "text/plain": [
       "{'http://library.open.ac.uk': [(True,\n",
       "   'http://library.open.ac.uk/',\n",
       "   301,\n",
       "   'Moved Permanently'),\n",
       "  (True, 'https://www.open.ac.uk/library/', 200, 'OK')],\n",
       " 'https://www.open.ac.uk/libraryservices/resource/website:104152&f=28335': [(True,\n",
       "   'https://www.open.ac.uk/libraryservices/resource/website:104152&f=28335',\n",
       "   302,\n",
       "   'Found'),\n",
       "  (True,\n",
       "   'https://www.digitalhealth.net/2010/04/inquiry-into-transplant-database-errors/',\n",
       "   200,\n",
       "   'OK')],\n",
       " 'https://www.open.ac.uk/libraryservices/resource/website:104153&f=28335': [(True,\n",
       "   'https://www.open.ac.uk/libraryservices/resource/website:104153&f=28335',\n",
       "   302,\n",
       "   'Found'),\n",
       "  (True,\n",
       "   'https://www.gov.uk/government/uploads/system/uploads/attachment_data/file/213809/dh_120579.pdf',\n",
       "   301,\n",
       "   'Moved Permanently'),\n",
       "  (True,\n",
       "   'https://assets.publishing.service.gov.uk/government/uploads/system/uploads/attachment_data/file/213809/dh_120579.pdf',\n",
       "   200,\n",
       "   'OK')],\n",
       " 'https://www.open.ac.uk/libraryservices/resource/website:104154&f=28335': [(True,\n",
       "   'https://www.open.ac.uk/libraryservices/resource/website:104154&f=28335',\n",
       "   302,\n",
       "   'Found'),\n",
       "  (True,\n",
       "   'http://blog.ouseful.info/2012/02/03/several-takes-on-the-definition-of-data-laundering/',\n",
       "   301,\n",
       "   'Moved Permanently'),\n",
       "  (True,\n",
       "   'https://blog.ouseful.info/2012/02/03/several-takes-on-the-definition-of-data-laundering/',\n",
       "   200,\n",
       "   'OK')],\n",
       " 'https://www.open.ac.uk/libraryservices/resource/website:104223&f=28335': [(True,\n",
       "   'https://www.open.ac.uk/libraryservices/resource/website:104223&f=28335',\n",
       "   302,\n",
       "   'Found'),\n",
       "  (True,\n",
       "   'http://nbviewer.ipython.org/gist/psychemedia/14ac489ebb6bec3ee84f',\n",
       "   301,\n",
       "   'Moved Permanently'),\n",
       "  (True,\n",
       "   'http://nbviewer.jupyter.org/gist/psychemedia/14ac489ebb6bec3ee84f',\n",
       "   302,\n",
       "   'Moved Temporarily'),\n",
       "  (True,\n",
       "   'https://nbviewer.org/gist/psychemedia/14ac489ebb6bec3ee84f',\n",
       "   200,\n",
       "   'OK')],\n",
       " 'https://www.open.ac.uk/libraryservices/resource/website:104155&f=28335': [(True,\n",
       "   'https://www.open.ac.uk/libraryservices/resource/website:104155&f=28335',\n",
       "   302,\n",
       "   'Found'),\n",
       "  (True,\n",
       "   'http://blog.ouseful.info/2013/05/03/a-wrangling-example-with-openrefine-making-ready-data/',\n",
       "   301,\n",
       "   'Moved Permanently'),\n",
       "  (True,\n",
       "   'https://blog.ouseful.info/2013/05/03/a-wrangling-example-with-openrefine-making-ready-data/',\n",
       "   200,\n",
       "   'OK')],\n",
       " 'http://www.digitalhealth.net/news/25742/': [(True,\n",
       "   'http://www.digitalhealth.net/news/25742/',\n",
       "   301,\n",
       "   'Moved Permanently'),\n",
       "  (True,\n",
       "   'https://www.digitalhealth.net/news/25742/',\n",
       "   301,\n",
       "   'Moved Permanently'),\n",
       "  (False, 'https://www.digitalhealth.net/404-error-page/', 404, 'Not Found')],\n",
       " 'http://edition.cnn.com/TECH/space/9909/30/mars.metric/': [(True,\n",
       "   'http://edition.cnn.com/TECH/space/9909/30/mars.metric/',\n",
       "   200,\n",
       "   'OK')],\n",
       " 'https://www.gov.uk/government/uploads/system/uploads/attachment_data/file/213809/dh_120579.pdf': [(True,\n",
       "   'https://www.gov.uk/government/uploads/system/uploads/attachment_data/file/213809/dh_120579.pdf',\n",
       "   301,\n",
       "   'Moved Permanently'),\n",
       "  (True,\n",
       "   'https://assets.publishing.service.gov.uk/government/uploads/system/uploads/attachment_data/file/213809/dh_120579.pdf',\n",
       "   200,\n",
       "   'OK')],\n",
       " 'https://www.youtube.com/watch?v=k4gj_RdtKCw': [(True,\n",
       "   'https://www.youtube.com/watch?v=k4gj_RdtKCw',\n",
       "   200,\n",
       "   'OK')],\n",
       " 'https://github.com/drichard/mindmaps': [(True,\n",
       "   'https://github.com/drichard/mindmaps',\n",
       "   200,\n",
       "   'OK')],\n",
       " 'http://blog.ouseful.info/2012/02/03/several-takes-on-the-definition-of-data-laundering/': [(True,\n",
       "   'http://blog.ouseful.info/2012/02/03/several-takes-on-the-definition-of-data-laundering/',\n",
       "   301,\n",
       "   'Moved Permanently'),\n",
       "  (True,\n",
       "   'https://blog.ouseful.info/2012/02/03/several-takes-on-the-definition-of-data-laundering/',\n",
       "   200,\n",
       "   'OK')],\n",
       " 'http://blog.ouseful.info/2013/05/03/a-wrangling-example-with-openrefine-making-ready-data/': [(True,\n",
       "   'http://blog.ouseful.info/2013/05/03/a-wrangling-example-with-openrefine-making-ready-data/',\n",
       "   301,\n",
       "   'Moved Permanently'),\n",
       "  (True,\n",
       "   'https://blog.ouseful.info/2013/05/03/a-wrangling-example-with-openrefine-making-ready-data/',\n",
       "   200,\n",
       "   'OK')],\n",
       " 'http://dc-pubs.dbs.uni-leipzig.de/files/Rahm2000DataCleaningProblemsand.pdf': [(True,\n",
       "   'http://dc-pubs.dbs.uni-leipzig.de/files/Rahm2000DataCleaningProblemsand.pdf',\n",
       "   200,\n",
       "   'OK')],\n",
       " 'http://www.nytimes.com/2006/02/15/national/15house.html?_r=0': [(True,\n",
       "   'http://www.nytimes.com/2006/02/15/national/15house.html?_r=0',\n",
       "   301,\n",
       "   'Moved Permanently'),\n",
       "  (False,\n",
       "   'https://www.nytimes.com/2006/02/15/national/15house.html?_r=0',\n",
       "   403,\n",
       "   'Forbidden')],\n",
       " 'http://www.nwitimes.com/news/local/a-million-home/article_899b39b3-fbdf-522f-a6fc-e8ae73eb8c96.html': [(True,\n",
       "   'http://www.nwitimes.com/news/local/a-million-home/article_899b39b3-fbdf-522f-a6fc-e8ae73eb8c96.html',\n",
       "   301,\n",
       "   'Moved Permanently'),\n",
       "  (True,\n",
       "   'https://www.nwitimes.com/news/local/a-million-home/article_899b39b3-fbdf-522f-a6fc-e8ae73eb8c96.html',\n",
       "   200,\n",
       "   'OK')],\n",
       " 'http://www.thedoghousediaries.com/1406': [(True,\n",
       "   'http://www.thedoghousediaries.com/1406',\n",
       "   200,\n",
       "   'OK')],\n",
       " 'http://www.pbs.org/mediashift/2014/07/take-an-interviewing-approach-to-find-stories-in-data/': [(True,\n",
       "   'http://www.pbs.org/mediashift/2014/07/take-an-interviewing-approach-to-find-stories-in-data/',\n",
       "   301,\n",
       "   'Moved Permanently'),\n",
       "  (True,\n",
       "   'http://mediashift.org/2014/07/take-an-interviewing-approach-to-find-stories-in-data/',\n",
       "   200,\n",
       "   'OK')],\n",
       " 'http://nbviewer.IPython.org/gist/psychemedia/c1ac132946fa120cad91': [(True,\n",
       "   'http://nbviewer.ipython.org/gist/psychemedia/c1ac132946fa120cad91',\n",
       "   301,\n",
       "   'Moved Permanently'),\n",
       "  (True,\n",
       "   'http://nbviewer.jupyter.org/gist/psychemedia/c1ac132946fa120cad91',\n",
       "   302,\n",
       "   'Moved Temporarily'),\n",
       "  (True,\n",
       "   'https://nbviewer.org/gist/psychemedia/c1ac132946fa120cad91',\n",
       "   200,\n",
       "   'OK')],\n",
       " 'http://www.tableau.com/': [(True,\n",
       "   'http://www.tableau.com/',\n",
       "   301,\n",
       "   'Moved Permanently'),\n",
       "  (True, 'https://www.tableau.com/', 200, 'OK')],\n",
       " 'http://www.theguardian.com/world/datablog/interactive/2010/jul/25/afghanistan-war-logs-events': [(True,\n",
       "   'http://www.theguardian.com/world/datablog/interactive/2010/jul/25/afghanistan-war-logs-events',\n",
       "   301,\n",
       "   ''),\n",
       "  (True,\n",
       "   'https://www.theguardian.com/world/datablog/interactive/2010/jul/25/afghanistan-war-logs-events',\n",
       "   200,\n",
       "   'OK')],\n",
       " 'http://www.theguardian.com/news/datablog/interactive/2011/aug/10/poverty-riots-mapped': [(True,\n",
       "   'http://www.theguardian.com/news/datablog/interactive/2011/aug/10/poverty-riots-mapped',\n",
       "   301,\n",
       "   ''),\n",
       "  (True,\n",
       "   'https://www.theguardian.com/news/datablog/interactive/2011/aug/10/poverty-riots-mapped',\n",
       "   200,\n",
       "   'OK')],\n",
       " 'http://www.nytimes.com/interactive/2013/02/19/movies/awardsseason/oscar-trailers.html?_r=1&': [(True,\n",
       "   'http://www.nytimes.com/interactive/2013/02/19/movies/awardsseason/oscar-trailers.html?_r=1&',\n",
       "   301,\n",
       "   'Moved Permanently'),\n",
       "  (True,\n",
       "   'https://www.nytimes.com/interactive/2013/02/19/movies/awardsseason/oscar-trailers.html?_r=1&',\n",
       "   301,\n",
       "   'Moved Permanently'),\n",
       "  (True,\n",
       "   'https://archive.nytimes.com/www.nytimes.com/interactive/2013/02/19/movies/awardsseason/oscar-trailers.html?_r=1',\n",
       "   200,\n",
       "   'OK')],\n",
       " 'http://www.slate.com/blogs/future_tense/2014/03/17/quakebot_los_angeles_times_robot_journalist_writes_article_on_la_earthquake.html': [(True,\n",
       "   'http://www.slate.com/blogs/future_tense/2014/03/17/quakebot_los_angeles_times_robot_journalist_writes_article_on_la_earthquake.html',\n",
       "   302,\n",
       "   'https://slate.com/gdpr?redirect_uri=%2Fblogs%2Ffuture_tense%2F2014%2F03%2F17%2Fquakebot_los_angeles_times_robot_journalist_writes_article_on_la_earthquake.html%3Fvia%3Dgdpr-consent&redirect_host=http%3A%2F%2Fwww.slate.com'),\n",
       "  (True,\n",
       "   'https://slate.com/gdpr?redirect_uri=%2Fblogs%2Ffuture_tense%2F2014%2F03%2F17%2Fquakebot_los_angeles_times_robot_journalist_writes_article_on_la_earthquake.html%3Fvia%3Dgdpr-consent&redirect_host=http%3A%2F%2Fwww.slate.com',\n",
       "   200,\n",
       "   'OK')],\n",
       " 'http://www.open.edu/openlearnworks/mod/oucontent/view.php?id=13363&section=5.3': [(True,\n",
       "   'http://www.open.edu/openlearnworks/mod/oucontent/view.php?id=13363&section=5.3',\n",
       "   301,\n",
       "   'Moved Permanently'),\n",
       "  (True,\n",
       "   'https://www.open.edu/openlearnworks/mod/oucontent/view.php?id=13363&section=5.3',\n",
       "   301,\n",
       "   'Moved Permanently'),\n",
       "  (True,\n",
       "   'http://www.open.edu/openlearncreate/mod/oucontent/view.php?id=13363&section=5.3',\n",
       "   301,\n",
       "   'Moved Permanently'),\n",
       "  (True,\n",
       "   'https://www.open.edu/openlearncreate/mod/oucontent/view.php?id=13363&section=5.3',\n",
       "   200,\n",
       "   'OK')],\n",
       " 'http://www.open.edu/openlearnworks/mod/oucontent/view.php?id=13363&section=5.4': [(True,\n",
       "   'http://www.open.edu/openlearnworks/mod/oucontent/view.php?id=13363&section=5.4',\n",
       "   301,\n",
       "   'Moved Permanently'),\n",
       "  (True,\n",
       "   'https://www.open.edu/openlearnworks/mod/oucontent/view.php?id=13363&section=5.4',\n",
       "   301,\n",
       "   'Moved Permanently'),\n",
       "  (True,\n",
       "   'http://www.open.edu/openlearncreate/mod/oucontent/view.php?id=13363&section=5.4',\n",
       "   301,\n",
       "   'Moved Permanently'),\n",
       "  (True,\n",
       "   'https://www.open.edu/openlearncreate/mod/oucontent/view.php?id=13363&section=5.4',\n",
       "   200,\n",
       "   'OK')],\n",
       " 'http://www.open.edu/openlearn/science-maths-technology/mathematics-and-statistics/statistics/diary-data-sleuth-when-the-data-you-dont-collect-affects-the-data-you-do ': [(True,\n",
       "   'http://www.open.edu/openlearn/science-maths-technology/mathematics-and-statistics/statistics/diary-data-sleuth-when-the-data-you-dont-collect-affects-the-data-you-do%20',\n",
       "   301,\n",
       "   'Moved Permanently'),\n",
       "  (False,\n",
       "   'https://www.open.edu/openlearn/science-maths-technology/mathematics-and-statistics/statistics/diary-data-sleuth-when-the-data-you-dont-collect-affects-the-data-you-do%20',\n",
       "   404,\n",
       "   'Not Found')],\n",
       " 'http://www.datavizcatalogue.com/': [(True,\n",
       "   'http://www.datavizcatalogue.com/',\n",
       "   301,\n",
       "   'Moved Permanently'),\n",
       "  (True, 'https://www.datavizcatalogue.com/', 301, 'Moved Permanently'),\n",
       "  (True, 'http://datavizcatalogue.com/', 301, 'Moved Permanently'),\n",
       "  (True, 'https://datavizcatalogue.com/', 200, 'OK')],\n",
       " 'http://www.visual-literacy.org/periodic_table/periodic_table.html': [(True,\n",
       "   'http://www.visual-literacy.org/periodic_table/periodic_table.html',\n",
       "   301,\n",
       "   'Moved Permanently'),\n",
       "  (True,\n",
       "   'https://www.visual-literacy.org/periodic_table/periodic_table.html',\n",
       "   200,\n",
       "   'OK')],\n",
       " 'https://www.mapbox.com/labs/twitter-gnip/locals/#12/52.0415/-0.7400': [(True,\n",
       "   'https://www.mapbox.com/labs/twitter-gnip/locals/#12/52.0415/-0.7400',\n",
       "   301,\n",
       "   'Moved Permanently'),\n",
       "  (True,\n",
       "   'https://labs.mapbox.com/labs/twitter-gnip/locals/#12/52.0415/-0.7400',\n",
       "   200,\n",
       "   'OK')],\n",
       " 'http://www.ons.gov.uk/ons/rel/rdit1/gross-domestic-expenditure-on-research-and-development/2013/sty-gerd-2013.html': [(True,\n",
       "   'http://www.ons.gov.uk/ons/rel/rdit1/gross-domestic-expenditure-on-research-and-development/2013/sty-gerd-2013.html',\n",
       "   301,\n",
       "   'Moved Permanently'),\n",
       "  (True,\n",
       "   'https://www.ons.gov.uk/ons/rel/rdit1/gross-domestic-expenditure-on-research-and-development/2013/sty-gerd-2013.html',\n",
       "   302,\n",
       "   'Found'),\n",
       "  (True,\n",
       "   'http://webarchive.nationalarchives.gov.uk/20160105160709/http://www.ons.gov.uk/ons/rel/rdit1/gross-domestic-expenditure-on-research-and-development/2013/sty-gerd-2013.html',\n",
       "   301,\n",
       "   'Moved Permanently'),\n",
       "  (True,\n",
       "   'https://webarchive.nationalarchives.gov.uk/20160105160709/http://www.ons.gov.uk/ons/rel/rdit1/gross-domestic-expenditure-on-research-and-development/2013/sty-gerd-2013.html',\n",
       "   302,\n",
       "   'Found'),\n",
       "  (True,\n",
       "   'https://webarchive.nationalarchives.gov.uk/ukgwa/20160105160709/http://www.ons.gov.uk/ons/rel/rdit1/gross-domestic-expenditure-on-research-and-development/2013/sty-gerd-2013.html',\n",
       "   200,\n",
       "   'OK')],\n",
       " 'http://stanford.edu/~mwaskom/software/seaborn/': [(True,\n",
       "   'http://stanford.edu/~mwaskom/software/seaborn/',\n",
       "   301,\n",
       "   'Moved Permanently'),\n",
       "  (True, 'http://seaborn.pydata.org/', 200, 'OK')],\n",
       " 'http://tomhopper.me/2014/03/28/a-simple-introduction-to-the-graphing-philosophy-of-ggplot2/': [(True,\n",
       "   'http://tomhopper.me/2014/03/28/a-simple-introduction-to-the-graphing-philosophy-of-ggplot2/',\n",
       "   301,\n",
       "   'Moved Permanently'),\n",
       "  (True,\n",
       "   'https://tomhopper.me/2014/03/28/a-simple-introduction-to-the-graphing-philosophy-of-ggplot2/',\n",
       "   200,\n",
       "   'OK')],\n",
       " 'https://www.nature.com/articles/d41586-018-07196-1': [(True,\n",
       "   'https://www.nature.com/articles/d41586-018-07196-1',\n",
       "   303,\n",
       "   'See Other'),\n",
       "  (True,\n",
       "   'https://idp.nature.com/authorize?response_type=cookie&client_id=grover&redirect_uri=https%3A%2F%2Fwww.nature.com%2Farticles%2Fd41586-018-07196-1',\n",
       "   302,\n",
       "   'Found'),\n",
       "  (True,\n",
       "   'https://idp.nature.com/transit?redirect_uri=https%3A%2F%2Fwww.nature.com%2Farticles%2Fd41586-018-07196-1&code=122cae58-5bc5-4ecc-a7e5-453e3e48ee79',\n",
       "   302,\n",
       "   'Found'),\n",
       "  (True, 'https://www.nature.com/articles/d41586-018-07196-1', 200, 'OK')],\n",
       " 'http://ieeexplore.ieee.org/xpl/articleDetails.jsp?arnumber=6412677': [(True,\n",
       "   'http://ieeexplore.ieee.org/xpl/articleDetails.jsp?arnumber=6412677',\n",
       "   301,\n",
       "   'Moved Permanently'),\n",
       "  (True,\n",
       "   'https://ieeexplore.ieee.org/xpl/articleDetails.jsp?arnumber=6412677',\n",
       "   302,\n",
       "   'Moved Temporarily'),\n",
       "  (True,\n",
       "   'https://ieeexplore.ieee.org/document/6412677/?arnumber=6412677',\n",
       "   200,\n",
       "   'OK')],\n",
       " 'http://mastersofmedia.hum.uva.nl/2011/05/03/narrative-structures-in-data-visualizations-to-improve-storytelling/': [(True,\n",
       "   'http://mastersofmedia.hum.uva.nl/2011/05/03/narrative-structures-in-data-visualizations-to-improve-storytelling/',\n",
       "   301,\n",
       "   'Moved Permanently'),\n",
       "  (True,\n",
       "   'https://mastersofmedia.hum.uva.nl/blog/2011/05/03/narrative-structures-in-data-visualizations-to-improve-storytelling/',\n",
       "   200,\n",
       "   'OK')],\n",
       " 'http://ieeexplore.ieee.org/xpl/articleDetails.jsp?arnumber=5613452': [(True,\n",
       "   'http://ieeexplore.ieee.org/xpl/articleDetails.jsp?arnumber=5613452',\n",
       "   301,\n",
       "   'Moved Permanently'),\n",
       "  (True,\n",
       "   'https://ieeexplore.ieee.org/xpl/articleDetails.jsp?arnumber=5613452',\n",
       "   302,\n",
       "   'Moved Temporarily'),\n",
       "  (True,\n",
       "   'https://ieeexplore.ieee.org/document/5613452/?arnumber=5613452',\n",
       "   200,\n",
       "   'OK')],\n",
       " 'http://steiny.typepad.com/premise/2012/01/the-two-types-of-data-visualisation-and-why-it-matters-to-understand-the-difference.html': [(True,\n",
       "   'http://steiny.typepad.com/premise/2012/01/the-two-types-of-data-visualisation-and-why-it-matters-to-understand-the-difference.html',\n",
       "   301,\n",
       "   'Moved Permanently'),\n",
       "  (True,\n",
       "   'https://steiny.typepad.com/premise/2012/01/the-two-types-of-data-visualisation-and-why-it-matters-to-understand-the-difference.html',\n",
       "   200,\n",
       "   'OK')],\n",
       " 'http://www.jstor.org/stable/2245820?seq=1#page_scan_tab_contents': [(False,\n",
       "   'http://www.jstor.org/stable/2245820?seq=1#page_scan_tab_contents',\n",
       "   420,\n",
       "   'Enhance Your Calm')],\n",
       " 'http://jakevdp.github.io/blog/2013/12/05/static-interactive-widgets/': [(True,\n",
       "   'http://jakevdp.github.io/blog/2013/12/05/static-interactive-widgets/',\n",
       "   200,\n",
       "   'OK')],\n",
       " 'http://www.tandfonline.com/doi/abs/10.1198/jcgs.2009.07098': [(True,\n",
       "   'http://www.tandfonline.com/doi/abs/10.1198/jcgs.2009.07098',\n",
       "   301,\n",
       "   'Moved Permanently'),\n",
       "  (True,\n",
       "   'https://www.tandfonline.com/doi/abs/10.1198/jcgs.2009.07098',\n",
       "   302,\n",
       "   'Found'),\n",
       "  (True,\n",
       "   'https://www.tandfonline.com/doi/abs/10.1198/jcgs.2009.07098?cookieSet=1',\n",
       "   302,\n",
       "   'Found'),\n",
       "  (True,\n",
       "   'https://www.tandfonline.com/doi/abs/10.1198/jcgs.2009.07098',\n",
       "   200,\n",
       "   'OK')],\n",
       " 'http://dx.doi.org/10.1007/0-387-28695-0': [(True,\n",
       "   'http://dx.doi.org/10.1007/0-387-28695-0',\n",
       "   301,\n",
       "   'Moved Permanently'),\n",
       "  (True, 'https://dx.doi.org/10.1007/0-387-28695-0', 302, 'Found'),\n",
       "  (True,\n",
       "   'http://link.springer.com/10.1007/0-387-28695-0',\n",
       "   301,\n",
       "   'Moved Permanently'),\n",
       "  (True,\n",
       "   'https://link.springer.com/book/10.1007/0-387-28695-0',\n",
       "   303,\n",
       "   'See Other'),\n",
       "  (True,\n",
       "   'https://idp.springer.com/authorize?response_type=cookie&client_id=springerlink&redirect_uri=https%3A%2F%2Flink.springer.com%2Fbook%2F10.1007%2F0-387-28695-0',\n",
       "   302,\n",
       "   'Found'),\n",
       "  (True, 'https://link.springer.com/book/10.1007/0-387-28695-0', 200, 'OK')],\n",
       " 'http://www.scholarpedia.org/article/Gestalt_principles': [(True,\n",
       "   'http://www.scholarpedia.org/article/Gestalt_principles',\n",
       "   200,\n",
       "   'OK')],\n",
       " 'http://www.researchgate.net/publication/235351120_Towards_a_Unifying_Visualization_Ontology': [(True,\n",
       "   'http://www.researchgate.net/publication/235351120_Towards_a_Unifying_Visualization_Ontology',\n",
       "   301,\n",
       "   'Moved Permanently'),\n",
       "  (False,\n",
       "   'https://www.researchgate.net/publication/235351120_Towards_a_Unifying_Visualization_Ontology',\n",
       "   403,\n",
       "   'Forbidden')],\n",
       " 'http://ieeexplore.ieee.org/xpl/articleDetails.jsp?arnumber=885092': [(True,\n",
       "   'http://ieeexplore.ieee.org/xpl/articleDetails.jsp?arnumber=885092',\n",
       "   301,\n",
       "   'Moved Permanently'),\n",
       "  (True,\n",
       "   'https://ieeexplore.ieee.org/xpl/articleDetails.jsp?arnumber=885092',\n",
       "   302,\n",
       "   'Moved Temporarily'),\n",
       "  (True,\n",
       "   'https://ieeexplore.ieee.org/document/885092/?arnumber=885092',\n",
       "   200,\n",
       "   'OK')],\n",
       " 'http://ieeexplore.ieee.org/xpl/articleDetails.jsp?arnumber=636792': [(True,\n",
       "   'http://ieeexplore.ieee.org/xpl/articleDetails.jsp?arnumber=636792',\n",
       "   301,\n",
       "   'Moved Permanently'),\n",
       "  (True,\n",
       "   'https://ieeexplore.ieee.org/xpl/articleDetails.jsp?arnumber=636792',\n",
       "   302,\n",
       "   'Moved Temporarily'),\n",
       "  (True,\n",
       "   'https://ieeexplore.ieee.org/document/636792/?arnumber=636792',\n",
       "   200,\n",
       "   'OK')],\n",
       " 'http://ieeexplore.ieee.org/xpl/articleDetails.jsp?arnumber=5290695': [(True,\n",
       "   'http://ieeexplore.ieee.org/xpl/articleDetails.jsp?arnumber=5290695',\n",
       "   301,\n",
       "   'Moved Permanently'),\n",
       "  (True,\n",
       "   'https://ieeexplore.ieee.org/xpl/articleDetails.jsp?arnumber=5290695',\n",
       "   302,\n",
       "   'Moved Temporarily'),\n",
       "  (True,\n",
       "   'https://ieeexplore.ieee.org/document/5290695/?arnumber=5290695',\n",
       "   200,\n",
       "   'OK')],\n",
       " 'http://www.sonification.de/publications/media/HermannRitter1999-LTY.pdf': [(True,\n",
       "   'http://www.sonification.de/publications/media/HermannRitter1999-LTY.pdf',\n",
       "   301,\n",
       "   'Moved Permanently'),\n",
       "  (False,\n",
       "   'https://sonification.de/publications/media/HermannRitter1999-LTY.pdf',\n",
       "   403,\n",
       "   'Forbidden')],\n",
       " 'http://www.sonification.de/projects/ISIMADE/index.html': [(True,\n",
       "   'http://www.sonification.de/projects/ISIMADE/index.html',\n",
       "   301,\n",
       "   'Moved Permanently'),\n",
       "  (False,\n",
       "   'https://sonification.de/projects/ISIMADE/index.html',\n",
       "   403,\n",
       "   'Forbidden')],\n",
       " 'http://earthzine.org/2013/07/23/sonification-data-like-youve-never-heard-before/': [(False,\n",
       "   'http://earthzine.org/2013/07/23/sonification-data-like-youve-never-heard-before/',\n",
       "   403,\n",
       "   'Forbidden')],\n",
       " 'http://ieeexplore.ieee.org/xpl/articleDetails.jsp?arnumber=4376143': [(True,\n",
       "   'http://ieeexplore.ieee.org/xpl/articleDetails.jsp?arnumber=4376143',\n",
       "   301,\n",
       "   'Moved Permanently'),\n",
       "  (True,\n",
       "   'https://ieeexplore.ieee.org/xpl/articleDetails.jsp?arnumber=4376143',\n",
       "   302,\n",
       "   'Moved Temporarily'),\n",
       "  (True,\n",
       "   'https://ieeexplore.ieee.org/document/4376143/?arnumber=4376143',\n",
       "   200,\n",
       "   'OK')],\n",
       " 'http://dl.acm.org/citation.cfm?doid=1753326.1753716': [(True,\n",
       "   'http://dl.acm.org/citation.cfm?doid=1753326.1753716',\n",
       "   301,\n",
       "   'Moved Permanently'),\n",
       "  (True,\n",
       "   'https://dl.acm.org/citation.cfm?doid=1753326.1753716',\n",
       "   301,\n",
       "   'Moved Permanently'),\n",
       "  (True, 'https://dl.acm.org/doi/10.1145/1753326.1753716', 200, 'OK')],\n",
       " 'http://ieeexplore.ieee.org/xpl/articleDetails.jsp?arnumber=6327281': [(True,\n",
       "   'http://ieeexplore.ieee.org/xpl/articleDetails.jsp?arnumber=6327281',\n",
       "   301,\n",
       "   'Moved Permanently'),\n",
       "  (True,\n",
       "   'https://ieeexplore.ieee.org/xpl/articleDetails.jsp?arnumber=6327281',\n",
       "   302,\n",
       "   'Moved Temporarily'),\n",
       "  (True,\n",
       "   'https://ieeexplore.ieee.org/document/6327281/?arnumber=6327281',\n",
       "   200,\n",
       "   'OK')],\n",
       " 'http://www.thefunctionalart.com/2014/08/to-make-visualizations-that-are.html': [(True,\n",
       "   'http://www.thefunctionalart.com/2014/08/to-make-visualizations-that-are.html',\n",
       "   200,\n",
       "   'OK')],\n",
       " 'http://www.socialinnovationexchange.org/categories/read/participatory-mapping-as-a-social-digital-tool': [(True,\n",
       "   'http://www.socialinnovationexchange.org/categories/read/participatory-mapping-as-a-social-digital-tool',\n",
       "   301,\n",
       "   'Moved Permanently'),\n",
       "  (False,\n",
       "   'http://socialinnovationexchange.org/categories/read/participatory-mapping-as-a-social-digital-tool',\n",
       "   404,\n",
       "   'Not Found')],\n",
       " 'http://www.blog.theteamw.com/2010/12/02/100-things-you-should-know-about-people-48-what-you-see-is-not-what-your-brain-gets/': [(True,\n",
       "   'http://www.blog.theteamw.com/2010/12/02/100-things-you-should-know-about-people-48-what-you-see-is-not-what-your-brain-gets/',\n",
       "   301,\n",
       "   'Moved Permanently'),\n",
       "  (True,\n",
       "   'https://www.blog.theteamw.com/2010/12/02/100-things-you-should-know-about-people-48-what-you-see-is-not-what-your-brain-gets/',\n",
       "   200,\n",
       "   'OK')],\n",
       " 'https://commons.wikimedia.org/wiki/File:Gestalt.svg': [(True,\n",
       "   'https://commons.wikimedia.org/wiki/File:Gestalt.svg',\n",
       "   200,\n",
       "   'OK')],\n",
       " 'http://creativecommons.org/licenses/by/3.0/': [(True,\n",
       "   'http://creativecommons.org/licenses/by/3.0/',\n",
       "   301,\n",
       "   'Moved Permanently'),\n",
       "  (True, 'https://creativecommons.org/licenses/by/3.0/', 200, 'OK')],\n",
       " 'http://jthsinstructionaltechnology.blogspot.co.uk/2012/10/infographics-explained-and-why-you.html': [(True,\n",
       "   'http://jthsinstructionaltechnology.blogspot.co.uk/2012/10/infographics-explained-and-why-you.html',\n",
       "   302,\n",
       "   'Moved Temporarily'),\n",
       "  (True,\n",
       "   'http://jthsinstructionaltechnology.blogspot.com/2012/10/infographics-explained-and-why-you.html',\n",
       "   200,\n",
       "   'OK')],\n",
       " 'http://iew.technion.ac.il/newsletter/en/home/17-march14/18-prof-avi-parush,-big-data-to-big-picture-consider-some-fundamentals-of-human-visual-perception.html': [(True,\n",
       "   'http://iew.technion.ac.il/newsletter/en/home/17-march14/18-prof-avi-parush,-big-data-to-big-picture-consider-some-fundamentals-of-human-visual-perception.html',\n",
       "   301,\n",
       "   'Moved Permanently'),\n",
       "  (True,\n",
       "   'https://iew.technion.ac.il/newsletter/en/home/17-march14/18-prof-avi-parush,-big-data-to-big-picture-consider-some-fundamentals-of-human-visual-perception.html',\n",
       "   302,\n",
       "   'Found'),\n",
       "  (True, 'https://web.iem.technion.ac.il/', 302, 'Found'),\n",
       "  (True, 'https://web.iem.technion.ac.il/site/', 200, 'OK')],\n",
       " 'http://extremepresentation.typepad.com/blog/2006/09/choosing_a_good.html': [(True,\n",
       "   'http://extremepresentation.typepad.com/blog/2006/09/choosing_a_good.html',\n",
       "   301,\n",
       "   'Moved Permanently'),\n",
       "  (True,\n",
       "   'https://extremepresentation.typepad.com/blog/2006/09/choosing_a_good.html',\n",
       "   200,\n",
       "   'OK')]}"
      ]
     },
     "execution_count": 23,
     "metadata": {},
     "output_type": "execute_result"
    }
   ],
   "source": [
    "unique_link_reports"
   ]
  },
  {
   "cell_type": "markdown",
   "id": "vanilla-brunswick",
   "metadata": {},
   "source": [
    "Whilst the JSON file is convenient for storing data, and easy to work with if you know how, a tabular CSV report is probably more useful in many cases.\n",
    "\n",
    "The following is a first quick attempt at a report that contains enough information to be useful when it comes to finding which section of which file each broken link appears in."
   ]
  },
  {
   "cell_type": "code",
   "execution_count": 24,
   "id": "accessible-block",
   "metadata": {},
   "outputs": [],
   "source": [
    "# Crude output report broken link\n",
    "\n",
    "import csv\n",
    "\n",
    "def simple_csv_report(links_report, outf='link_report.csv'):\n",
    "    \"\"\"Generate a simple CSV link check report.\"\"\"\n",
    "\n",
    "    with open(outf, 'w') as f:\n",
    "        write = csv.writer(f)\n",
    "        cols = ['file', 'code', 'title', 'item', 'session', 'linktext', 'link', 'error']\n",
    "        write.writerow(cols)\n",
    "\n",
    "        for link_report in links_report:\n",
    "            row_base = [link_report['metadata']['file'],\n",
    "                        link_report['metadata']['coursecode'],\n",
    "                        link_report['metadata']['coursetitle'],\n",
    "                        link_report['metadata']['itemtitle']]\n",
    "\n",
    "            rows = []\n",
    "            for session in link_report['sessions']:\n",
    "                for link in link_report['sessions'][session]:\n",
    "                    row = row_base + [session, link[0], link[1], link[2][-1][-2]]\n",
    "                    rows.append(row)\n",
    " \n",
    "            write.writerows(rows) "
   ]
  },
  {
   "cell_type": "code",
   "execution_count": 25,
   "id": "constant-tampa",
   "metadata": {
    "tags": [
     "active-ipynb"
    ]
   },
   "outputs": [
    {
     "name": "stdout",
     "output_type": "stream",
     "text": [
      "file,code,title,item,session,linktext,link,error\r",
      "\r\n",
      "xml_test/tm351-week3.xml,TM351,Data management and analysis,Part 3 Data preparation,BackMatter,http://www.digitalhealth.net/news/25742/,http://www.digitalhealth.net/news/25742/,404\r",
      "\r\n",
      "xml_test/tm351-week3.xml,TM351,Data management and analysis,Part 3 Data preparation,BackMatter,http://www.nytimes.com/2006/02/15/national/15house.html?_r=0,http://www.nytimes.com/2006/02/15/national/15house.html?_r=0,403\r",
      "\r\n",
      "xml_test/tm351-week5.xml,TM351,Data management and analysis,Part 5 Presentation: telling the story,3 Finding the story,When the data you don’t collect affects the data you do,http://www.open.edu/openlearn/science-maths-technology/mathematics-and-statistics/statistics/diary-data-sleuth-when-the-data-you-dont-collect-affects-the-data-you-do ,404\r",
      "\r\n",
      "xml_test/tm351-week5.xml,TM351,Data management and analysis,Part 5 Presentation: telling the story,BackMatter,http://www.jstor.org.libezproxy.open.ac.uk/stable/2245820?seq=1#page_scan_tab_contents,http://www.jstor.org/stable/2245820?seq=1#page_scan_tab_contents,420\r",
      "\r\n",
      "xml_test/tm351-week5.xml,TM351,Data management and analysis,Part 5 Presentation: telling the story,BackMatter,http://www.researchgate.net/publication/235351120_Towards_a_Unifying_Visualization_Ontology,http://www.researchgate.net/publication/235351120_Towards_a_Unifying_Visualization_Ontology,403\r",
      "\r\n",
      "xml_test/tm351-week5.xml,TM351,Data management and analysis,Part 5 Presentation: telling the story,BackMatter,http://www.sonification.de/publications/media/HermannRitter1999-LTY.pdf,http://www.sonification.de/publications/media/HermannRitter1999-LTY.pdf,403\r",
      "\r\n",
      "xml_test/tm351-week5.xml,TM351,Data management and analysis,Part 5 Presentation: telling the story,BackMatter,http://www.sonification.de/projects/ISIMADE/index.html,http://www.sonification.de/projects/ISIMADE/index.html,403\r",
      "\r\n",
      "xml_test/tm351-week5.xml,TM351,Data management and analysis,Part 5 Presentation: telling the story,BackMatter,http://earthzine.org/2013/07/23/sonification-data-like-youve-never-heard-before/,http://earthzine.org/2013/07/23/sonification-data-like-youve-never-heard-before/,403\r",
      "\r\n",
      "xml_test/tm351-week5.xml,TM351,Data management and analysis,Part 5 Presentation: telling the story,BackMatter,http://www.socialinnovationexchange.org/categories/read/participatory-mapping-as-a-social-digital-tool,http://www.socialinnovationexchange.org/categories/read/participatory-mapping-as-a-social-digital-tool,404\r",
      "\r\n"
     ]
    }
   ],
   "source": [
    "simple_csv_report(bad_link_reports)\n",
    "!cat link_report.csv"
   ]
  },
  {
   "cell_type": "markdown",
   "id": "prepared-shame",
   "metadata": {},
   "source": [
    "To try to make things easier to use, we also define (in the `cli.py` file) a simple command line interface that can call the following function, with a directory path, to run the link checker over links extracted form the `.xml` files in the specified directory.\n",
    "\n",
    "Usage on the command line is then of the form:\n",
    "\n",
    "`ouxml_tools link-check PATH/TO/DIR/CONTAINING/OU-XML_FILES`\n",
    "\n",
    "with three output reports generated:\n",
    "\n",
    "- a csv file report containing minimal broken link information (`broken_links_report.csv`);\n",
    "- complete reports of all link resolution traces and just the broken link resoution traces in `all_links_report.json` and `broken_links_report.json` respectively."
   ]
  },
  {
   "cell_type": "markdown",
   "id": "b87810dc",
   "metadata": {},
   "source": [
    "## Submitting Links to the Internet Archive\n",
    "\n",
    "To ensure that web page content is available even a website disappears, we can try to archive the content on the Internet Archive.\n",
    "\n",
    "The following function will attempt to submit a URL for archiving on the Internet Archive:"
   ]
  },
  {
   "cell_type": "code",
   "execution_count": 26,
   "id": "cdaa83e7",
   "metadata": {},
   "outputs": [],
   "source": [
    "import json\n",
    "import urllib.parse\n",
    "\n",
    "def archive_link(url):\n",
    "    \"\"\"Submit link archive request to Interet Archive.\"\"\"\n",
    "\n",
    "    quoted_url = urllib.parse.quote(url)\n",
    "    url_ = f\"https://web.archive.org/save/{quoted_url}\"\n",
    "    # Should probably capture response and generate archive request report\n",
    "    r = requests.get(url_, allow_redirects=True)\n",
    "    return url, r"
   ]
  },
  {
   "cell_type": "markdown",
   "id": "61d0154d",
   "metadata": {},
   "source": [
    "It is more likely that we will want to submit multiple URLs to the archiver.\n",
    "\n",
    "Links with various HTTP status codes as described in the link check status report can be included or excluded from he report."
   ]
  },
  {
   "cell_type": "code",
   "execution_count": 48,
   "id": "dda0382a",
   "metadata": {},
   "outputs": [],
   "source": [
    "def get_valid_links(link_reports, include=None, exclude=None):\n",
    "    \"\"\"Generate a list of valid links from a dict with URL keys and report values.\"\"\"\n",
    "    include = [] if include is None else include\n",
    "    exclude = [] if exclude is None else exclude\n",
    "    not_valid_url = []\n",
    "    excluded_url = []\n",
    "    link_reports_ = []\n",
    "    \n",
    "    print(\"Finding valid links for this process...\")\n",
    "    # Generate a list of links we want to archive\n",
    "    # Note that this is not a list of unique URLs\n",
    "    for link_ in link_reports:\n",
    "        # Get status report of last step in forwarded request\n",
    "        status = link_reports[link_][-1][2]\n",
    "        if status is None:\n",
    "            not_valid_url.append(link_)\n",
    "            continue\n",
    "        # We don't want excluded report status links\n",
    "        if status not in exclude:\n",
    "            # We want all links or just included links\n",
    "            if not include or status in include:\n",
    "                link_reports_.append(link_)\n",
    "        else:\n",
    "            excluded_url.append(link_)\n",
    "            \n",
    "    return link_reports_, excluded_url, not_valid_url"
   ]
  },
  {
   "cell_type": "code",
   "execution_count": 55,
   "id": "38031746",
   "metadata": {},
   "outputs": [],
   "source": [
    "def archive_links(link_reports, include=None, exclude=None):\n",
    "    \"\"\"Submit each unique link in a link status report dictionary to the Internet Archive.\"\"\"\n",
    "    archived = []\n",
    "    not_archived = []\n",
    "\n",
    "    link_reports_, excluded_url, not_valid_url = get_valid_links(link_reports, include, exclude)\n",
    "\n",
    "    for link_ in tqdm(link_reports_):\n",
    "        print(f\"Archiving: {link_}\")\n",
    "        url, response = archive_link(link_)\n",
    "        if response.ok:\n",
    "            archived.append(url)\n",
    "        else:\n",
    "            not_archived.append(url)\n",
    "        play_nice()\n",
    "\n",
    "    for url in archived:\n",
    "        print(f\"Archived: {url}\")\n",
    "    for url in not_archived:\n",
    "        print(f\"Not archived: {url}\")\n",
    "    for url in excluded_url:\n",
    "        print(f\"Excluded: {url}\")\n",
    "    for url in not_valid_url:\n",
    "        print(f\"Not valid URLs: {url}\")"
   ]
  },
  {
   "cell_type": "code",
   "execution_count": 56,
   "id": "5027133b",
   "metadata": {
    "tags": [
     "active-ipynb"
    ]
   },
   "outputs": [
    {
     "name": "stdout",
     "output_type": "stream",
     "text": [
      "Finding valid links for this process...\n"
     ]
    },
    {
     "name": "stderr",
     "output_type": "stream",
     "text": [
      "\r",
      "  0%|                                                    | 0/61 [00:00<?, ?it/s]"
     ]
    },
    {
     "name": "stdout",
     "output_type": "stream",
     "text": [
      "Archiving: http://library.open.ac.uk\n"
     ]
    },
    {
     "name": "stderr",
     "output_type": "stream",
     "text": [
      "\r",
      "  2%|▋                                           | 1/61 [00:07<07:56,  7.94s/it]"
     ]
    },
    {
     "name": "stdout",
     "output_type": "stream",
     "text": [
      "Archiving: https://www.open.ac.uk/libraryservices/resource/website:104152&f=28335\n"
     ]
    },
    {
     "name": "stderr",
     "output_type": "stream",
     "text": [
      "\r",
      "  3%|█▍                                          | 2/61 [00:08<03:48,  3.88s/it]"
     ]
    },
    {
     "name": "stdout",
     "output_type": "stream",
     "text": [
      "Archiving: https://www.open.ac.uk/libraryservices/resource/website:104153&f=28335\n"
     ]
    },
    {
     "name": "stderr",
     "output_type": "stream",
     "text": [
      "\r",
      "  5%|██▏                                         | 3/61 [00:09<02:26,  2.53s/it]"
     ]
    },
    {
     "name": "stdout",
     "output_type": "stream",
     "text": [
      "Archiving: https://www.open.ac.uk/libraryservices/resource/website:104154&f=28335\n"
     ]
    },
    {
     "name": "stderr",
     "output_type": "stream",
     "text": [
      "\r",
      "  7%|██▉                                         | 4/61 [00:11<02:13,  2.33s/it]"
     ]
    },
    {
     "name": "stdout",
     "output_type": "stream",
     "text": [
      "Archiving: https://www.open.ac.uk/libraryservices/resource/website:104223&f=28335\n"
     ]
    },
    {
     "name": "stderr",
     "output_type": "stream",
     "text": [
      "\r",
      "  8%|███▌                                        | 5/61 [00:12<01:42,  1.83s/it]"
     ]
    },
    {
     "name": "stdout",
     "output_type": "stream",
     "text": [
      "Archiving: https://www.open.ac.uk/libraryservices/resource/website:104155&f=28335\n"
     ]
    },
    {
     "name": "stderr",
     "output_type": "stream",
     "text": [
      "\r",
      " 10%|████▎                                       | 6/61 [00:13<01:23,  1.51s/it]"
     ]
    },
    {
     "name": "stdout",
     "output_type": "stream",
     "text": [
      "Archiving: http://www.digitalhealth.net/news/25742/\n"
     ]
    },
    {
     "name": "stderr",
     "output_type": "stream",
     "text": [
      "\r",
      " 11%|█████                                       | 7/61 [00:14<01:13,  1.35s/it]"
     ]
    },
    {
     "name": "stdout",
     "output_type": "stream",
     "text": [
      "Archiving: http://edition.cnn.com/TECH/space/9909/30/mars.metric/\n"
     ]
    },
    {
     "name": "stderr",
     "output_type": "stream",
     "text": [
      "\r",
      " 13%|█████▊                                      | 8/61 [00:16<01:20,  1.51s/it]"
     ]
    },
    {
     "name": "stdout",
     "output_type": "stream",
     "text": [
      "Archiving: https://www.gov.uk/government/uploads/system/uploads/attachment_data/file/213809/dh_120579.pdf\n"
     ]
    },
    {
     "name": "stderr",
     "output_type": "stream",
     "text": [
      "\r",
      " 15%|██████▍                                     | 9/61 [00:17<01:10,  1.36s/it]"
     ]
    },
    {
     "name": "stdout",
     "output_type": "stream",
     "text": [
      "Archiving: https://www.youtube.com/watch?v=k4gj_RdtKCw\n"
     ]
    },
    {
     "name": "stderr",
     "output_type": "stream",
     "text": [
      "\r",
      " 16%|███████                                    | 10/61 [00:18<01:03,  1.24s/it]"
     ]
    },
    {
     "name": "stdout",
     "output_type": "stream",
     "text": [
      "Archiving: https://github.com/drichard/mindmaps\n"
     ]
    },
    {
     "name": "stderr",
     "output_type": "stream",
     "text": [
      "\r",
      " 18%|███████▊                                   | 11/61 [00:19<00:56,  1.13s/it]"
     ]
    },
    {
     "name": "stdout",
     "output_type": "stream",
     "text": [
      "Archiving: http://blog.ouseful.info/2012/02/03/several-takes-on-the-definition-of-data-laundering/\n"
     ]
    },
    {
     "name": "stderr",
     "output_type": "stream",
     "text": [
      "\r",
      " 20%|████████▍                                  | 12/61 [00:21<01:05,  1.34s/it]"
     ]
    },
    {
     "name": "stdout",
     "output_type": "stream",
     "text": [
      "Archiving: http://blog.ouseful.info/2013/05/03/a-wrangling-example-with-openrefine-making-ready-data/\n"
     ]
    },
    {
     "name": "stderr",
     "output_type": "stream",
     "text": [
      "\r",
      " 21%|█████████▏                                 | 13/61 [00:22<01:03,  1.32s/it]"
     ]
    },
    {
     "name": "stdout",
     "output_type": "stream",
     "text": [
      "Archiving: http://dc-pubs.dbs.uni-leipzig.de/files/Rahm2000DataCleaningProblemsand.pdf\n"
     ]
    },
    {
     "name": "stderr",
     "output_type": "stream",
     "text": [
      "\r",
      " 23%|█████████▊                                 | 14/61 [00:24<01:10,  1.51s/it]"
     ]
    },
    {
     "name": "stdout",
     "output_type": "stream",
     "text": [
      "Archiving: http://www.nytimes.com/2006/02/15/national/15house.html?_r=0\n"
     ]
    },
    {
     "name": "stderr",
     "output_type": "stream",
     "text": [
      "\r",
      " 25%|██████████▌                                | 15/61 [00:26<01:17,  1.68s/it]"
     ]
    },
    {
     "name": "stdout",
     "output_type": "stream",
     "text": [
      "Archiving: http://www.nwitimes.com/news/local/a-million-home/article_899b39b3-fbdf-522f-a6fc-e8ae73eb8c96.html\n"
     ]
    },
    {
     "name": "stderr",
     "output_type": "stream",
     "text": [
      " 25%|██████████▌                                | 15/61 [00:28<01:27,  1.91s/it]\n"
     ]
    },
    {
     "ename": "KeyboardInterrupt",
     "evalue": "",
     "output_type": "error",
     "traceback": [
      "\u001b[0;31m---------------------------------------------------------------------------\u001b[0m",
      "\u001b[0;31mKeyboardInterrupt\u001b[0m                         Traceback (most recent call last)",
      "Input \u001b[0;32mIn [56]\u001b[0m, in \u001b[0;36m<cell line: 1>\u001b[0;34m()\u001b[0m\n\u001b[0;32m----> 1\u001b[0m \u001b[43marchive_links\u001b[49m\u001b[43m(\u001b[49m\u001b[43munique_link_reports\u001b[49m\u001b[43m)\u001b[49m\n",
      "Input \u001b[0;32mIn [55]\u001b[0m, in \u001b[0;36marchive_links\u001b[0;34m(link_reports, include, exclude)\u001b[0m\n\u001b[1;32m      8\u001b[0m \u001b[38;5;28;01mfor\u001b[39;00m link_ \u001b[38;5;129;01min\u001b[39;00m tqdm(link_reports_):\n\u001b[1;32m      9\u001b[0m     \u001b[38;5;28mprint\u001b[39m(\u001b[38;5;124mf\u001b[39m\u001b[38;5;124m\"\u001b[39m\u001b[38;5;124mArchiving: \u001b[39m\u001b[38;5;132;01m{\u001b[39;00mlink_\u001b[38;5;132;01m}\u001b[39;00m\u001b[38;5;124m\"\u001b[39m)\n\u001b[0;32m---> 10\u001b[0m     url, response \u001b[38;5;241m=\u001b[39m \u001b[43marchive_link\u001b[49m\u001b[43m(\u001b[49m\u001b[43mlink_\u001b[49m\u001b[43m)\u001b[49m\n\u001b[1;32m     11\u001b[0m     \u001b[38;5;28;01mif\u001b[39;00m response\u001b[38;5;241m.\u001b[39mok:\n\u001b[1;32m     12\u001b[0m         archived\u001b[38;5;241m.\u001b[39mappend(url)\n",
      "Input \u001b[0;32mIn [26]\u001b[0m, in \u001b[0;36marchive_link\u001b[0;34m(url)\u001b[0m\n\u001b[1;32m      8\u001b[0m url_ \u001b[38;5;241m=\u001b[39m \u001b[38;5;124mf\u001b[39m\u001b[38;5;124m\"\u001b[39m\u001b[38;5;124mhttps://web.archive.org/save/\u001b[39m\u001b[38;5;132;01m{\u001b[39;00mquoted_url\u001b[38;5;132;01m}\u001b[39;00m\u001b[38;5;124m\"\u001b[39m\n\u001b[1;32m      9\u001b[0m \u001b[38;5;66;03m# Should probably capture response and generate archive request report\u001b[39;00m\n\u001b[0;32m---> 10\u001b[0m r \u001b[38;5;241m=\u001b[39m \u001b[43mrequests\u001b[49m\u001b[38;5;241;43m.\u001b[39;49m\u001b[43mget\u001b[49m\u001b[43m(\u001b[49m\u001b[43murl_\u001b[49m\u001b[43m,\u001b[49m\u001b[43m \u001b[49m\u001b[43mallow_redirects\u001b[49m\u001b[38;5;241;43m=\u001b[39;49m\u001b[38;5;28;43;01mTrue\u001b[39;49;00m\u001b[43m)\u001b[49m\n\u001b[1;32m     11\u001b[0m \u001b[38;5;28;01mreturn\u001b[39;00m url, r\n",
      "File \u001b[0;32m/usr/local/lib/python3.9/site-packages/requests/api.py:75\u001b[0m, in \u001b[0;36mget\u001b[0;34m(url, params, **kwargs)\u001b[0m\n\u001b[1;32m     64\u001b[0m \u001b[38;5;28;01mdef\u001b[39;00m \u001b[38;5;21mget\u001b[39m(url, params\u001b[38;5;241m=\u001b[39m\u001b[38;5;28;01mNone\u001b[39;00m, \u001b[38;5;241m*\u001b[39m\u001b[38;5;241m*\u001b[39mkwargs):\n\u001b[1;32m     65\u001b[0m     \u001b[38;5;124mr\u001b[39m\u001b[38;5;124;03m\"\"\"Sends a GET request.\u001b[39;00m\n\u001b[1;32m     66\u001b[0m \n\u001b[1;32m     67\u001b[0m \u001b[38;5;124;03m    :param url: URL for the new :class:`Request` object.\u001b[39;00m\n\u001b[0;32m   (...)\u001b[0m\n\u001b[1;32m     72\u001b[0m \u001b[38;5;124;03m    :rtype: requests.Response\u001b[39;00m\n\u001b[1;32m     73\u001b[0m \u001b[38;5;124;03m    \"\"\"\u001b[39;00m\n\u001b[0;32m---> 75\u001b[0m     \u001b[38;5;28;01mreturn\u001b[39;00m \u001b[43mrequest\u001b[49m\u001b[43m(\u001b[49m\u001b[38;5;124;43m'\u001b[39;49m\u001b[38;5;124;43mget\u001b[39;49m\u001b[38;5;124;43m'\u001b[39;49m\u001b[43m,\u001b[49m\u001b[43m \u001b[49m\u001b[43murl\u001b[49m\u001b[43m,\u001b[49m\u001b[43m \u001b[49m\u001b[43mparams\u001b[49m\u001b[38;5;241;43m=\u001b[39;49m\u001b[43mparams\u001b[49m\u001b[43m,\u001b[49m\u001b[43m \u001b[49m\u001b[38;5;241;43m*\u001b[39;49m\u001b[38;5;241;43m*\u001b[39;49m\u001b[43mkwargs\u001b[49m\u001b[43m)\u001b[49m\n",
      "File \u001b[0;32m/usr/local/lib/python3.9/site-packages/requests/api.py:61\u001b[0m, in \u001b[0;36mrequest\u001b[0;34m(method, url, **kwargs)\u001b[0m\n\u001b[1;32m     57\u001b[0m \u001b[38;5;66;03m# By using the 'with' statement we are sure the session is closed, thus we\u001b[39;00m\n\u001b[1;32m     58\u001b[0m \u001b[38;5;66;03m# avoid leaving sockets open which can trigger a ResourceWarning in some\u001b[39;00m\n\u001b[1;32m     59\u001b[0m \u001b[38;5;66;03m# cases, and look like a memory leak in others.\u001b[39;00m\n\u001b[1;32m     60\u001b[0m \u001b[38;5;28;01mwith\u001b[39;00m sessions\u001b[38;5;241m.\u001b[39mSession() \u001b[38;5;28;01mas\u001b[39;00m session:\n\u001b[0;32m---> 61\u001b[0m     \u001b[38;5;28;01mreturn\u001b[39;00m \u001b[43msession\u001b[49m\u001b[38;5;241;43m.\u001b[39;49m\u001b[43mrequest\u001b[49m\u001b[43m(\u001b[49m\u001b[43mmethod\u001b[49m\u001b[38;5;241;43m=\u001b[39;49m\u001b[43mmethod\u001b[49m\u001b[43m,\u001b[49m\u001b[43m \u001b[49m\u001b[43murl\u001b[49m\u001b[38;5;241;43m=\u001b[39;49m\u001b[43murl\u001b[49m\u001b[43m,\u001b[49m\u001b[43m \u001b[49m\u001b[38;5;241;43m*\u001b[39;49m\u001b[38;5;241;43m*\u001b[39;49m\u001b[43mkwargs\u001b[49m\u001b[43m)\u001b[49m\n",
      "File \u001b[0;32m/usr/local/lib/python3.9/site-packages/requests/sessions.py:529\u001b[0m, in \u001b[0;36mSession.request\u001b[0;34m(self, method, url, params, data, headers, cookies, files, auth, timeout, allow_redirects, proxies, hooks, stream, verify, cert, json)\u001b[0m\n\u001b[1;32m    524\u001b[0m send_kwargs \u001b[38;5;241m=\u001b[39m {\n\u001b[1;32m    525\u001b[0m     \u001b[38;5;124m'\u001b[39m\u001b[38;5;124mtimeout\u001b[39m\u001b[38;5;124m'\u001b[39m: timeout,\n\u001b[1;32m    526\u001b[0m     \u001b[38;5;124m'\u001b[39m\u001b[38;5;124mallow_redirects\u001b[39m\u001b[38;5;124m'\u001b[39m: allow_redirects,\n\u001b[1;32m    527\u001b[0m }\n\u001b[1;32m    528\u001b[0m send_kwargs\u001b[38;5;241m.\u001b[39mupdate(settings)\n\u001b[0;32m--> 529\u001b[0m resp \u001b[38;5;241m=\u001b[39m \u001b[38;5;28;43mself\u001b[39;49m\u001b[38;5;241;43m.\u001b[39;49m\u001b[43msend\u001b[49m\u001b[43m(\u001b[49m\u001b[43mprep\u001b[49m\u001b[43m,\u001b[49m\u001b[43m \u001b[49m\u001b[38;5;241;43m*\u001b[39;49m\u001b[38;5;241;43m*\u001b[39;49m\u001b[43msend_kwargs\u001b[49m\u001b[43m)\u001b[49m\n\u001b[1;32m    531\u001b[0m \u001b[38;5;28;01mreturn\u001b[39;00m resp\n",
      "File \u001b[0;32m/usr/local/lib/python3.9/site-packages/requests/sessions.py:645\u001b[0m, in \u001b[0;36mSession.send\u001b[0;34m(self, request, **kwargs)\u001b[0m\n\u001b[1;32m    642\u001b[0m start \u001b[38;5;241m=\u001b[39m preferred_clock()\n\u001b[1;32m    644\u001b[0m \u001b[38;5;66;03m# Send the request\u001b[39;00m\n\u001b[0;32m--> 645\u001b[0m r \u001b[38;5;241m=\u001b[39m \u001b[43madapter\u001b[49m\u001b[38;5;241;43m.\u001b[39;49m\u001b[43msend\u001b[49m\u001b[43m(\u001b[49m\u001b[43mrequest\u001b[49m\u001b[43m,\u001b[49m\u001b[43m \u001b[49m\u001b[38;5;241;43m*\u001b[39;49m\u001b[38;5;241;43m*\u001b[39;49m\u001b[43mkwargs\u001b[49m\u001b[43m)\u001b[49m\n\u001b[1;32m    647\u001b[0m \u001b[38;5;66;03m# Total elapsed time of the request (approximately)\u001b[39;00m\n\u001b[1;32m    648\u001b[0m elapsed \u001b[38;5;241m=\u001b[39m preferred_clock() \u001b[38;5;241m-\u001b[39m start\n",
      "File \u001b[0;32m/usr/local/lib/python3.9/site-packages/requests/adapters.py:440\u001b[0m, in \u001b[0;36mHTTPAdapter.send\u001b[0;34m(self, request, stream, timeout, verify, cert, proxies)\u001b[0m\n\u001b[1;32m    438\u001b[0m \u001b[38;5;28;01mtry\u001b[39;00m:\n\u001b[1;32m    439\u001b[0m     \u001b[38;5;28;01mif\u001b[39;00m \u001b[38;5;129;01mnot\u001b[39;00m chunked:\n\u001b[0;32m--> 440\u001b[0m         resp \u001b[38;5;241m=\u001b[39m \u001b[43mconn\u001b[49m\u001b[38;5;241;43m.\u001b[39;49m\u001b[43murlopen\u001b[49m\u001b[43m(\u001b[49m\n\u001b[1;32m    441\u001b[0m \u001b[43m            \u001b[49m\u001b[43mmethod\u001b[49m\u001b[38;5;241;43m=\u001b[39;49m\u001b[43mrequest\u001b[49m\u001b[38;5;241;43m.\u001b[39;49m\u001b[43mmethod\u001b[49m\u001b[43m,\u001b[49m\n\u001b[1;32m    442\u001b[0m \u001b[43m            \u001b[49m\u001b[43murl\u001b[49m\u001b[38;5;241;43m=\u001b[39;49m\u001b[43murl\u001b[49m\u001b[43m,\u001b[49m\n\u001b[1;32m    443\u001b[0m \u001b[43m            \u001b[49m\u001b[43mbody\u001b[49m\u001b[38;5;241;43m=\u001b[39;49m\u001b[43mrequest\u001b[49m\u001b[38;5;241;43m.\u001b[39;49m\u001b[43mbody\u001b[49m\u001b[43m,\u001b[49m\n\u001b[1;32m    444\u001b[0m \u001b[43m            \u001b[49m\u001b[43mheaders\u001b[49m\u001b[38;5;241;43m=\u001b[39;49m\u001b[43mrequest\u001b[49m\u001b[38;5;241;43m.\u001b[39;49m\u001b[43mheaders\u001b[49m\u001b[43m,\u001b[49m\n\u001b[1;32m    445\u001b[0m \u001b[43m            \u001b[49m\u001b[43mredirect\u001b[49m\u001b[38;5;241;43m=\u001b[39;49m\u001b[38;5;28;43;01mFalse\u001b[39;49;00m\u001b[43m,\u001b[49m\n\u001b[1;32m    446\u001b[0m \u001b[43m            \u001b[49m\u001b[43massert_same_host\u001b[49m\u001b[38;5;241;43m=\u001b[39;49m\u001b[38;5;28;43;01mFalse\u001b[39;49;00m\u001b[43m,\u001b[49m\n\u001b[1;32m    447\u001b[0m \u001b[43m            \u001b[49m\u001b[43mpreload_content\u001b[49m\u001b[38;5;241;43m=\u001b[39;49m\u001b[38;5;28;43;01mFalse\u001b[39;49;00m\u001b[43m,\u001b[49m\n\u001b[1;32m    448\u001b[0m \u001b[43m            \u001b[49m\u001b[43mdecode_content\u001b[49m\u001b[38;5;241;43m=\u001b[39;49m\u001b[38;5;28;43;01mFalse\u001b[39;49;00m\u001b[43m,\u001b[49m\n\u001b[1;32m    449\u001b[0m \u001b[43m            \u001b[49m\u001b[43mretries\u001b[49m\u001b[38;5;241;43m=\u001b[39;49m\u001b[38;5;28;43mself\u001b[39;49m\u001b[38;5;241;43m.\u001b[39;49m\u001b[43mmax_retries\u001b[49m\u001b[43m,\u001b[49m\n\u001b[1;32m    450\u001b[0m \u001b[43m            \u001b[49m\u001b[43mtimeout\u001b[49m\u001b[38;5;241;43m=\u001b[39;49m\u001b[43mtimeout\u001b[49m\n\u001b[1;32m    451\u001b[0m \u001b[43m        \u001b[49m\u001b[43m)\u001b[49m\n\u001b[1;32m    453\u001b[0m     \u001b[38;5;66;03m# Send the request.\u001b[39;00m\n\u001b[1;32m    454\u001b[0m     \u001b[38;5;28;01melse\u001b[39;00m:\n\u001b[1;32m    455\u001b[0m         \u001b[38;5;28;01mif\u001b[39;00m \u001b[38;5;28mhasattr\u001b[39m(conn, \u001b[38;5;124m'\u001b[39m\u001b[38;5;124mproxy_pool\u001b[39m\u001b[38;5;124m'\u001b[39m):\n",
      "File \u001b[0;32m/usr/local/lib/python3.9/site-packages/urllib3/connectionpool.py:703\u001b[0m, in \u001b[0;36mHTTPConnectionPool.urlopen\u001b[0;34m(self, method, url, body, headers, retries, redirect, assert_same_host, timeout, pool_timeout, release_conn, chunked, body_pos, **response_kw)\u001b[0m\n\u001b[1;32m    700\u001b[0m     \u001b[38;5;28mself\u001b[39m\u001b[38;5;241m.\u001b[39m_prepare_proxy(conn)\n\u001b[1;32m    702\u001b[0m \u001b[38;5;66;03m# Make the request on the httplib connection object.\u001b[39;00m\n\u001b[0;32m--> 703\u001b[0m httplib_response \u001b[38;5;241m=\u001b[39m \u001b[38;5;28;43mself\u001b[39;49m\u001b[38;5;241;43m.\u001b[39;49m\u001b[43m_make_request\u001b[49m\u001b[43m(\u001b[49m\n\u001b[1;32m    704\u001b[0m \u001b[43m    \u001b[49m\u001b[43mconn\u001b[49m\u001b[43m,\u001b[49m\n\u001b[1;32m    705\u001b[0m \u001b[43m    \u001b[49m\u001b[43mmethod\u001b[49m\u001b[43m,\u001b[49m\n\u001b[1;32m    706\u001b[0m \u001b[43m    \u001b[49m\u001b[43murl\u001b[49m\u001b[43m,\u001b[49m\n\u001b[1;32m    707\u001b[0m \u001b[43m    \u001b[49m\u001b[43mtimeout\u001b[49m\u001b[38;5;241;43m=\u001b[39;49m\u001b[43mtimeout_obj\u001b[49m\u001b[43m,\u001b[49m\n\u001b[1;32m    708\u001b[0m \u001b[43m    \u001b[49m\u001b[43mbody\u001b[49m\u001b[38;5;241;43m=\u001b[39;49m\u001b[43mbody\u001b[49m\u001b[43m,\u001b[49m\n\u001b[1;32m    709\u001b[0m \u001b[43m    \u001b[49m\u001b[43mheaders\u001b[49m\u001b[38;5;241;43m=\u001b[39;49m\u001b[43mheaders\u001b[49m\u001b[43m,\u001b[49m\n\u001b[1;32m    710\u001b[0m \u001b[43m    \u001b[49m\u001b[43mchunked\u001b[49m\u001b[38;5;241;43m=\u001b[39;49m\u001b[43mchunked\u001b[49m\u001b[43m,\u001b[49m\n\u001b[1;32m    711\u001b[0m \u001b[43m\u001b[49m\u001b[43m)\u001b[49m\n\u001b[1;32m    713\u001b[0m \u001b[38;5;66;03m# If we're going to release the connection in ``finally:``, then\u001b[39;00m\n\u001b[1;32m    714\u001b[0m \u001b[38;5;66;03m# the response doesn't need to know about the connection. Otherwise\u001b[39;00m\n\u001b[1;32m    715\u001b[0m \u001b[38;5;66;03m# it will also try to release it and we'll have a double-release\u001b[39;00m\n\u001b[1;32m    716\u001b[0m \u001b[38;5;66;03m# mess.\u001b[39;00m\n\u001b[1;32m    717\u001b[0m response_conn \u001b[38;5;241m=\u001b[39m conn \u001b[38;5;28;01mif\u001b[39;00m \u001b[38;5;129;01mnot\u001b[39;00m release_conn \u001b[38;5;28;01melse\u001b[39;00m \u001b[38;5;28;01mNone\u001b[39;00m\n",
      "File \u001b[0;32m/usr/local/lib/python3.9/site-packages/urllib3/connectionpool.py:449\u001b[0m, in \u001b[0;36mHTTPConnectionPool._make_request\u001b[0;34m(self, conn, method, url, timeout, chunked, **httplib_request_kw)\u001b[0m\n\u001b[1;32m    444\u001b[0m             httplib_response \u001b[38;5;241m=\u001b[39m conn\u001b[38;5;241m.\u001b[39mgetresponse()\n\u001b[1;32m    445\u001b[0m         \u001b[38;5;28;01mexcept\u001b[39;00m \u001b[38;5;167;01mBaseException\u001b[39;00m \u001b[38;5;28;01mas\u001b[39;00m e:\n\u001b[1;32m    446\u001b[0m             \u001b[38;5;66;03m# Remove the TypeError from the exception chain in\u001b[39;00m\n\u001b[1;32m    447\u001b[0m             \u001b[38;5;66;03m# Python 3 (including for exceptions like SystemExit).\u001b[39;00m\n\u001b[1;32m    448\u001b[0m             \u001b[38;5;66;03m# Otherwise it looks like a bug in the code.\u001b[39;00m\n\u001b[0;32m--> 449\u001b[0m             \u001b[43msix\u001b[49m\u001b[38;5;241;43m.\u001b[39;49m\u001b[43mraise_from\u001b[49m\u001b[43m(\u001b[49m\u001b[43me\u001b[49m\u001b[43m,\u001b[49m\u001b[43m \u001b[49m\u001b[38;5;28;43;01mNone\u001b[39;49;00m\u001b[43m)\u001b[49m\n\u001b[1;32m    450\u001b[0m \u001b[38;5;28;01mexcept\u001b[39;00m (SocketTimeout, BaseSSLError, SocketError) \u001b[38;5;28;01mas\u001b[39;00m e:\n\u001b[1;32m    451\u001b[0m     \u001b[38;5;28mself\u001b[39m\u001b[38;5;241m.\u001b[39m_raise_timeout(err\u001b[38;5;241m=\u001b[39me, url\u001b[38;5;241m=\u001b[39murl, timeout_value\u001b[38;5;241m=\u001b[39mread_timeout)\n",
      "File \u001b[0;32m<string>:3\u001b[0m, in \u001b[0;36mraise_from\u001b[0;34m(value, from_value)\u001b[0m\n",
      "File \u001b[0;32m/usr/local/lib/python3.9/site-packages/urllib3/connectionpool.py:444\u001b[0m, in \u001b[0;36mHTTPConnectionPool._make_request\u001b[0;34m(self, conn, method, url, timeout, chunked, **httplib_request_kw)\u001b[0m\n\u001b[1;32m    441\u001b[0m \u001b[38;5;28;01mexcept\u001b[39;00m \u001b[38;5;167;01mTypeError\u001b[39;00m:\n\u001b[1;32m    442\u001b[0m     \u001b[38;5;66;03m# Python 3\u001b[39;00m\n\u001b[1;32m    443\u001b[0m     \u001b[38;5;28;01mtry\u001b[39;00m:\n\u001b[0;32m--> 444\u001b[0m         httplib_response \u001b[38;5;241m=\u001b[39m \u001b[43mconn\u001b[49m\u001b[38;5;241;43m.\u001b[39;49m\u001b[43mgetresponse\u001b[49m\u001b[43m(\u001b[49m\u001b[43m)\u001b[49m\n\u001b[1;32m    445\u001b[0m     \u001b[38;5;28;01mexcept\u001b[39;00m \u001b[38;5;167;01mBaseException\u001b[39;00m \u001b[38;5;28;01mas\u001b[39;00m e:\n\u001b[1;32m    446\u001b[0m         \u001b[38;5;66;03m# Remove the TypeError from the exception chain in\u001b[39;00m\n\u001b[1;32m    447\u001b[0m         \u001b[38;5;66;03m# Python 3 (including for exceptions like SystemExit).\u001b[39;00m\n\u001b[1;32m    448\u001b[0m         \u001b[38;5;66;03m# Otherwise it looks like a bug in the code.\u001b[39;00m\n\u001b[1;32m    449\u001b[0m         six\u001b[38;5;241m.\u001b[39mraise_from(e, \u001b[38;5;28;01mNone\u001b[39;00m)\n",
      "File \u001b[0;32m/usr/local/Cellar/python@3.9/3.9.12/Frameworks/Python.framework/Versions/3.9/lib/python3.9/http/client.py:1377\u001b[0m, in \u001b[0;36mHTTPConnection.getresponse\u001b[0;34m(self)\u001b[0m\n\u001b[1;32m   1375\u001b[0m \u001b[38;5;28;01mtry\u001b[39;00m:\n\u001b[1;32m   1376\u001b[0m     \u001b[38;5;28;01mtry\u001b[39;00m:\n\u001b[0;32m-> 1377\u001b[0m         \u001b[43mresponse\u001b[49m\u001b[38;5;241;43m.\u001b[39;49m\u001b[43mbegin\u001b[49m\u001b[43m(\u001b[49m\u001b[43m)\u001b[49m\n\u001b[1;32m   1378\u001b[0m     \u001b[38;5;28;01mexcept\u001b[39;00m \u001b[38;5;167;01mConnectionError\u001b[39;00m:\n\u001b[1;32m   1379\u001b[0m         \u001b[38;5;28mself\u001b[39m\u001b[38;5;241m.\u001b[39mclose()\n",
      "File \u001b[0;32m/usr/local/Cellar/python@3.9/3.9.12/Frameworks/Python.framework/Versions/3.9/lib/python3.9/http/client.py:320\u001b[0m, in \u001b[0;36mHTTPResponse.begin\u001b[0;34m(self)\u001b[0m\n\u001b[1;32m    318\u001b[0m \u001b[38;5;66;03m# read until we get a non-100 response\u001b[39;00m\n\u001b[1;32m    319\u001b[0m \u001b[38;5;28;01mwhile\u001b[39;00m \u001b[38;5;28;01mTrue\u001b[39;00m:\n\u001b[0;32m--> 320\u001b[0m     version, status, reason \u001b[38;5;241m=\u001b[39m \u001b[38;5;28;43mself\u001b[39;49m\u001b[38;5;241;43m.\u001b[39;49m\u001b[43m_read_status\u001b[49m\u001b[43m(\u001b[49m\u001b[43m)\u001b[49m\n\u001b[1;32m    321\u001b[0m     \u001b[38;5;28;01mif\u001b[39;00m status \u001b[38;5;241m!=\u001b[39m CONTINUE:\n\u001b[1;32m    322\u001b[0m         \u001b[38;5;28;01mbreak\u001b[39;00m\n",
      "File \u001b[0;32m/usr/local/Cellar/python@3.9/3.9.12/Frameworks/Python.framework/Versions/3.9/lib/python3.9/http/client.py:281\u001b[0m, in \u001b[0;36mHTTPResponse._read_status\u001b[0;34m(self)\u001b[0m\n\u001b[1;32m    280\u001b[0m \u001b[38;5;28;01mdef\u001b[39;00m \u001b[38;5;21m_read_status\u001b[39m(\u001b[38;5;28mself\u001b[39m):\n\u001b[0;32m--> 281\u001b[0m     line \u001b[38;5;241m=\u001b[39m \u001b[38;5;28mstr\u001b[39m(\u001b[38;5;28;43mself\u001b[39;49m\u001b[38;5;241;43m.\u001b[39;49m\u001b[43mfp\u001b[49m\u001b[38;5;241;43m.\u001b[39;49m\u001b[43mreadline\u001b[49m\u001b[43m(\u001b[49m\u001b[43m_MAXLINE\u001b[49m\u001b[43m \u001b[49m\u001b[38;5;241;43m+\u001b[39;49m\u001b[43m \u001b[49m\u001b[38;5;241;43m1\u001b[39;49m\u001b[43m)\u001b[49m, \u001b[38;5;124m\"\u001b[39m\u001b[38;5;124miso-8859-1\u001b[39m\u001b[38;5;124m\"\u001b[39m)\n\u001b[1;32m    282\u001b[0m     \u001b[38;5;28;01mif\u001b[39;00m \u001b[38;5;28mlen\u001b[39m(line) \u001b[38;5;241m>\u001b[39m _MAXLINE:\n\u001b[1;32m    283\u001b[0m         \u001b[38;5;28;01mraise\u001b[39;00m LineTooLong(\u001b[38;5;124m\"\u001b[39m\u001b[38;5;124mstatus line\u001b[39m\u001b[38;5;124m\"\u001b[39m)\n",
      "File \u001b[0;32m/usr/local/Cellar/python@3.9/3.9.12/Frameworks/Python.framework/Versions/3.9/lib/python3.9/socket.py:704\u001b[0m, in \u001b[0;36mSocketIO.readinto\u001b[0;34m(self, b)\u001b[0m\n\u001b[1;32m    702\u001b[0m \u001b[38;5;28;01mwhile\u001b[39;00m \u001b[38;5;28;01mTrue\u001b[39;00m:\n\u001b[1;32m    703\u001b[0m     \u001b[38;5;28;01mtry\u001b[39;00m:\n\u001b[0;32m--> 704\u001b[0m         \u001b[38;5;28;01mreturn\u001b[39;00m \u001b[38;5;28;43mself\u001b[39;49m\u001b[38;5;241;43m.\u001b[39;49m\u001b[43m_sock\u001b[49m\u001b[38;5;241;43m.\u001b[39;49m\u001b[43mrecv_into\u001b[49m\u001b[43m(\u001b[49m\u001b[43mb\u001b[49m\u001b[43m)\u001b[49m\n\u001b[1;32m    705\u001b[0m     \u001b[38;5;28;01mexcept\u001b[39;00m timeout:\n\u001b[1;32m    706\u001b[0m         \u001b[38;5;28mself\u001b[39m\u001b[38;5;241m.\u001b[39m_timeout_occurred \u001b[38;5;241m=\u001b[39m \u001b[38;5;28;01mTrue\u001b[39;00m\n",
      "File \u001b[0;32m/usr/local/Cellar/python@3.9/3.9.12/Frameworks/Python.framework/Versions/3.9/lib/python3.9/ssl.py:1241\u001b[0m, in \u001b[0;36mSSLSocket.recv_into\u001b[0;34m(self, buffer, nbytes, flags)\u001b[0m\n\u001b[1;32m   1237\u001b[0m     \u001b[38;5;28;01mif\u001b[39;00m flags \u001b[38;5;241m!=\u001b[39m \u001b[38;5;241m0\u001b[39m:\n\u001b[1;32m   1238\u001b[0m         \u001b[38;5;28;01mraise\u001b[39;00m \u001b[38;5;167;01mValueError\u001b[39;00m(\n\u001b[1;32m   1239\u001b[0m           \u001b[38;5;124m\"\u001b[39m\u001b[38;5;124mnon-zero flags not allowed in calls to recv_into() on \u001b[39m\u001b[38;5;132;01m%s\u001b[39;00m\u001b[38;5;124m\"\u001b[39m \u001b[38;5;241m%\u001b[39m\n\u001b[1;32m   1240\u001b[0m           \u001b[38;5;28mself\u001b[39m\u001b[38;5;241m.\u001b[39m\u001b[38;5;18m__class__\u001b[39m)\n\u001b[0;32m-> 1241\u001b[0m     \u001b[38;5;28;01mreturn\u001b[39;00m \u001b[38;5;28;43mself\u001b[39;49m\u001b[38;5;241;43m.\u001b[39;49m\u001b[43mread\u001b[49m\u001b[43m(\u001b[49m\u001b[43mnbytes\u001b[49m\u001b[43m,\u001b[49m\u001b[43m \u001b[49m\u001b[43mbuffer\u001b[49m\u001b[43m)\u001b[49m\n\u001b[1;32m   1242\u001b[0m \u001b[38;5;28;01melse\u001b[39;00m:\n\u001b[1;32m   1243\u001b[0m     \u001b[38;5;28;01mreturn\u001b[39;00m \u001b[38;5;28msuper\u001b[39m()\u001b[38;5;241m.\u001b[39mrecv_into(buffer, nbytes, flags)\n",
      "File \u001b[0;32m/usr/local/Cellar/python@3.9/3.9.12/Frameworks/Python.framework/Versions/3.9/lib/python3.9/ssl.py:1099\u001b[0m, in \u001b[0;36mSSLSocket.read\u001b[0;34m(self, len, buffer)\u001b[0m\n\u001b[1;32m   1097\u001b[0m \u001b[38;5;28;01mtry\u001b[39;00m:\n\u001b[1;32m   1098\u001b[0m     \u001b[38;5;28;01mif\u001b[39;00m buffer \u001b[38;5;129;01mis\u001b[39;00m \u001b[38;5;129;01mnot\u001b[39;00m \u001b[38;5;28;01mNone\u001b[39;00m:\n\u001b[0;32m-> 1099\u001b[0m         \u001b[38;5;28;01mreturn\u001b[39;00m \u001b[38;5;28;43mself\u001b[39;49m\u001b[38;5;241;43m.\u001b[39;49m\u001b[43m_sslobj\u001b[49m\u001b[38;5;241;43m.\u001b[39;49m\u001b[43mread\u001b[49m\u001b[43m(\u001b[49m\u001b[38;5;28;43mlen\u001b[39;49m\u001b[43m,\u001b[49m\u001b[43m \u001b[49m\u001b[43mbuffer\u001b[49m\u001b[43m)\u001b[49m\n\u001b[1;32m   1100\u001b[0m     \u001b[38;5;28;01melse\u001b[39;00m:\n\u001b[1;32m   1101\u001b[0m         \u001b[38;5;28;01mreturn\u001b[39;00m \u001b[38;5;28mself\u001b[39m\u001b[38;5;241m.\u001b[39m_sslobj\u001b[38;5;241m.\u001b[39mread(\u001b[38;5;28mlen\u001b[39m)\n",
      "\u001b[0;31mKeyboardInterrupt\u001b[0m: "
     ]
    }
   ],
   "source": [
    "archive_links(unique_link_reports)"
   ]
  },
  {
   "cell_type": "markdown",
   "id": "5f12772d",
   "metadata": {},
   "source": [
    "We can generate screenshots for the links:"
   ]
  },
  {
   "cell_type": "code",
   "execution_count": 61,
   "id": "65ae4dc4",
   "metadata": {},
   "outputs": [],
   "source": [
    "def screenshot_grabber(link_reports, include=None, exclude=None):\n",
    "    \"\"\"Grab screenshots for links.\"\"\"\n",
    "    import unicodedata\n",
    "    import string\n",
    "\n",
    "    valid_filename_chars = \"-_.() %s%s\" % (string.ascii_letters, string.digits)\n",
    "    char_limit = 255\n",
    "\n",
    "    def clean_filename(filename, whitelist=valid_filename_chars, replace=None):\n",
    "        # replace spaces and . by default\n",
    "        replace = [\" \", \".\"] if replace is None else replace\n",
    "        filename = filename.split(\"://\")[-1]\n",
    "        for r in replace:\n",
    "            filename = filename.replace(r, '_')\n",
    "\n",
    "        # keep only valid ascii chars\n",
    "        cleaned_filename = unicodedata.normalize('NFKD', filename).encode('ASCII', 'ignore').decode()\n",
    "\n",
    "        # keep only whitelisted chars\n",
    "        cleaned_filename = ''.join(c for c in cleaned_filename if c in whitelist)\n",
    "        if len(cleaned_filename)>char_limit:\n",
    "            print(\"Warning, filename truncated because it was over {}. Filenames may no longer be unique\".format(char_limit))\n",
    "        return cleaned_filename[:char_limit]\n",
    "\n",
    "    links, excluded_url, not_valid_url = get_valid_links(link_reports, include, exclude)\n",
    "    \n",
    "    from playwright.sync_api import sync_playwright\n",
    "    img_path = \"grab_link_screenshots\"\n",
    "    p = Path(img_path)\n",
    "    p.mkdir(parents=True, exist_ok=True)\n",
    "    with sync_playwright() as p:\n",
    "        browser = p.webkit.launch()\n",
    "        page = browser.new_page()\n",
    "        for shot_url in links:\n",
    "            try:\n",
    "                page.goto(shot_url)\n",
    "                page.screenshot(path=Path(img_path) / f\"{clean_filename(shot_url)}.png\")\n",
    "            except:\n",
    "                print(f\"\\t- failed to grab screenshot for {shot_url}\")\n",
    "        browser.close()\n",
    "        print(f\"\\nScreenshots saved to {img_path}\")"
   ]
  },
  {
   "cell_type": "code",
   "execution_count": 62,
   "id": "ac52fa0f",
   "metadata": {
    "tags": [
     "active-ipynb"
    ]
   },
   "outputs": [
    {
     "name": "stdout",
     "output_type": "stream",
     "text": [
      "Finding valid links for this process...\n"
     ]
    },
    {
     "ename": "Error",
     "evalue": "It looks like you are using Playwright Sync API inside the asyncio loop.\nPlease use the Async API instead.",
     "output_type": "error",
     "traceback": [
      "\u001b[0;31m---------------------------------------------------------------------------\u001b[0m",
      "\u001b[0;31mError\u001b[0m                                     Traceback (most recent call last)",
      "Input \u001b[0;32mIn [62]\u001b[0m, in \u001b[0;36m<cell line: 1>\u001b[0;34m()\u001b[0m\n\u001b[0;32m----> 1\u001b[0m \u001b[43mscreenshot_grabber\u001b[49m\u001b[43m(\u001b[49m\u001b[43munique_link_reports\u001b[49m\u001b[43m)\u001b[49m\n",
      "Input \u001b[0;32mIn [61]\u001b[0m, in \u001b[0;36mscreenshot_grabber\u001b[0;34m(link_reports, include, exclude)\u001b[0m\n\u001b[1;32m     28\u001b[0m p \u001b[38;5;241m=\u001b[39m Path(img_path)\n\u001b[1;32m     29\u001b[0m p\u001b[38;5;241m.\u001b[39mmkdir(parents\u001b[38;5;241m=\u001b[39m\u001b[38;5;28;01mTrue\u001b[39;00m, exist_ok\u001b[38;5;241m=\u001b[39m\u001b[38;5;28;01mTrue\u001b[39;00m)\n\u001b[0;32m---> 30\u001b[0m \u001b[38;5;28;01mwith\u001b[39;00m sync_playwright() \u001b[38;5;28;01mas\u001b[39;00m p:\n\u001b[1;32m     31\u001b[0m     browser \u001b[38;5;241m=\u001b[39m p\u001b[38;5;241m.\u001b[39mwebkit\u001b[38;5;241m.\u001b[39mlaunch()\n\u001b[1;32m     32\u001b[0m     page \u001b[38;5;241m=\u001b[39m browser\u001b[38;5;241m.\u001b[39mnew_page()\n",
      "File \u001b[0;32m/usr/local/lib/python3.9/site-packages/playwright/sync_api/_context_manager.py:42\u001b[0m, in \u001b[0;36mPlaywrightContextManager.__enter__\u001b[0;34m(self)\u001b[0m\n\u001b[1;32m     40\u001b[0m             own_loop \u001b[38;5;241m=\u001b[39m loop\n\u001b[1;32m     41\u001b[0m         \u001b[38;5;28;01mif\u001b[39;00m loop\u001b[38;5;241m.\u001b[39mis_running():\n\u001b[0;32m---> 42\u001b[0m             \u001b[38;5;28;01mraise\u001b[39;00m Error(\n\u001b[1;32m     43\u001b[0m                 \u001b[38;5;124;03m\"\"\"It looks like you are using Playwright Sync API inside the asyncio loop.\u001b[39;00m\n\u001b[1;32m     44\u001b[0m \u001b[38;5;124;03mPlease use the Async API instead.\"\"\"\u001b[39;00m\n\u001b[1;32m     45\u001b[0m             )\n\u001b[1;32m     47\u001b[0m         \u001b[38;5;28;01mdef\u001b[39;00m \u001b[38;5;21mgreenlet_main\u001b[39m() \u001b[38;5;241m-\u001b[39m\u001b[38;5;241m>\u001b[39m \u001b[38;5;28;01mNone\u001b[39;00m:\n\u001b[1;32m     48\u001b[0m             loop\u001b[38;5;241m.\u001b[39mrun_until_complete(\u001b[38;5;28mself\u001b[39m\u001b[38;5;241m.\u001b[39m_connection\u001b[38;5;241m.\u001b[39mrun_as_sync())\n",
      "\u001b[0;31mError\u001b[0m: It looks like you are using Playwright Sync API inside the asyncio loop.\nPlease use the Async API instead."
     ]
    }
   ],
   "source": [
    "#screenshot_grabber(unique_link_reports)"
   ]
  },
  {
   "cell_type": "markdown",
   "id": "20513859",
   "metadata": {},
   "source": [
    "We can generate the link status report for links extracted from one or more files, optionally calling the archiver, using the following function:"
   ]
  },
  {
   "cell_type": "code",
   "execution_count": 29,
   "id": "practical-wrist",
   "metadata": {},
   "outputs": [],
   "source": [
    "def link_check_reporter(path,\n",
    "                        archive=False,\n",
    "                        strong_archive=False,\n",
    "                        grab_screenshots=False,\n",
    "                        display=False, redirect_log=True):\n",
    "    \"\"\"Run link checks.\"\"\"\n",
    "    print(\"Getting files...\")\n",
    "    docs = get_xml_files(path)\n",
    "    doc_links, unique_links = extract_links_from_docs(docs)\n",
    "\n",
    "    print(\"Getting link statuses for each document section...\")\n",
    "    link_reports, bad_link_reports, unique_link_reports = link_reporter_by_docs(doc_links)\n",
    "\n",
    "    print(\"Writing status reports...\")\n",
    "    with open('all_links_report.json', 'w') as f:\n",
    "        json.dump(link_reports, f)\n",
    "    with open('broken_links_report.json', 'w') as f:\n",
    "        json.dump(bad_link_reports, f)\n",
    "    simple_csv_report(bad_link_reports, outf='broken_links_report.csv')\n",
    "\n",
    "    if archive or strong_archive:\n",
    "        print(\"Archiving links...\")\n",
    "        if strong_archive:\n",
    "            archive_links(unique_link_reports, exclude=[404])\n",
    "        elif archive:\n",
    "            archive_links(unique_link_reports, include=[200])\n",
    "\n",
    "    if grab_screenshots:\n",
    "        print(\"Screengrabbing links...\")\n",
    "        screenshot_grabber(unique_link_reports, include=None, exclude=None)"
   ]
  },
  {
   "cell_type": "code",
   "execution_count": null,
   "id": "7b424290",
   "metadata": {},
   "outputs": [],
   "source": []
  }
 ],
 "metadata": {
  "celltoolbar": "Tags",
  "jupytext": {
   "formats": "ipynb,ouxml_link_checker//py:light"
  },
  "kernelspec": {
   "display_name": "Python 3 (ipykernel)",
   "language": "python",
   "name": "python3"
  },
  "language_info": {
   "codemirror_mode": {
    "name": "ipython",
    "version": 3
   },
   "file_extension": ".py",
   "mimetype": "text/x-python",
   "name": "python",
   "nbconvert_exporter": "python",
   "pygments_lexer": "ipython3",
   "version": "3.9.12"
  }
 },
 "nbformat": 4,
 "nbformat_minor": 5
}
