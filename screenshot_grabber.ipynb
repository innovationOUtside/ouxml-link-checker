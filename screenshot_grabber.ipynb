{
 "cells": [
  {
   "cell_type": "markdown",
   "id": "bizarre-patient",
   "metadata": {},
   "source": [
    "# Screenshot Grabber\n",
    "\n",
    "Grab screenshot of linked page and save it as an image.\n",
    "\n",
    "One of the issues with embedding links in long-lived educational materials to third party web resources is that the pages being referred to can disappear over time.\n",
    "\n",
    "For someone perhaps new to a coure tasked with repairing of finding replacements for broken links, it may not be immediately obvious from text what the intention was in including a link to a particular resource. Submitting the original link to a web archiving service during production means that there is a chance of being able to revisit a version of the site from the time it was originally linked to, although with sites increasingly heavily dependent on Javascript and dynamic page construction, there are no guarantees that an archived page will work or look anything like the original version.\n",
    "\n",
    "Whilst archiving pages using third party services means we stand a chance of providing a \"backup\" link to students in the event of link breaking, an issue still remains about how best to support a module team looking for a replacement resource if the original has disappeared.\n",
    "\n",
    "Another approach is to just grab a screenshot of the original linked resource and retain it as a local archival copy that can be used for internal reference purposes.\n",
    "\n",
    "Note that if the linked resource were actually a landing page that provides a gateway to one or more other pages, a screenshot of just the landing page, and not views linked from that page, will not help us recall the original views that were perhaps the point of linked resource. (That said, in some cases, we may have generated screenshots or screencasts within the course material showing the journey through or from the linked resource. Generally, it would be useful to record, even informally, a screencast for reference purposes showing the intended usage of a linked resource if it is an application, for example.)\n",
    "\n",
    "The tool described in this recipe uses browser automation to load the resolved URL into a headless web browser (which is to say, a browser running in the background and not displaying itself on a screen).\n",
    "\n",
    "Note that grabbing screenshots requires the installation (or availability) of a web browser, as well as the browser automation tools (using selenium) which are not required for simple link checking. "
   ]
  },
  {
   "cell_type": "markdown",
   "id": "active-disclosure",
   "metadata": {},
   "source": [
    "### Setup the webdriver\n",
    "\n",
    "We can automate installation of a browser webdriver using the `webdriver-manager` package:"
   ]
  },
  {
   "cell_type": "code",
   "execution_count": null,
   "id": "golden-bottom",
   "metadata": {},
   "outputs": [],
   "source": [
    "# Required packages:\n",
    "#%pip install selenium  webdriver-manager"
   ]
  },
  {
   "cell_type": "code",
   "execution_count": 11,
   "id": "careful-philadelphia",
   "metadata": {},
   "outputs": [
    {
     "name": "stderr",
     "output_type": "stream",
     "text": [
      "\n",
      "\n",
      "====== WebDriver manager ======\n",
      "Current firefox version is 88.0\n",
      "Get LATEST driver version for 88.0\n",
      "Driver [/Users/tonyhirst/.wdm/drivers/geckodriver/macos/v0.29.1/geckodriver] found in cache\n"
     ]
    }
   ],
   "source": [
    "\n",
    "from selenium import webdriver\n",
    "from webdriver_manager.firefox import GeckoDriverManager\n",
    "\n",
    "driver = webdriver.Firefox(executable_path=GeckoDriverManager().install())"
   ]
  },
  {
   "cell_type": "code",
   "execution_count": 12,
   "id": "gothic-nomination",
   "metadata": {},
   "outputs": [],
   "source": [
    "driver.close()"
   ]
  },
  {
   "cell_type": "code",
   "execution_count": null,
   "id": "possible-emperor",
   "metadata": {},
   "outputs": [],
   "source": [
    "#https://pypi.org/project/webdriver-manager/\n",
    "from webdriver_manager.chrome import ChromeDriverManager\n",
    "\n",
    "driver = webdriver.Chrome(ChromeDriverManager().install())"
   ]
  },
  {
   "cell_type": "code",
   "execution_count": null,
   "id": "right-sapphire",
   "metadata": {},
   "outputs": [],
   "source": [
    "# Should we really support all browsers?\n",
    "# webdriver_manager can handle\n",
    "\n",
    "def webdriver_fetch(browser='Firefox'):\n",
    "    \"\"\"Fetch (and install if required) required webdriver.\"\"\"\n",
    "    supported_browsers = [b.lower() for b in ['firefox' 'chrome', 'ie', 'edge', 'chromium', 'opera']]\n",
    "    browser = browser.lower()\n",
    "    if browser not in supported_browsers:\n",
    "        print(f\"Browser *{browser}* is not supported. Use one of {', '.join(supported_browsers)}\")\n",
    "    elif browser=='chrome':\n",
    "        driver = webdriver.Chrome(ChromeDriverManager().install())\n",
    "    else:\n",
    "        # Which makes the first check redundant...\n",
    "        print(f\"Browser *{browser}* is not supported. Use one of {', '.join(supported_browsers)}\")\n",
    "        "
   ]
  },
  {
   "cell_type": "code",
   "execution_count": null,
   "id": "preceding-aberdeen",
   "metadata": {},
   "outputs": [],
   "source": [
    "# Chrome\n",
    "from selenium import webdriver\n",
    "from webdriver_manager.chrome import ChromeDriverManager\n",
    "\n",
    "driver = webdriver.Chrome(ChromeDriverManager().install())"
   ]
  },
  {
   "cell_type": "code",
   "execution_count": null,
   "id": "medium-conservative",
   "metadata": {},
   "outputs": [],
   "source": [
    "#opera\n",
    "rom webdriver_manager.opera import OperaDriverManager\n",
    "\n",
    "driver = webdriver.Opera(executable_path=OperaDriverManager().install())"
   ]
  },
  {
   "cell_type": "code",
   "execution_count": null,
   "id": "earned-country",
   "metadata": {},
   "outputs": [],
   "source": [
    "from selenium import webdriver\n",
    "from webdriver_manager.firefox import GeckoDriverManager\n",
    "\n",
    "driver = webdriver.Firefox(executable_path=GeckoDriverManager().install())"
   ]
  },
  {
   "cell_type": "code",
   "execution_count": null,
   "id": "uniform-title",
   "metadata": {},
   "outputs": [],
   "source": [
    "edge\n",
    "rom webdriver_manager.microsoft import EdgeChromiumDriverManager\n",
    "\n",
    "driver = webdriver.Edge(EdgeChromiumDriverManager().install())"
   ]
  },
  {
   "cell_type": "code",
   "execution_count": null,
   "id": "characteristic-cuisine",
   "metadata": {},
   "outputs": [],
   "source": [
    "#ie\n",
    "from selenium import webdriver\n",
    "from webdriver_manager.microsoft import IEDriverManager\n",
    "\n",
    "driver = webdriver.Ie(IEDriverManager().install())"
   ]
  },
  {
   "cell_type": "code",
   "execution_count": null,
   "id": "disturbed-factor",
   "metadata": {},
   "outputs": [],
   "source": [
    "# chromoum\n",
    "from webdriver_manager.chrome import ChromeDriverManager\n",
    "from webdriver_manager.utils import ChromeType\n",
    "\n",
    "driver = webdriver.Chrome(ChromeDriverManager(chrome_type=ChromeType.CHROMIUM).install())"
   ]
  },
  {
   "cell_type": "code",
   "execution_count": null,
   "id": "fundamental-concord",
   "metadata": {},
   "outputs": [],
   "source": [
    "#Via https://stackoverflow.com/a/52572919/454773\n",
    "def setup_screenshot(driver,path):\n",
    "    # Ref: https://stackoverflow.com/a/52572919/\n",
    "    original_size = driver.get_window_size()\n",
    "    required_width = driver.execute_script('return document.body.parentNode.scrollWidth')\n",
    "    required_height = driver.execute_script('return document.body.parentNode.scrollHeight')\n",
    "    driver.set_window_size(required_width, required_height)\n",
    "    # driver.save_screenshot(path)  # has scrollbar\n",
    "    driver.find_element_by_tag_name('body').screenshot(path)  # avoids scrollbar\n",
    "    driver.set_window_size(original_size['width'], original_size['height'])"
   ]
  },
  {
   "cell_type": "code",
   "execution_count": null,
   "id": "level-queensland",
   "metadata": {},
   "outputs": [],
   "source": [
    "def init_browser(scale_factor=2, headless=True, browser_type='firefox'):\n",
    "    if browser_type=='chrome':\n",
    "        opt = webdriver.ChromeOptions()\n",
    "        opt.add_argument('--force-device-scale-factor={}'.format(scale_factor))\n",
    "        if headless:\n",
    "            opt.add_argument('headless')\n",
    "\n",
    "        browser = webdriver.Chrome(options=opt)\n",
    "        \n",
    "    elif browser_type=='firefox':\n",
    "        #print('using firefox')\n",
    "        from selenium.webdriver.firefox.options import Options\n",
    "\n",
    "        opt = Options()\n",
    "        if headless:\n",
    "            opt.headless = True\n",
    "\n",
    "        browser = webdriver.Firefox(options=opt)\n",
    "    \n",
    "    return browser\n",
    "    \n",
    "def getTableImage(url, fn='dummy_table', basepath='.', path='.',\n",
    "                  delay=None, scale_factor=2, height=420, width=800, headless=True,\n",
    "                  logging=False, browser=None):\n",
    "    ''' Render HTML file in browser and grab a screenshot. '''\n",
    "    \n",
    "    #options = Options()\n",
    "    #options.headless = True\n",
    "\n",
    "    if browser is None:\n",
    "        browser = init_browser(scale_factor=scale_factor,\n",
    "                               headless=headless)\n",
    "        reset_browser = True\n",
    "    else:\n",
    "        reset_browser = False\n",
    "\n",
    "    #browser.set_window_size(width, height)\n",
    "    browser.get(url)\n",
    "    #Give the map tiles some time to load\n",
    "    #Should really do this with some sort of browseronload check\n",
    "    if delay is not None:\n",
    "        time.sleep(delay)\n",
    "    imgpath='{}/{}.png'.format(path,fn)\n",
    "    imgfn = '{}/{}'.format(basepath, imgpath)\n",
    "    imgfile = '{}/{}'.format(os.getcwd(),imgfn)\n",
    "    \n",
    "    setup_screenshot(browser,imgfile)\n",
    "    \n",
    "    if reset_browser:\n",
    "        browser.quit()\n",
    "        \n",
    "    os.remove(imgfile.replace('.png','.html'))\n",
    "    if logging:\n",
    "        print(\"Save to {}\".format(imgfn))\n",
    "    return imgpath"
   ]
  },
  {
   "cell_type": "code",
   "execution_count": null,
   "id": "commercial-synthesis",
   "metadata": {},
   "outputs": [],
   "source": [
    "def getTablePNG(tablehtml, basepath='.', path='testpng',\n",
    "                fnstub='testhtml', scale_factor=2,\n",
    "                browser=None):\n",
    "    ''' Save HTML table as file. '''\n",
    "    if not os.path.exists(path):\n",
    "        os.makedirs('{}/{}'.format(basepath, path))\n",
    "    fn='{cwd}/{basepath}/{path}/{fn}.html'.format(cwd=os.getcwd(), \n",
    "                                                  basepath=basepath, path=path,\n",
    "                                                  fn=fnstub)\n",
    "    tmpurl='file://{fn}'.format(fn=fn)\n",
    "    with open(fn, 'w') as out:\n",
    "        out.write(tablehtml)\n",
    "    return getTableImage(tmpurl, fnstub, basepath, path,\n",
    "                         scale_factor=scale_factor, browser=browser)"
   ]
  }
 ],
 "metadata": {
  "kernelspec": {
   "display_name": "Python 3",
   "language": "python",
   "name": "python3"
  },
  "language_info": {
   "codemirror_mode": {
    "name": "ipython",
    "version": 3
   },
   "file_extension": ".py",
   "mimetype": "text/x-python",
   "name": "python",
   "nbconvert_exporter": "python",
   "pygments_lexer": "ipython3",
   "version": "3.9.4"
  }
 },
 "nbformat": 4,
 "nbformat_minor": 5
}
