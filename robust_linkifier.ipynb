{
 "cells": [
  {
   "cell_type": "markdown",
   "id": "serial-productivity",
   "metadata": {},
   "source": [
    "# Robust Linkifier\n",
    "\n",
    "One of the issues with embedding links in long-lived educational materials to third party web resources is that the links can break over time.\n"
   ]
  }
 ],
 "metadata": {
  "kernelspec": {
   "display_name": "Python 3",
   "language": "python",
   "name": "python3"
  },
  "language_info": {
   "codemirror_mode": {
    "name": "ipython",
    "version": 3
   },
   "file_extension": ".py",
   "mimetype": "text/x-python",
   "name": "python",
   "nbconvert_exporter": "python",
   "pygments_lexer": "ipython3",
   "version": "3.9.4"
  }
 },
 "nbformat": 4,
 "nbformat_minor": 5
}
